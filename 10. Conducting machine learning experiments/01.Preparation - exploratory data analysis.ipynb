{
 "cells": [
  {
   "cell_type": "code",
   "execution_count": 1,
   "metadata": {},
   "outputs": [],
   "source": [
    "#@title MIT License\n",
    "#\n",
    "# Copyright (c) 2020 Balázs Pintér \n",
    "#\n",
    "# Permission is hereby granted, free of charge, to any person obtaining a\n",
    "# copy of this software and associated documentation files (the \"Software\"),\n",
    "# to deal in the Software without restriction, including without limitation\n",
    "# the rights to use, copy, modify, merge, publish, distribute, sublicense,\n",
    "# and/or sell copies of the Software, and to permit persons to whom the\n",
    "# Software is furnished to do so, subject to the following conditions:\n",
    "#\n",
    "# The above copyright notice and this permission notice shall be included in\n",
    "# all copies or substantial portions of the Software.\n",
    "#\n",
    "# THE SOFTWARE IS PROVIDED \"AS IS\", WITHOUT WARRANTY OF ANY KIND, EXPRESS OR\n",
    "# IMPLIED, INCLUDING BUT NOT LIMITED TO THE WARRANTIES OF MERCHANTABILITY,\n",
    "# FITNESS FOR A PARTICULAR PURPOSE AND NONINFRINGEMENT. IN NO EVENT SHALL\n",
    "# THE AUTHORS OR COPYRIGHT HOLDERS BE LIABLE FOR ANY CLAIM, DAMAGES OR OTHER\n",
    "# LIABILITY, WHETHER IN AN ACTION OF CONTRACT, TORT OR OTHERWISE, ARISING\n",
    "# FROM, OUT OF OR IN CONNECTION WITH THE SOFTWARE OR THE USE OR OTHER\n",
    "# DEALINGS IN THE SOFTWARE."
   ]
  },
  {
   "cell_type": "code",
   "execution_count": 2,
   "metadata": {},
   "outputs": [],
   "source": [
    "import matplotlib.pyplot as plt\n",
    "import numpy as np\n",
    "from sklearn.datasets import fetch_20newsgroups\n",
    "from collections import Counter\n",
    "import nltk\n",
    "from itertools import islice\n",
    "import scipy.sparse as sps"
   ]
  },
  {
   "cell_type": "markdown",
   "metadata": {},
   "source": [
    "# Getting a corpus"
   ]
  },
  {
   "cell_type": "code",
   "execution_count": 3,
   "metadata": {},
   "outputs": [],
   "source": [
    "dataset = fetch_20newsgroups(shuffle=True, random_state=1,\n",
    "                             remove=('headers', 'footers', 'quotes'))"
   ]
  },
  {
   "cell_type": "markdown",
   "metadata": {},
   "source": [
    "# What's in the corpus?"
   ]
  },
  {
   "cell_type": "code",
   "execution_count": 4,
   "metadata": {},
   "outputs": [
    {
     "data": {
      "text/plain": [
       "['\\nI\\'ve been a very intent NREN spectator of the NREN for years.  As a \\ncommercial IP software vendor, it really is my professional opinion that the \\nNREN, at this point, is irrelevant to private sector networking.  If it had \\nbeen deployed five years ago, it would have been a major development.  Now,\\nhowever, it\\'s just an upgrade to the NSFnet, and an attempt to revive the \\nlagging use of the national supercomputer centers.  You could cut out the \\nNSFnet completely, and the Internet would continue chugging along without a \\nhiccup (aside from a few universities).\\n\\nLong-haul networking and Internet connectivity have long since ceased to be \\nunder federal sponsorship or regulation, at least in the USA.  The success of \\nthe CIX (Commercial Internet Exchange) is a prime example of this.  While our \\ndear VP has been promoting his \"data superhighway,\" the private sector has \\nbeen building it, without the NSFnet\\'s restrictions.\\n\\nTo illustrate, a connection from the machine on my desk to the machine your \\narticle was posted from (pizzabox.demon.co.uk) involves *only* commercial IP \\nproviders until it hits Amsterdam.  No NSFnet.  No NREN.  No \"appropriate \\nuse\" restrictions.  It\\'s even 1.544mbps (T1) until it hits the EUnet \\ngateway...\\n\\nQED.\\n',\n",
       " '\\nThe Fluke 87 beeps at you if you try to take it out of a current measuring\\nrange while there is still a lead plugged in to the current sense socket.\\n\\n... this should solve your problem - unless you are in a noisy environment.\\n\\nJohnH\\n\\n----------------------------------------------------------------------------\\n\\n      |  _  |_   _   |_|  _   _|  _|              Electronics Department\\n    |_| (_) | | | |  | | (_| (_| (_| \\\\/           School of MPCE\\n    ---------------------------------/-           Macquarie University\\n                                                  Sydney, AUSTRALIA 2109\\n\\n    Email: johnh@mpce.mq.edu.au, Ph: +61 2 805 8959, Fax: +61 2 805 8983\\n',\n",
       " \"Can someone out there tell me how to switch Window's screen resolution\\nquickly and easily?  I know that I can go back into install to do it,\\nbut what I'd really like is to have is the ability to just change a\\ncouple of startup or configuration files and have the resolution\\nchanged.  I already have both video drivers that I need on my system,\\nso that isn't a problem.\\n \\nThanks,\\n \\nSean.\\n \"]"
      ]
     },
     "execution_count": 4,
     "metadata": {},
     "output_type": "execute_result"
    }
   ],
   "source": [
    "dataset.data[100:103]"
   ]
  },
  {
   "cell_type": "code",
   "execution_count": 5,
   "metadata": {},
   "outputs": [
    {
     "name": "stdout",
     "output_type": "stream",
     "text": [
      "\n",
      "I've been a very intent NREN spectator of the NREN for years.  As a \n",
      "commercial IP software vendor, it really is my professional opinion that the \n",
      "NREN, at this point, is irrelevant to private sector networking.  If it had \n",
      "been deployed five years ago, it would have been a major development.  Now,\n",
      "however, it's just an upgrade to the NSFnet, and an attempt to revive the \n",
      "lagging use of the national supercomputer centers.  You could cut out the \n",
      "NSFnet completely, and the Internet would continue chugging along without a \n",
      "hiccup (aside from a few universities).\n",
      "\n",
      "Long-haul networking and Internet connectivity have long since ceased to be \n",
      "under federal sponsorship or regulation, at least in the USA.  The success of \n",
      "the CIX (Commercial Internet Exchange) is a prime example of this.  While our \n",
      "dear VP has been promoting his \"data superhighway,\" the private sector has \n",
      "been building it, without the NSFnet's restrictions.\n",
      "\n",
      "To illustrate, a connection from the machine on my desk to the machine your \n",
      "article was posted from (pizzabox.demon.co.uk) involves *only* commercial IP \n",
      "providers until it hits Amsterdam.  No NSFnet.  No NREN.  No \"appropriate \n",
      "use\" restrictions.  It's even 1.544mbps (T1) until it hits the EUnet \n",
      "gateway...\n",
      "\n",
      "QED.\n",
      "\n"
     ]
    }
   ],
   "source": [
    "print(dataset.data[100])"
   ]
  },
  {
   "cell_type": "code",
   "execution_count": 6,
   "metadata": {},
   "outputs": [
    {
     "data": {
      "text/plain": [
       "['alt.atheism',\n",
       " 'comp.graphics',\n",
       " 'comp.os.ms-windows.misc',\n",
       " 'comp.sys.ibm.pc.hardware',\n",
       " 'comp.sys.mac.hardware',\n",
       " 'comp.windows.x',\n",
       " 'misc.forsale',\n",
       " 'rec.autos',\n",
       " 'rec.motorcycles',\n",
       " 'rec.sport.baseball',\n",
       " 'rec.sport.hockey',\n",
       " 'sci.crypt',\n",
       " 'sci.electronics',\n",
       " 'sci.med',\n",
       " 'sci.space',\n",
       " 'soc.religion.christian',\n",
       " 'talk.politics.guns',\n",
       " 'talk.politics.mideast',\n",
       " 'talk.politics.misc',\n",
       " 'talk.religion.misc']"
      ]
     },
     "execution_count": 6,
     "metadata": {},
     "output_type": "execute_result"
    }
   ],
   "source": [
    "dataset.target_names"
   ]
  },
  {
   "cell_type": "code",
   "execution_count": 7,
   "metadata": {},
   "outputs": [
    {
     "data": {
      "text/plain": [
       "array([11, 12,  2,  5,  3, 14,  7,  8,  3,  7])"
      ]
     },
     "execution_count": 7,
     "metadata": {},
     "output_type": "execute_result"
    }
   ],
   "source": [
    "dataset.target[100:110]"
   ]
  },
  {
   "cell_type": "code",
   "execution_count": 8,
   "metadata": {},
   "outputs": [
    {
     "data": {
      "text/plain": [
       "['sci.crypt',\n",
       " 'sci.electronics',\n",
       " 'comp.os.ms-windows.misc',\n",
       " 'comp.windows.x',\n",
       " 'comp.sys.ibm.pc.hardware',\n",
       " 'sci.space',\n",
       " 'rec.autos',\n",
       " 'rec.motorcycles',\n",
       " 'comp.sys.ibm.pc.hardware',\n",
       " 'rec.autos']"
      ]
     },
     "execution_count": 8,
     "metadata": {},
     "output_type": "execute_result"
    }
   ],
   "source": [
    "[dataset.target_names[target] for target in dataset.target[100:110]]"
   ]
  },
  {
   "cell_type": "markdown",
   "metadata": {},
   "source": [
    "# Plotting document length frequencies"
   ]
  },
  {
   "cell_type": "markdown",
   "metadata": {},
   "source": [
    "## Lengths in characters"
   ]
  },
  {
   "cell_type": "code",
   "execution_count": 9,
   "metadata": {},
   "outputs": [
    {
     "data": {
      "text/plain": [
       "array([ 852,  546,  698,  987,  341,  262, 3271,  887,  525,  855])"
      ]
     },
     "execution_count": 9,
     "metadata": {},
     "output_type": "execute_result"
    }
   ],
   "source": [
    "len_chars = np.array([len(doc) for doc in dataset.data])\n",
    "len_chars[:10]"
   ]
  },
  {
   "cell_type": "code",
   "execution_count": 10,
   "metadata": {
    "scrolled": false
   },
   "outputs": [
    {
     "data": {
      "image/png": "[encoded data removed]",
      "text/plain": [
       "<Figure size 432x288 with 1 Axes>"
      ]
     },
     "metadata": {
      "needs_background": "light"
     },
     "output_type": "display_data"
    }
   ],
   "source": [
    "plt.hist(len_chars, 100);"
   ]
  },
  {
   "cell_type": "code",
   "execution_count": 11,
   "metadata": {},
   "outputs": [
    {
     "data": {
      "text/plain": [
       "array([14734, 15023, 15161, 15174, 15515, 15703, 16021, 16025, 16348,\n",
       "       16919, 17747, 18089, 18135, 18376, 18656, 19041, 19381, 19558,\n",
       "       19718, 19853, 19982, 20249, 21225, 21314, 21810, 22317, 22363,\n",
       "       24232, 24659, 24722, 24782, 25156, 25281, 25364, 25396, 26194,\n",
       "       26641, 27013, 27257, 27406, 27533, 27736, 28890, 29603, 29980,\n",
       "       30172, 31656, 31965, 32641, 32672, 33200, 35621, 36004, 36607,\n",
       "       37047, 38422, 39270, 39971, 41935, 42392, 43134, 43528, 44018,\n",
       "       44083, 46593, 46666, 47280, 48112, 48516, 49094, 50184, 50957,\n",
       "       55082, 55864, 56543, 57373, 58079, 58272, 58561, 58600, 59061,\n",
       "       59103, 59104, 59105, 59105, 59105, 59105, 59105, 59105, 59106,\n",
       "       59106, 59106, 59955, 60218, 60602, 61686, 65424, 70849, 72161,\n",
       "       74878])"
      ]
     },
     "execution_count": 11,
     "metadata": {},
     "output_type": "execute_result"
    }
   ],
   "source": [
    "np.sort(len_chars)[-100:]"
   ]
  },
  {
   "cell_type": "code",
   "execution_count": 12,
   "metadata": {},
   "outputs": [
    {
     "data": {
      "text/plain": [
       "array([ 4279, 10257, 10143,  2825,  8081,  1644,  9701,  5620, 10588,\n",
       "        7253,  9208,  6086,  6775,  6763,  6982,  5100,  8728,  4043,\n",
       "        1691,  4431,  9437,  2475,  7204,  8164,  2085, 10829,   806,\n",
       "         920,  9239,  2067,  2795,  7015,  6544,  6432,  2627, 10581,\n",
       "        1055,  6282,  1238,  8220, 11180,  6062,  5814,  3727,   200,\n",
       "        1843,  5965,  9136,  8215,  8172, 11183,  2624,  5119,  9934,\n",
       "       10714,  9981,  5515,  5469,  8108, 11116,  6815,  6124,  7608,\n",
       "        2141,  5175,  9205, 10730, 10253,  9822,  8372,  2345,  6057,\n",
       "        7452,  1251,  6786,  4432,  9741,  2390,  1867,  9060,  8607,\n",
       "        5390,  3700,  9645,  5416,  2925,  5125,  4919, 10738, 10334,\n",
       "        5146,  8777,  2029,    10,  2096, 10008,  3924,  3954,  6712,\n",
       "        7731])"
      ]
     },
     "execution_count": 12,
     "metadata": {},
     "output_type": "execute_result"
    }
   ],
   "source": [
    "np.argsort(len_chars)[-100:]"
   ]
  },
  {
   "cell_type": "code",
   "execution_count": 13,
   "metadata": {},
   "outputs": [
    {
     "data": {
      "text/plain": [
       "'Archive-name: hockey-faq\\n\\nrec.sport.hockey answers to Frequently Asked Questions and other news:\\n \\nContents:\\n\\n0. New Info.\\n1. NHL\\n2. NHL Minor Leagues\\n3. College Hockey (North America)\\n4. Other leagues (e.g. Europe, Canada Cup tournament)\\n5. E-mail files\\n6. USENET Hockey Pool\\n7. Up-coming Dates\\n8. Answers to some frequently asked questions\\n9. Miscellaneous\\n \\n Send comments, suggestions and criticisms regarding this FAQ list via e-\\nmail to hamlet@u.washington.edu.\\n \\n--------------------------------------------------------------------------\\n \\n 0. New Info.\\n \\n This section will describe additions since the last post so that you can \\ndecide if there is anything worth reading. Paragraphs containing new \\ninformation will be preceded by two asterisks (**).\\n\\n 1.: New Anaheim contact, Winnipeg to keep affiliate in Moncton.\\n 2.: New Milwaukee contact, IHL broadcaster of the year named, Rheaume to \\nstart against Cyclones, San Diego sets record.\\n 3.: Ticket info included for 1994 NCAA Division I Championships.\\n 4.: World Championship Pool B results listed, Sweden Hockey Games final \\nstandings listed, Swedish Elite League final standings listed, new Olypmic \\nHockey mailing list.\\n 5.: New Montreal mailing list address.\\n 6.: \\n 7.: \\n 8.: \\n 9.: \\n\\n--------------------------------------------------------------------------\\n \\n  1. NHL - National Hockey League\\n \\n For detailed information concerning a team (particularly where to get \\ntickets and merchandise, where to watch games in town....), send e-mail to \\nthe net contact(s) for the team.\\n\\n                             First   # of   Last\\n Team                   Div  Season  Cups   Cup    Net Contacts\\n ---------------------  ---  ------  ----  ------ ----------------------\\n**\\n Anaheim Mighty Ducks    -   93-94      -    -    Kris Myers\\n                                                  kris@fs2.assist.uci.edu\\n Boston Bruins           A   24-25      5  71-72  \\n Buffalo Sabres          A   70-71      0    -    Jeff Horvath\\n                                                  jhorvath@macc.wisc.edu\\n Calgary Flames          S   80-81*     1  88-89  CALDWELL8102@mtroyal.ab.ca\\n Chicago Blackhawks      N   26-27      3  60-61  John Scholvin\\n                                                  scholvin@casbah.acns.nwu.edu\\n Detroit Red Wings       N   33-34*     7  54-55  SGLENN@cmsa.gmr.com\\n Edmonton Oilers         S   79-80*     5  89-90  Andrew Scott\\n                                                  andrew@idacom.hp.com\\n Hartford Whalers        A   79-80*     0    -    Matthew Olsen\\n                                                  dmolsen@athena.mit.edu\\n Los Angeles Kings       S   67-68      0    -    Stan Willis\\n                                                  willis@empire.dnet.hac.com\\n Minnesota North Stars   N   67-68*     0    -    Mitch McGowan\\n                                                  hamlet@u.washington.edu\\n Montreal Canadiens      A   17-18     22  85-86  \\n New Jersey Devils       P   82-83*     0    -    \\n New York Islanders      P   72-73      4  82-83  Mark Anania\\n                                                  ananim@rpi.edu\\n New York Rangers        P   26-27      3  39-40  Paul Romano\\n                                                  romano@monolith.bellcore.com\\n Ottawa Senators         A   92-93      0    -    Scott Simpson\\n                                                  simpson@bnr.ca\\n Philadelphia Flyers     P   67-68      2  74-75  Pete Clark\\n                                                  seth@hos1cad.att.com\\n Pittsburgh Penguins     P   67-68      2  91-92  Lori Iannamico\\n                                                  lli+@cs.cmu.edu\\n                                                  Thomas Sullivan\\n                                                  tms@cs.cmu.edu\\n Quebec Nordiques        A   79-80*     0    -\\n St. Louis Blues         N   67-68      0    -    Joseph Achkar\\n                                                  jca2@cec1.wustl.edu\\n San Jose Sharks         S   91-92      0    -    Nelson Lu\\n                                                  claudius@leland.stanford.edu\\n**\\n South Florida           -   93-94      -    -    \\n Tampa Bay Lightning     N   92-93      0    -    Tom Wilson\\n                                                  wilson@eola.cs.ucf.edu\\n Toronto Maple Leafs     N   26-27*    11  66-67  Darryl Gamble\\n                                                  darryl@cs.yorku.ca\\n Vancouver Canucks       S   70-71      0    -    Alan Chim\\n                                                  chim@sfu.ca\\n Washington Capitals     P   74-75      0    -    David Lu\\n                                                  david@eng.umd.edu\\n Winnipeg Jets           S   79-80*     0    -    umturne4@ccu.umanitoba.ca\\n \\n A=Adams N=Norris P=Patrick S=Smythe\\n \\n *Calgary: formerly Atlanta Flames (72/73-79/80)\\n  Detroit: formerly Detroit Cougars (26/27-29/30) -> Detroit Falcons \\n(30/31-32/33)\\n  Edmonton: formerly Alberta Oilers (WHA) (72/73) -> Edmonton Oilers (WHA) \\n(72/73-78/79)\\n  Hartford: formerly New England Whalers (WHA) (72/73-78/79)\\n  Minnesota: Cleveland Barons were merged with Minnesota for the 1978/79 \\nseason.\\n  New Jersey: formerly Kansas City Scouts (74/75-75/76) -> Colorado \\nRockies (76/77-81/82)\\n  Quebec: formerly Quebec Nordiques (WHA) (72/73-78/79)\\n  Toronto: formerly Toronto Arenas (17/18-18/19) -> Toronto St. Patricks \\n(19/20-25/26)\\n  Winnipeg: formerly Winnipeg Jets (WHA) (72/73-78/79)\\n\\n Teams with mailing lists, see section 5 for addresses: Boston, Buffalo, \\nLos Angeles, Montreal, Philadelphia, Pittsburgh, St. Louis, San Jose, \\nTampa Bay, Vancouver, Washington.\\n\\n-----\\n \\n- Schedule\\n\\n 1992-1993 Schedule for the NHL\\n\\n                                 April\\n    Sun       Mon       Tue       Wed       Thu       Fri       Sat\\n+---------+---------+---------+---------+---------+---------+---------+\\n!         !         !         !         ! 1       ! 2       ! 3       !\\n!         !         !         !         !Min @ Cal!Mon @ Was!Buf @ Bos!\\n!         !         !         !         !Det @ Chi!NYI @ NYR!Cal @ SJ !\\n!         !         !         !         !Har @ Pit!         !Chi @ StL!\\n!         !         !         !         !Que @ Ott!         !Van @ Det!\\n!         !         !         !         !Tor @ Phi!         !Win @ Edm!\\n!         !         !         !         !Win @ SJ !         !Ott @ Har!\\n!         !         !         !         !Van @ TB !         !Min @ LA !\\n!         !         !         !         !         !         !Mon @ NYI!\\n!         !         !         !         !         !         !NJ  @ Tor!\\n!         !         !         !         !         !         !TB  @ Phi!\\n!         !         !         !         !         !         !Pit @ Que!\\n+---------+---------+---------+---------+---------+---------+---------+\\n! 4       ! 5       ! 6       ! 7       ! 8       ! 9       !10       !\\n!Bos @ Buf!Har @ NYR!Bos @ Que!Edm @ Van!Que @ Bos!Van @ Cal!Bos @ Mon!\\n!Cal @ SJ !         !Buf @ Min!Har @ Ott!Chi @ NYI!Pit @ NYR!Buf @ Det!\\n!StL @ Chi!         !Cal @ LA !Mon @ Pit!Det @ TB !         !Chi @ TB !\\n!Pit @ NJ !         !Edm @ SJ !NYR @ NJ !SJ  @ LA !         !Har @ Que!\\n!NYR @ Was!         !NYI @ Was!         !Was @ Phi!         !LA  @ SJ !\\n!Van @ Ott!         !Phi @ Win!         !Tor @ Win!         !StL @ Min!\\n!         !         !StL @ TB !         !         !         !NJ  @ Was!\\n!         !         !         !         !         !         !Ott @ NYI!\\n!         !         !         !         !         !         !NYR @ Pit!\\n!         !         !         !         !         !         !Phi @ Tor!\\n+---------+---------+---------+---------+---------+---------+---------+\\n!11       !12       !13       !14       !15       !16       !17       !\\n!Ott @ Bos!Was @ Mon!Mon @ Buf!Bos @ Ott!Phi @ Buf!         !         !\\n!Que @ Buf!NYR @ Phi!Cal @ Edm!NYI @ Har!SJ  @ Cal!         !         !\\n!Cal @ Van!         !Chi @ Min!Pit @ NJ !Tor @ Chi!         !         !\\n!TB  @ Chi!         !LA  @ Van!Was @ NYR!Min @ Det!         !         !\\n!Win @ Edm!         !Ott @ Que!         !Edm @ Win!         !         !\\n!Tor @ Har!         !StL @ Tor!         !Har @ NYI!         !         !\\n!Min @ StL!         !TB  @ Win!         !Van @ LA !         !         !\\n!NYI @ NJ !         !         !         !NJ  @ Pit!         !         !\\n!         !         !         !         !TB  @ StL!         !         !\\n+---------+---------+---------+---------+---------+---------+---------+\\n\\n The season will begin on 10/6 and end on 4/15. Playoffs will begin on \\n4/18 and end on or before 6/14. 24 NHL regular season games will be played \\nin non-NHL cities during 92-93 season. Cities: Milwaukee (2), Sacramento \\n(2), Cleveland (2), Indianapolis, Phoenix, Miami, Oklahoma City, Dallas, \\nAtlanta, Cincinnati, Providence, Peoria, Hamilton (4), Saskatoon (4), \\nHalifax.\\n\\n Here is a chart showing the number of games between the teams (84 games \\neach):\\n\\n      N N N P P W   B B H M O Q   C D M S T T   C E L S V W\\n      J Y Y h i a   o u a o t u   h e i t B o   a d A J a i\\n        I R i t s   s f r n t e   i t n L   r   l m     n n\\n      = = = = = =   = = = = = =   = = = = = =   = = = = = =\\n NJ : - 7 7 7 9 7   4 4 4 3 4 4   2 2 2 2 2 2   2 2 2 2 2 2\\n NYI: 7 - 7 9 7 7   4 3 4 4 3 3   2 2 2 3 2 2   2 3 2 2 2 2\\n NYR: 7 7 - 7 7 9   3 4 3 4 3 4   2 2 2 2 3 2   2 2 2 3 2 2\\n Phi: 7 9 7 - 7 7   4 3 3 4 3 4   2 3 2 2 2 2   3 2 2 2 2 2\\n Pit: 9 7 7 7 - 7   5 4 3 3 4 3   2 2 2 2 2 2   2 3 2 2 2 2\\n Was: 7 7 9 7 7 -   3 4 4 3 4 3   3 3 2 2 2 2   2 2 2 2 2 2\\n\\n Bos: 4 4 3 4 5 3   - 7 7 9 7 7   2 2 2 2 2 2   2 2 2 2 2 2\\n Buf: 4 3 4 3 4 4   7 - 9 7 7 7   2 2 2 2 2 2   2 2 2 2 3 2\\n Har: 4 4 3 3 3 4   7 9 - 7 7 7   2 2 2 3 2 2   2 2 2 2 2 3\\n Mon: 3 4 4 4 3 3   9 7 7 - 7 7   2 2 2 2 2 2   2 2 3 3 2 2\\n Ott: 4 3 3 3 4 4   7 7 7 7 - 9   2 2 2 2 2 3   2 2 2 2 2 3\\n Que: 4 3 4 4 3 3   7 7 7 7 9 -   2 2 2 2 3 3   2 2 2 2 2 2\\n\\n Chi: 2 2 2 2 2 3   2 2 2 2 2 2   - 9 7 7 7 7   3 4 5 3 4 3\\n Det: 2 2 2 3 2 3   2 2 2 2 2 2   9 - 7 7 7 7   4 3 4 4 3 3\\n Min: 2 2 2 2 2 2   2 2 2 2 2 2   7 7 - 9 7 7   4 4 3 3 5 4\\n StL: 2 3 2 2 2 2   2 2 3 2 2 2   7 7 9 - 7 7   4 3 3 3 4 4\\n TB : 2 2 3 2 2 2   2 2 2 2 2 3   7 7 7 7 - 9   3 4 3 4 3 4\\n Tor: 2 2 2 2 2 2   2 2 2 2 3 3   7 7 7 7 9 -   4 3 4 4 3 3\\n\\n Cal: 2 2 2 3 2 2   2 2 2 2 2 2   3 4 4 4 3 4   - 7 7 9 7 7\\n Edm: 2 3 2 2 3 2   2 2 2 2 2 2   4 3 4 3 4 3   7 - 7 7 7 9\\n LA : 2 2 2 2 2 2   2 2 2 3 2 2   5 4 3 3 3 4   7 7 - 7 9 7\\n SJ : 2 2 3 2 2 2   2 2 2 3 2 2   3 4 3 3 4 4   9 7 7 - 7 7\\n Van: 2 2 2 2 2 2   2 3 2 2 2 2   4 3 5 4 3 3   7 7 9 7 - 7\\n Win: 2 2 2 2 2 2   2 2 3 2 3 2   3 3 4 4 4 3   7 9 7 7 7 -\\n\\n Valerie Hammerl <hammerl@acsu.buffalo.edu> has posted this year\\'s version \\nof nhl.c, a schedule program for NHL games.  For example, users can find \\nout the games played on a certain date or find out the next ten games \\nplayed by team x. A copy can be obtained by e-mailing \\n<hammerl@acsu.buffalo.edu>\\n\\n Following is the neutral site schedule:\\n\\n Tue 10/13:  Calgary vs. Minnesota @ Saskatoon\\n Tue 10/20:  Ottawa vs. Toronto @ Hamilton\\n Tue 11/03:  Chicago vs. Washington @ Indianapolis\\n Tue 11/17:  Toronto vs. Quebec @ Hamilton\\n Wed 11/18:  Buffalo vs. New Jersey @ Hamilton\\n Tue 12/01:  Los Angeles vs. Chicago @ Milwaukee\\n Tue 12/08:  Montreal vs. Los Angeles @ Phoenix\\n Wed 12/09:  Tampa Bay vs. New York Rangers @ Miami\\n Sun 12/13:  Edmonton vs. New York Islanders @ Oklahoma City\\n Tue 12/15:  New York Islanders vs. St. Louis @ Dallas\\n Mon 01/04:  San Jose vs. Montreal @ Sacramento\\n Mon 01/18:  Hartford vs. Winnipeg @ Saskatoon\\n Mon 02/08:  Boston vs. Pittsburgh @ Atlanta\\n Mon 02/08:  St. Louis vs. Hartford @ Peoria\\n Tue 02/16:  Philadelphia vs. Calgary @ Cincinnati\\n Sat 02/20:  Quebec vs. Tampa Bay @ Halifax\\n Mon 02/22:  New York Rangers vs. San Jose @ Sacramento\\n Mon 02/22:  Detroit vs. Philadelphia @ Cleveland\\n Tue 02/23:  Winnipeg vs. Ottawa @ Saskatoon\\n Mon 03/01:  Vancouver vs. Buffalo @ Hamilton\\n Thu 03/11:  Minnesota vs. Vancouver @ Saskatoon\\n Tue 03/16:  Washington vs. Detroit @ Milwaukee\\n Tue 03/16:  New Jersey vs. Boston @ Providence  *\\n Sun 03/21:  Pittsburgh vs. Edmonton @ Cleveland\\n\\n * Location subject to change\\n\\nNHL Playoff Schedule:\\n\\nWales Conference Division Semifinals: April 18, 20, 22, 24, 26*, 28*, 30*\\nCampbell Conference Division Semifinals: April 19, 21, 23, 25, 27*, 29*, May 1*\\nWales Conference Division Finals: May 2, 4, 6, 8, 10*, 12*, 14*\\nCampbell Conference Division Finals: May 3, 5, 7, 9, 11*, 13*, 15*\\nWales Conference Final: May 16, 18, 20, 22, 24*, 26*, 28*\\nCampbell Conference Final: May 17, 19, 21, 23, 25*, 27*, 29*\\nStanley Cup Final: June 1, 3, 5, 7, 9*, 11*, 14*\\n\\n* - if neccessary\\n\\n-----\\n \\n- News & Scores\\n \\n SPIKE (bryan.k.strouse) <bks@cbnewsh.cb.att.com> posts weekday news and \\nbox scores (Sunday through Thursday). John P. Curcio \\n<jpc@philabs.philips.com> posts weekend news and box scores. Both maintain \\ne-mail lists for faster delivery.\\n Net contacts post team news as they see/hear/read it.\\n \\n-----\\n \\n- Notable team news (transactions and announcements)\\n \\n Note that this information is culled from press releases and posts.  It \\nis updated each month and only information currently under discussion or \\nof continuing importance or interest will be listed for more than two \\npostings.\\n \\n Boston Bruins\\n  Boston legislators and the developers proposing a new Boston Garden \\nfinally agreed to a deal that puts the 19,000-seat, $160 million project \\nback on track to be finished in September 1995.\\n  Right wing Daniel Marois will be sidelined indefinitely following \\nsurgery to repair a herniated disc in his back.\\n**\\n  Sent defenseman Glen Murray to Providence of the American Hockey League.\\n\\n Buffalo Sabres\\n1-800-333-PUCK (1-800-333-7825)\\n  Acquired left winger Bob Errey from Pittsburgh for defenseman Mike \\nRamsey.\\n**\\n  Veteran Buffalo Sabres broadcaster Ted Darling will be inducted into the \\nclub\\'s Hall of Fame Sunday, April 11.  Darling, who joined the expansion \\nSabres in 1970, was the team\\'s play-by-play announcer on both television \\nand radio until illness forced him out of the booth during last season.\\n**\\n  Recalled forwards Viktor Gordiouk and Doug MacDonald from Rochester of \\nAmerican Hockey League.\\n\\n Calgary Flames\\n  Acquired veteran right wing Greg Paslawski from Philadelphia for future \\nconsiderations.\\n**\\n  Recalled center Todd Harkins and left winger Tomas Forslund from Salt \\nLake City of International Hockey League.\\n\\n Chicago Blackhawks\\n        The $175 million, privately financed United Center, scheduled to \\nopen in August 1994, will be home to the NBA\\'s Chicago Bulls and NHL\\'s \\nChicago Blackhawks. The stadium is owned by entities controlled by the two \\nteams. The owners apparently still have not made a decision on whether the \\nold Chicago Stadium will be razed for parking space once the new facility, \\nlocated directly across the street, opens.\\n  Suspended defenseman Craig Muni indefinitely for failing to report \\nfollowing a trade with Edmonton.\\n\\n Detroit Red Wings\\n  Acquired defenseman Steve Konroyd from Hartford for a sixth-round draft \\npick.\\n  Annnounced the signing of right wing Joe Frederick, their 13th pick in \\nthe 1989 National Hockey League entry draft.\\n**\\n  Two contrite hockey fans have returned the stolen Michigan Sports Hall \\nof Fame plaque honoring Detroit Red Wing great Gordie Howe. The bronze \\nplaque was stolen more than four years ago from Cobo Hall in Detroit, site \\nof the Michigan Hall of Fame.\\n\\n Edmonton Oilers\\n  Sent forward Esa Tikkanen to the New York Rangers for center Doug \\nWeight.\\n  Traded defenseman Craig Muni to Chicago for forward Mike Hudson.\\n  NHL commissioner Gary Bettman said the Edmonton Oilers\\' lease with \\nNorthlands Coliseum must be improved if the team is to survive in the \\ncity. Edmonton Northlands is a non-profit agency set up by the city to \\nadminister exhibition facilities including the Coliseum.  Oilers owner \\nPeter Pocklington calls his lease with Northlands horrendous and has \\nthreatened to move the team if he doesn\\'t get a better deal. He makes no \\nmoney from parking, concessions or building advertising. The 17,313-seat \\nColiseum also has few of the lucrative private boxes that produce \\nsignificant revenues for other owners.\\n  Announced center Kevin Todd will not need surgery but will miss the \\nremainder of the season with a separated shoulder.\\n\\n Hartford Whalers\\n  Sent defenseman Steve Konroyd to Detroit for a sixth-round draft pick.\\n  Acquired left winger Robert Kron and a third-round draft pick from \\nVancouver for left winger Murray Craven and a fifth-round draft pick.\\n**\\n  The state of Connecticut will begin negotiations to buy the Civic Center \\nfrom the city in an effort to keep the financially struggling Hartford \\nWhalers franchise in the city.\\n\\n Los Angeles Kings\\n  Sent center John McIntyre to the New York Rangers for defenseman Mark \\nHardy and Ottawa\\'s fifth-round 1993 draft pick.\\n\\n Minnesota North Stars\\n1-800-800-0435 if calling from the U.S.\\n1-800-800-0458 if calling from Canada\\n  The Dallas City Council has approved an agreement with the Minnesota \\nNorth Stars that will bring the NHL club to Reunion Arena next season.\\n  Defenseman Mark Tinordi, captain of the North Stars, will be sidelined \\nthe rest of the season, including any postseason games the North Stars \\nmight play, because of a broken collarbone.\\n  Acquired defenseman Mark Osiecki from Winnipeg for ninth- and 10th-round \\ndraft picks in 1993.\\n  Added defenseman Travis Richards from the University of Minnesota.\\n  A former employee filed a sexual harassment suit against Minnesota North \\nStar owner Norman Green. Karen (Kari) Dziedzic, Green\\'s former executive \\nassistant, claims Green often instructed her to wear cosmetics, described \\nher outfits as \"very hot\" and \"very sexy,\" once slapped her hand as she \\nwas about to eat and humiliated her by grabbing her hand and rubbing it \\nthrough a client\\'s hair.\\n  The Minnesota North Stars, who will move to Dallas after this season, \\nannounced that nearly 11,000 season ticket reservations have been made for \\ntheir new home at Reunion Arena, which has a capacity of 16,800.\\n  The Met Center commission has told the Minnesota North Stars that it \\nwants the club out - with its keys returned - at midnight after the last \\nhome game.  The club is moving to Dallas for next season.  The club must \\npay unpaid interest of $4,492.80 on the team\\'s late rent payment for 1992, \\nwhich was made earlier this month, and has been instructed not to take \\nproperty such as the scoreboard and Zamboni ice-surfacing machine.\\n**\\n  Derian Hatcher\\'s game-misconduct penalty was rescinded by the NHL, \\nallowing the Minnesota defenseman to play in the North Stars\\' last two \\nregular-season games.  Hatcher was given the penalty during a fight at the \\nend of a loss at St. Louis on Sunday, April 11.  But the league didn\\'t \\nrescind the game-misconduct penalty Shane Churla received.  The Stars \\nrecalled center Cal McGowan from their top minor league club in Kalamazoo, \\nMich., to replace Churla.\\n\\n Montreal Canadiens\\n  Acquired defenseman Rob Ramage from Tampa Bay for minor league \\ndefensemen Eric Charron and Alain Cote and future considerations.\\n\\n New Jersey Devils\\n**\\n  Bernie Nicholls publicly apologized for his criticism of referee Denis \\nMorel after the Devils\\' 5-2 loss to the Buffalo Sabres.  Nicholls was \\nejected by Morel for being the third man in on a fight late in the second \\nperiod of that game and afterward Nicholls called Morel \"a homer\" and \"an \\nembarrassment to the referee\\'s association.\"\\n\\n New York Islanders\\n  Traded right wing Daniel Marois to Boston for a conditional draft \\nchoice.\\n\\n New York Rangers\\n  Obtained forward Esa Tikkanen from Edmonton for center Doug Weight.\\n  Acquired left winger Mike Hartman from Tampa Bay \\n  Acquired center John McIntyre from Los Angeles for defenseman Mark Hardy \\nand Ottawa\\'s fifth-round 1993 draft pick.\\n  Defenseman Brian Leetch will undergo additional surgery on the right \\nankle he broke in a non-skating fall and is not expected to play again \\nthis season. Leetch suffered the broken ankle March 19 following a victory \\nover San Jose. The team said he slipped on an icy patch of pavement as he \\nwas getting out of a taxi cab in front of his apartment.\\n**\\n  Announced that defenseman James Patrick will require surgery on a \\nherniated disc in his back and will not play again this season.\\n**\\n  Returned goaltender Corey Hirsch to Binghamton of the American Hockey \\nLeague.\\n\\n Ottawa Senators\\n        The Ottawa Senators received the go-ahead to build the 18,500-seat \\nPalladium on the proposed location in nearby Kanata, Ont.  The projected \\ncost is C$150 million. Construction will be postponed until the 1995-96 \\nseason, one year behind schedule.\\n  The Ottawa Senators lost their 37th consecutive NHL road game to tie the \\n1974-75 Washington Capitals for most road losses in a row.\\n**\\n  Assigned left wing Martin St. Amour to New Haven of the American Hockey \\nLeague.\\n\\n Philadelphia Flyers\\n  The opening date of Spectrum II has been pushed back to fall 1995. \\nFormal groundbreaking has been postponed indefinitely.\\n  Traded veteran right wing Greg Paslawski to the Calgary Flames for \\nfuture considerations.\\n\\n Pittsburgh Penguins\\n  Traded left winger Bob Errey to Buffalo for defenseman Mike Ramsey.\\n  Reacquired defenseman Peter Taglianetti from Tampa Bay Lightning for a \\nthird-round 1993 draft choice.\\n**\\n  Revolutionary Comics of San Diego agreed to destroy all available copies \\nof a Mario Lemieux comic book in a settlement with the Pittsburgh Penguins \\nover a trademark infringement lawsuit.  The Penguins sued in February \\ncharging that the \"Sport Stars Mario Lemieux\" comic infringed on the \\nteam\\'s logo and uniform, which are registered trademarks.\\n\\n Quebec Nordiques\\n1-800-463-3333\\n\\n St. Louis Blues\\n  St. Louis Blues center Ron Sutter will miss the rest of the season as a \\nresult of separating his right shoulder.\\n\\n San Jose Sharks\\n  The San Jose Sharks announced that ticket prices will increase by about \\n30% for the 1993-94 season when they move from the Cow Palace into a new \\n$155-million arena in San Jose.\\n**\\n  Recalled defenseman Tom Pederson from Kansas City of the International \\nHockey League.\\n**\\n  Reached agreement in principle with left wing Alexander Cherbayev.\\n\\n Tampa Bay Lightning\\n1-800-881-2639\\n        At least two investor groups are poised to build a sports arena in \\ndowntown Tampa if the delay-plagued company that holds a lease from the \\nTampa Bay Lightning bows out. Tampa Coliseum Inc. has a lease with the \\nNational Hockey League team to develop an entertainment and sports arena \\nnext to Tampa Stadium, but has been unable to raise enough money for the \\nproject.\\n  Sent left winger Mike Hartman to the New York Rangers for center Randy \\nGilhen.\\n  Sent defenseman Peter Taglianetti to Pittsburgh for a third-round 1993 \\ndraft choice.\\n  Sent defenseman Rob Ramage to the Montreal Canadiens for minor league \\ndefensemen Eric Charron and Alain Cote and future considerations.\\n**\\n  Manon Rheaume\\'s first starting appearance in goal for the Atlanta \\nKnights was impressive enough for her coach to say she has a chance to be \\na backup goalie for another minor league team next season. Rheaume, the \\nfirst female to play professional hockey, stopped 25 shots and gave up six \\ngoals against the Cincinnati Cyclones on Saturday night, April 10. After \\nthe game, her coach, Gene Ubriaco, said Rheaume performed well enough to \\ncompete for the No. 2 goalie spot with the Louisville IceHawks of the East \\nCoast Hockey League next season. The Knights and the IceHawks are minor \\nleague clubs of the Tampa Bay Lightning.\\n**\\n  As their first season comes to a close, there are rumors swirling that \\nthe Tampa Bay Lightning just might become the Atlanta Lightning.  Or the \\nMinnesota Lightning.  But they are just rumors, according to Lightning \\ngeneral manager Phil Esposito.  ESPN reported on Sunday, April 11, that \\nthe Lightning, who have been playing in 10,400-seat Expo Hall, are \\nexploring opportunities to move to either Atlanta or Minneapolis.  But \\nEsposito said there was no truth to the report.  \"We were disappointed \\nwith ESPN\\'s irresponsible comment,\" Esposito said.  \"There is just no \\nsubstance to the rumor.\" Rumors have been swirling for the past two years \\nregarding a move by Tampa Bay, which is presently discussing plans to \\nbuild a new arena.\\n\\n Toronto Maple Leafs\\n**\\n  Defenseman Matt Martin, who helped Maine win the 1993 NCAA hockey \\nchampionship, gave up his final year of eligibility and signed a contract \\nwith the Toronto Maple Leafs.\\n\\n Vancouver Canucks\\n       The Vancouver Canucks have cleared the last hurdle in their effort \\nto build a new stadium. Vancouver council has given the green light for \\nthe 100 million dollar complex. It will seat 20 thousand people and will \\nhave an adjoining office tower. It will be built between the viaducts near \\nB.C. Place in Vancouver. Site preparation will begin this summer, with a \\ncompletion date of Fall 1995.\\n  Traded left winger Robert Kron and a third-round draft pick to Hartford \\nfor left winger Murray Craven and a fifth-round draft pick.\\n  Obtained defenseman Dan Ratushny from Winnipeg for a ninth-round draft \\npick.\\n**\\n  Signed right wing Brian Loney to a multi-year contract and assigned him \\nto Hamilton of American Hockey League (AHL).\\n\\n Washington Capitals\\n(301) 808-CAPS\\n  Traded goaltender Jim Hrivnak and future considerations to Winnipeg for \\ngoaltender Rick Tabaracci.\\n\\n Winnipeg Jets\\n        Winnipeg Jets have been allowed economic assistance in order to \\nkeep them in the Smythe division as a result of expansion.\\n  Sent defenseman Mark Osiecki to Minnesota for ninth- and 10th-round \\ndraft picks in 1993.\\n  Sent goaltender Rick Tabaracci to Washington for Jim Hrivnak and future \\nconsiderations.\\n  Sent defenseman Dan Ratushny to Vancouver for a ninth-round draft pick.\\n  Winnipeg\\'s Teemu Selanne broke the NHL\\'s rookie points record. The Jets \\nrookie tied the record of 109 points, set by Peter Stastny with Quebec \\n(1980-81), with a goal, his 66th of the season, and moved ahead on an \\nassist in a 5-4 loss to Toronto.\\n**\\n  The Fort Wayne Komets said they have been told by Winnipeg that the Jets \\nwill keep a minor league affiliation with Moncton of the American Hockey \\nLeague. There have been reports the Jets would move players from Moncton \\nto Fort Wayne next season.\\n\\n-----\\n\\n- Expansion news:\\n\\n  The National Hockey League announced that the expansion Anaheim and \\nSouth Florida franchises will join the league for the 1993- 1994 season.\\n\\n        Disney and National Hockey League officials announced Monday, \\nMarch 1, that the Mighty Ducks of Anaheim, Disney\\'s expansion team, will \\ntake to the ice next fall. Michael Eisner, chairman and chief executive \\nofficer of the Walt Disney Co., said the Mighty Ducks will play at the \\nPond, the new Anaheim sports arena, near Disney\\'s flagship theme park. The \\narena is under construction and will be completed in June. The Pond seats \\n17,350. The team still must meet the league\\'s requirement that it sell at \\nleast 10,000 season tickets for the final grant of NHL membership.\\n\\n        Anaheim named Jack Ferreira general manager and Pierre Gauthier \\nassistant general manager.\\n**\\n  Veteran NHL scout Al Godfrey has been hired as the Midwest regional \\nscout for the Anaheim Mighty Ducks.\\n\\n        Philadelphia Flyers\\' senior vice president Bobby Clarke was named \\nMonday, March 1, to the post of general manager for Miami\\'s NHL expansion \\nteam. Franchise owner H. Wayne Huizenga made the announcement at the Miami \\nArena, three months after being awarded a franchise. Huizenga said he \\nplans to have a team on the ice in time for the beginning of the NHL \\nseason in October.\\n\\n-----\\n\\n- Realignment:\\n\\nEastern Conference\\n\\nAtlantic Division\\n\\nWashington Capitals, New Jersey Devils, New York Islanders, New York \\nRangers, Philadelphia Flyers, South Florida, Tampa Bay Lightning\\n\\nNortheast Division\\n\\nBoston Bruins, Buffalo Sabres, Hartford Whalers, Montreal Canadiens, \\nOttawa Senators, Pittsburgh Penguins, Quebec Nordiques\\n\\nWestern Conference\\n\\nCentral Division\\n\\nChicago Blackhawks, Dallas Stars, Detroit Red Wings, St. Louis Blues, \\nToronto Maple Leafs, Winnipeg Jets\\n\\nPacific Division\\n\\nAnaheim Mighty Ducks, Calgary Flames, Edmonton Oilers, Los Angeles Kings, \\nSan Jose Sharks, Vancouver Canucks\\n\\n  Schedule: Eastern Conference teams will play five games against each of \\nsix divisional opponents (30); four games against each of the seven teams \\nin the conference\\'s other division (28) and two games against each of the \\n12 Western Conference members (24).\\n\\nWestern Conference teams will play six games against each of five \\ndivisional opponents (30); four games against each of the six teams in the \\nconference\\'s other division (24) and two games against each of the 14 \\nEastern Conference clubs (28).\\n\\n  Playoffs: The system will be conference-based, with the No. 1 team \\nmeeting the No. 8 team in the first round, No. 2 vs. No. 7, No. 3 vs. No. \\n6 and No. 4 vs. No. 5. Matchups will be based on overall points with the \\nfour division champions being placed in the first- or second-place seeds \\nin each conference and being assured of home-ice in the first two playoff \\nrounds. All series will be best of seven (2-2-1-1-1 rotation) except \\nmatchups between Central and Pacific teams.  Those series will rotate 2-3-\\n2 to reduce travel.  In those cases, the team with the most regular-season \\npoints will choose whether to start the series at home or away.\\n\\n-----\\n\\n- Draft news:\\n\\n        Under terms of the new expansion draft, which will be held in \\nJune, each of the 24 existing clubs will be allowed to protect one \\ngoaltender, five defensemen and nine forwards. The most recent expansion \\ndrafts allowed teams to protect two goalies and did not make a distinction \\nbetween forwards and defensemen.\\n        First-year pros only will be exempt from the draft, which is down \\nfrom the two-year exemption teams had last season. San Jose, Tampa Bay and \\nOttawa still will be allowed to exempt second-year pros.\\n        Each of the 24 teams will lose two players, with a maximum loss of \\none goaltender and a maximum loss of one defenseman. The one exception is \\nthat a team which loses a goaltender can then no longer lose a defenseman.\\n        At the end of the first phase of the draft, the two new franchises \\nwill have three goaltenders, eight defensemen and 13 forwards for a total \\nof 24 players. A second phase then will be conducted where San Jose, Tampa \\nBay and Ottawa will select two players each from the rosters of the two \\nnew teams.\\n        Ottawa, Tampa Bay and San Jose will be guaranteed priority \\ndrafting selection in the 1993 draft as long as they have the three worst \\nrecords. Anaheim and Miami will choose no lower than fourth and fifth. The \\nexpansion franchises will move up in the draft should either San Jose, \\nTampa Bay or Ottawa not finish in the bottom three positions.\\n        The two new teams will pick first and second in the 1994 Entry \\nDraft, regardless of their finish in 1993-94. Should either of the two new \\nteams not play next season they would have priority drafting position in \\n1994.\\n\\n        The owners announced the 1994 draft will be in Hartford and the \\n1995 draft in Winnipeg. The 1994 draft was scheduled for Boston, but a \\ndelay in the construction of a new arena required the draft be moved.\\n\\n-----\\n \\n- League news:\\n\\nDisputes:\\n\\n  The NHL owners and players have resolved differences over salary \\narbitration procedures, clearing the way for about 40 hearings.  NHLPA \\nexecutive director Bob Goodenow didn\\'t disclose how the issues were \\nresolved, but the prior sticking point had been the manner in which \\nstatistics were used in arbitration hearings.\\n\\nOlympics:\\n\\n  The NHL announced February 26, 1993, it will not make professional \\nplayers available to compete in the 1994 Winter Olympics.\\n\\nLeague Leadership:\\n\\n        Los Angeles Kings owner Bruce McNall succeeded Blackhawks owner \\nBill Wirtz as chairman of the NHL\\'s powerful Board of Governors. Appointed \\nto join McNall on the Executive Committee were Ron Corey of the Montreal \\nCanadiens, Mike Ilitch of the Detroit Red Wings, Peter Pocklington of the \\nEdmonton Oilers and Ed Snider of the Philadelphia Flyers.\\n\\n        Gary Bettman, vice president and general counsel of the National \\nBasketball Association, was named commissioner of the National Hockey \\nLeague, Friday, December 11, 1992.\\n\\nMiscellaneous:\\n\\n        Henri Richard, Bernie Parent and Billy Smith have been named \\nspecial ambassadors for the Stanley Cup Centennial, a season-long \\ncelebration of the NHL championship trophy. The trio will appear at \\nleague-wide function such as the All-Star Game and Stanley Cup playoffs.\\n\\n        The National Hockey League named John N. Turner, former Prime \\nMinister of Canada, to serve on Board of Directors of Hockey Hall of Fame \\nand Museum and nominated Scotty Morrison, David M. Taylor, Larry Bertuzzi, \\nRobert G. Bundy, Walter Bush, Murray Costello, Jim Gregory, Leslie Kaplan, \\nLawrence G. Meyer and Alan Tonks to serve on Board, which takes office \\nMarch 30.\\n\\n  NHL President Gil Stein was one of four individuals elected to the \\nHockey Hall of Fame Builder\\'s category. The others were Buffalo Sabres\\' \\nChairman of the Board and President Seymour Knox III, Vancouver Canucks\\' \\nChairman Frank Griffiths and veteran Canadian hockey executive Fred Page. \\nFormer NHL linesman John D\\'Amico was selected in the Hall of Fame\\'s \\nReferee-Linesman category.\\n\\n-----\\n \\n- NHL TV\\n\\n Games are carried on TSN and CBC in Canada, on ESPN in the U.S.  Check \\nyour local listings.\\n\\n        The National Hockey League has struck a conditional five-year deal \\nwith ESPN to televise professional hockey through the 1996-97 season.\\n        The series of agreements grants ESPN exclusive national coverage \\nof the NHL starting with the 1992-93 season, and the cable network has an \\noption to extend the term of that domestic agreement for four more years. \\nThe deal also grants ESPN exclusive international television distribution, \\nexcluding Canada, for the next five years.\\n        The league\\'s new TV contract calls for ESPN to televise up to 25 \\nregular-season games to its domestic audience this coming season and 37 \\nplayoff games, including the entire Stanley Cup Final. The majority of \\nESPN\\'s regular-season games will be televised on Friday nights.\\n\\n        NHL Commissioner Gary Bettman announced Wednesday, March 3, that \\nABC Sports will televise five Stanley Cup playoff games starting next \\nmonth. ABC will carry the playoff games on its network through an \\narrangement with ESPN, the U.S. rightsholder for NHL games. ESPN will \\nprovide the production of the games. ABC owns ESPN.\\n  April 18 - Wales Conference Game #1 Quarterfinals\\n  April 25 - Campbell Conference Game #4 Quarterfinals\\n  May 2 - Wales Conference Game #1 Semifinals\\n  May 9 - Campbell Conference Game #4 Semifinals\\n  May 16 - Wales Conference Game #1 Finals\\n\\n-----\\n \\n- Award winners, all-star teams, hall of fame inductees, and draft picks\\n \\n 91-92 Award Winners:\\n Hart Trophy (MVP): Mark Messier (NYR)\\n Vezina Trophy (best goalie): Patrick Roy (Mon)\\n Norris Trophy (best defenseman): Brian Leetch (NYR)\\n Calder Trophy (best rookie): Pavel Bure (Van)\\n Selke Trophy (best defensive forward): Guy Carbonneau (Mon)\\n Lady Byng Trophy (sportsmanship): Wayne Gretzky (LA)\\n Jack Adams Award (best coach): Pat Quinn (Van)\\n Bill Masterton Memorial Trophy (perseverance): Mark Fitzpatrick (NYI)\\n King Clancy Trophy (contribution to community): Ray Bourque (Bos)\\n Jennings Trophy (lowest team GAA): Patrick Roy (Mon)\\n Art Ross Trophy (most scoring points): Mario Lemieux (Pit)\\n\\n        Hall of Famer players Frank Boucher and Red Dutton and executives \\nBruce McNall and Gil Stein Thursday were named the 1993 winners of the \\nLester Patrick Award for ``outstanding service to hockey in the United \\nStates\\'\\'. The award is selected each year by a committee representing a \\nwide cross-section of the hockey community.\\n\\n 91-92 1st All-Star Team: Patrick Roy (G, Mon), Ray Bourque (D, Bos), \\nBrian Leetch (D, NYR), Mark Messier (C, NYR), Brett Hull (RW, StL), Kevin \\nStevens (LW, Pit)\\n\\n 92-93 All-Star Game Starters (as voted by fans):\\nWales Conference: Mario Lemieux (C, Pittsburgh), Jaromir Jagr (W, \\nPittsburgh), Kevin Stevens (W, Pittsburgh), Ray Bourque (D, Boston), Brian \\nLeetch (D, Rangers), Patrick Roy, (G, Montreal).\\nCampbell Conference: Steve Yzerman (C, Detroit), Brett Hull (W, St. \\nLouis), Pavel Bure (W, Vancouver), Chris Chelios (D, Chicago), Paul Coffey \\n(D, Los Angeles), Ed Belfour (G, Chicago)\\n\\n 91-92 All-rookie team: Gilbert Dionne (LW, Mon), Tony Amonte (RW, NYR), \\nKevin Todd (C, NJ), Vladimir Konstantinov (D, Det), Nicklas Lidstrom (D, \\nDet), Dominik Hasek (G, Chi).\\n\\n 1992 Hall of Fame Inductees: Marcel Dionne, Bob Gainey, Lanny McDonald, \\nand Woody Dumart.\\n\\n First round of the 1992 entry draft:\\n  # Player (pos, team)\\n  1 Roman Hamrlik (D, TB)\\n  2 Alexei Yashin (C, Ott)\\n  3 Mike Rathje (D, SJ)\\n  4 Todd Warriner (LW, Que)\\n  5 Darius Kasparaitis (D, NYI)\\n  6 Cory Stillman (C, Cal)\\n  7 Ryan Sittler (LW, Phi)\\n  8 Brandon Convery (C, Tor)\\n  9 Robert Petrovicky (C, Har)\\n 10 Andrei Nazarov (LW, SJ)\\n 11 David Cooper (D, Buf)\\n 12 Sergei Krivokrasov (LW, Chi)\\n 13 Joe Hulbig (LW, Edm)\\n 14 Sergei Gonchar (D, Was)\\n 15 Jason Bowen (LW, Phi)\\n 16 Dmitri Kvartalnov (LW, Bos)\\n 17 Sergei Bautin (D, Win)\\n 18 Jason Smith (D, NJ)\\n 19 Martin Straka (C, Pit)\\n 20 David Wilkie (D, Mon)\\n 21 Libor Polasek (C, Van)\\n 22 Curtis Bowen (LW, Det)\\n 23 Grant Marshall (RW, Tor)\\n 24 Peter Ferraro (C, NYR)\\n\\n-----\\n\\n- New NHL Rules\\n\\n Game ejection for instigating a fight.\\n Helmets are optional.\\n Grabbing an opponent\\'s stick as a defensive move is a penalty.\\n Diving to draw a penalty is a penalty.\\n Coincidental minors when both teams are full-strength result in 4 vs. 4 \\nplay.\\n High sticking is from the waist up.\\n\\n - New CBA - ratified by NHLPA on 4/11/92\\n \\n Term: September 16, 1991 to September 15, 1993.\\n \\n Licensing and endorsements: Players own exclusive rights to their \\nindividual personality, including their likenesses.\\n \\n Salary arbitration: New rules negotiated; 8 salary arbitrators to be \\njointly agreed upon.\\n \\n Free agency: Compensation scale reduced for players age 30 and under. \\nGroup III free agent age reduced to 30 from 31. A player who has completed \\n10 or more professional seasons (minor or NHL) and who in last year of \\ncontract didn\\'t earn more than the average NHL salary, can elect once in \\nhis career to become an unrestricted free agent at the end of his \\ncontract.\\n \\n Salary and awards: Players\\' playoff fund increased to $7.5M in 1991-92 & \\n$9M in 92-93. New minimum salary of $100,000.\\n \\n Insurance: $200,000 disability coverage. Dental & broad-based medical \\nimprovements. 100% increase in life insurance for players; coverage for \\nwives.\\n \\n Pension: Improved pension contributions of $8000 to $12500 per player per \\nyear, depending on the player\\'s number of NHL games. Agreement on language \\nto guarantee continuation of Security Plan negotiated in 1986.\\n \\n Regular season: Increased from 80 to 84 games in 92-93. For 2 games \\nplayed at neutral sites, all arrangements and revenues to be shared.\\n \\n Rosters: Kept at 18 skaters and 2 goaltenders for 92-93.\\n \\n Entry draft: Reduced to 11 rounds from 12.\\n \\n Supplemental draft: One selection for each non-playoff team.\\n \\n Joint study group: Examine financial state of NHL & issue report to \\nassist in preparing for 1993 negotiations\\n\\n-----\\n \\n NHL free agency categories (effective until 9/15/93)\\n\\n Group I:\\n  - players aged 24 and under\\n  - player\\'s choice of player equalization or draft pick compensation\\n  - for compensation, old club has right to match offer from new club\\n  - for equalization, old club has no right to match offer\\n  - equalization, which can consist of players, draft picks, and/or cash,\\n    must be agreed upon between two clubs or submitted to arbitration\\n\\n Group II:\\n  - players aged 25 to 29\\n  - player\\'s choice of player equalization or draft pick compensation\\n  - for equalization, old club has right to match offer only if it is\\n    at least $351,000\\n  - for compensation, schedule is:\\n    one first round pick if player signs for $350,000-$500,000/year\\n    two first round picks if player signs for $500,000-$1 million/year\\n    extra first round pick for each additional $1M over $1M/year\\n\\n Group III:\\n  - players aged 30 and over\\n  - old club gets no compensation, but has right to match offer\\n  - to receive right to match, old club must make qualifying offer of 15%\\n    over player\\'s salary in prior season\\n\\n Group IV:\\n  - players considered defected free agents\\n\\n Group V:\\n  - player with 10 years of experience whose salary is below NHL average\\n    can choose to be a free agent without compensation once in his career.\\n \\n--------------------------------------------------------------------------\\n \\n2. NHL Minor Leagues\\n\\n The NHL minor leagues are the International Hockey League, the American \\nHockey League and the East Coast Hockey League.  Information on the \\nCentral Hockey League and the American Hockey Association can be found in \\nsection 4.\\n\\n-----\\n \\n IHL\\n \\n contacts:\\n  IHL: Rob Springall <rgs7077@ultb.isc.rit.edu>\\n  Atlanta Knights: Scott Clarkson <gt3394c@prism.gatech.edu>\\n  Cincinnati Cyclones: Joseph Combs <jgcombs@uceng.UC.EDU>\\n  Cleveland Lumberjacks: Rob Gasser <CSRAG@uoft02.utoledo.edu>\\n  Ft. Wayne Komets: Rob Gasser <CSRAG@uoft02.utoledo.edu>\\n**\\n  Milwaukee Admirals: Jason Hanson <jason@studsys.mscs.mu.edu>\\n  Salt Lake Golden Eagles: Roland Behunin <behunin@logdis1.oo.aflc.af.mil>\\n\\n  The International Hockey League has granted a franchise to a Las Vegas \\ngroup headed by Henry Stickney for the 1993-1994 season.\\n\\n**\\n        The International Hockey League named Bob Chase. voice of the Fort \\nWayne Komets, as the league\\'s broadcaster of the year. The IHL also said \\nthe annual award, effective next year, will be named in Chase\\'s honor.\\n        Also honored by the IHL were Jim Loria of the Kansas City Blades \\nas marketing director of the year, Shelly Gartner of the Phoenix \\nRoadrunners as merchandise manager of the year and Steve Doherty of the \\nKalamazoo Wings as public relations director of the year.\\n\\n**\\n        The Atlanta Knights of the International Hockey League announced \\nThursday, April 8, that Manon Rheaume will be the starting goaltender in a \\nhome game Saturday night, April 10, against the Cincinnati Cyclones. \\nRheaume will become the first female to start in a regular season \\nprofessional hockey game.\\n\\n**\\nFort Wayne -- Announced winger Scott Gruhl will retire at the end of the \\nInternational Hockey League season. Gruhl will join the Muskegon Fury of \\nthe Colonial League.\\n**\\n  The Fort Wayne Komets said they have been told by Winnipeg that the Jets \\nwill keep a minor league affiliation with Moncton of the American Hockey \\nLeague. There have been reports the Jets would move players from Moncton \\nto Fort Wayne next season.\\n\\n**\\n  The San Diego Gulls of the International Hockey League set a record with \\ntheir 61st victory, 5-1, over the Salt Lake Golden Eagles. The Gulls (61-\\n11-8) became the first team in professional hockey to win that many games \\nin a season. The 1976-77 Montreal Canadiens won 60 games.\\n\\n  IHL\\'s 1992 Turner Cup: The Kansas City Blades defeated Muskegon \\nLumberjacks 4 games to 0.\\n\\n-----\\n \\n AHL\\n\\n contacts:\\n  AHL: Rob Springall <rgs7077@ultb.isc.rit.edu>\\n       Bri Farenell <farenebt@craft.camp.clarkson.edu>\\n       Mark Anania <ananim@rpi.edu>\\n\\nSee Section 5 for newsletter information.\\n\\n Atlantic Division: Cape Breton, Fredericton, Halifax, Moncton, St. John\\'s\\n Northern Division: Adirondack, Capital District, Providence, New Haven, \\nSpringfield\\n Southern Division: Baltimore, Binghamton, Hershey, Rochester, Utica, \\nHamilton\\n\\n       The New Haven Senators have been sold by Peter Shipman to the \\nOttawa Senators NHL organization. They are the only Canadian NHL team with \\nan American AHL affiliate, and have made it clear they intend to move the \\nteam to somewhere in the Canadian Atlantic Provinces. This sale and move \\nhas yet to be approved by the AHL head office, but is expected to pass \\neasily at the general meeting in May.\\n  The Baltimore Skipjacks, the Washington Capitals\\' American Hockey League \\naffliate, will skate next season as the Portland Pirates.\\n  The Calgary Flames will base their farm team in the AHL in St. John, New \\nBrunswick next season.  The team will be called the St. John Blue Flames.\\n**\\n  The Fort Wayne Komets of the IHL said they have been told by Winnipeg of \\nthe NHL that the Jets will keep a minor league affiliation with Moncton of \\nthe American Hockey League. There have been reports the Jets would move \\nplayers from Moncton to Fort Wayne next season.\\n\\n  AHL\\'s 1992 Calder Cup: The Adirondack Red Wings beat the St. John\\'s \\nMaple Leafs 4 games to 3. The home-ice curse held true as all games in the \\nfinal were won by the visiting team. \\n  John Anderson (New Haven) is 1992 winner of Les Cunningham Plaque as AHL \\nMVP.\\n \\n-----\\n \\n ECHL\\n\\ncontacts:\\n  ECHL, Toledo Storm: Rob Gasser <CSRAG@uoft02.utoledo.edu>\\n\\n        The Toledo Storm hockey team is asking SeaGate Convention Center \\nto consider becoming its host site beginning with the 1994-95 season. The \\nStorm, which has played its last two seasons in the Toledo Sports Arena, \\nsaid it asked for 55 dates in the downtown facility. The Storm also has \\nbeen talking with backers of a proposed ice complex in suburban Sylvania \\nto become a primary tenant.\\n\\n ECHL\\'s 1992 Riley Cup: Hampton Roads beat Louisville 4 games to 0.\\n\\nSee Section 5 for newsletter information.\\n\\n-----\\n \\n Minor League Affiliates for NHL teams:\\n \\n Bos: Providence Bruins (AHL), Johnstown Chiefs (ECHL)\\n Buf: Rochester Americans (AHL), Erie Panthers (ECHL)\\n Cal: Salt Lake Golden Eagles (IHL), Roanoke Valley Rebels (ECHL)\\n Chi: Indianapolis Ice (IHL), Columbus Chill (ECHL), St. Thomas (Col. HL)\\n Det: Adirondack Red Wings (AHL), Toledo Storm (ECHL)\\n Edm: Cape Breton Oilers (AHL), Winston-Salem Thunderbirds (ECHL)\\n Har: Springfield Indians (AHL), Louisville Icehawks (ECHL)\\n LA : Phoenix Roadrunners (IHL), Raleigh Icecaps (ECHL)\\n Min: Kalamazoo Wings (IHL), Dayton Bombers (ECHL)\\n Mon: Fredericton Canadiens (AHL), Winston-Salem Thunderbirds (ECHL), \\nFlint (Col. HL)\\n NJ : Utica Devils (AHL), Birmingham Bulls (ECHL)\\n NYI: Capital District Islanders (AHL), Richmond Renegades (ECHL)\\n NYR: Binghamton Rangers (AHL)\\n Ott: New Haven Senators (AHL), Thunder Bay (Col. HL)\\n Phi: Hershey Bears (AHL)\\n Pit: Cleveland Lumberjacks (IHL), Knoxville Cherokees (ECHL)\\n Que: Halifax Citadels (AHL), Greensboro Monarchs (ECHL)\\n SJ : Kansas City Blades (IHL), Nashville Knights (ECHL)\\n StL: Peoria Rivermen (IHL), Dayton Bombers (ECHL), Flint (Col. HL)\\n TB : Atlanta Knights (IHL)\\n Tor: St. John\\'s Maple Leafs (AHL), Raleigh Icecaps (ECHL), Brantford \\n(Col. HL)\\n Van: Columbus Chill (ECHL), Hamilton Canucks (AHL)\\n Was: Baltimore Skipjacks (AHL), Hampton Roads Admirals (ECHL)\\n Win: Moncton Hawks (AHL), Thunder Bay (Col. HL)\\n \\n Ind: Cincinnati Cyclones (IHL)\\n      Fort Wayne Komets (IHL)\\n      Michigan Falcons (Colonial HL)\\n      Milwaukee Admirals (IHL)\\n      San Diego Gulls (IHL)\\n      St. Thomas (Colonial HL)\\n\\n--------------------------------------------------------------------------\\n \\n3. College Hockey\\n \\ncontacts:\\n  NCAA: Mike Machnik <nin15b34@merrimack.edu>\\n  Wisconsin Badgers: Jeff Horvath <horvath@cs.wisc.edu>\\n  CCHA, Bowling Green State: Keith Instone <instone@euclid.bgsu.edu>\\n  ECAC, Clarkson: Bri Farenell <farenebt@craft.camp.clarkson.edu>\\n\\n- e-mail lists:\\n Wayne Smith <wts@maine.maine.edu> maintains 2 lists, one for discussions \\n(HOCKEY-L) and one for news (HOCKEY-D):\\n \\n send e-mail to <listserv@maine.maine.edu> with body:\\n SUBSCRIBE HOCKEY-L <name & favorite team>\\n or\\n SUBSCRIBE HOCKEY-D <name>\\n   (a read-only list containing news from HOCKEY-L)\\n\\nUp-to-date Division I standings and scores can be obtained through the \\narchives of the College Hockey Mailing List.  Send a message to the server \\nat listserv@maine.maine.edu with the body containing ONLY the commands \\n(either or both)\\n\\n - ftp site: andy.bgsu.edu\\n  The directory \"pub/Hockey\" contains CCHA press releases, scores, \\nstandings, and rosters. The sub-directory \"Archives\" has archives of the \\nDivision I college hockey mailing list since 1989. Also, archives from the \\nDivision III list since May 1992 are available.\\n\\n  NCAA hockey championship:\\nSemi-finals:  Maine 4, Michigan 3 (OT)\\n              Lake Superior State 6, Boston University 1\\nFinals:  Maine 5, Lake Superior State 4\\n\\n  Freshman Paul Kariya who was named winner of the 1992-93 Hobey Baker \\nAward as college hockey\\'s top player.\\n\\n**\\n  The NCAA Division I Hockey Championships will be held at the St. Paul \\nCivic Center in St. Paul, Minnesota, on March 31 and April 2, 1994.\\n  For priority seating call the University of Minnesota Ticket Office at \\n(612) 624-8080, between 8:00 a.m. and 5:00 p.m., Monday through Friday or \\nsend a postcard to:\\n\\nUniversity of Minnesota Ticket Office\\n1994 NCAA Hockey Championships\\n516 15th Avenue SE\\nMinneapolis  MN  55455\\n\\n- NCAA Division I Teams\\n \\n CCHA (Central Collegiate Hockey Association):\\nBowling Green, Ferris State, Illinois-Chicago, Lake Superior, Miami, \\nMichigan, Michigan State, Ohio State, Western Michigan, Notre Dame, Kent \\nState, Alaska-Fairbanks (affiliate member )\\n \\n        CCHA Playoff structure:  The top 6 will host the bottom 6 (1 vs \\n12, 2 vs 11, etc) in a two-of-three weekend series The six winners will \\nadvance to Joe Louis Arena for single elimination the rest of the way. The \\ntop 2 remaining seeds get a bye while 3 plays 6 and 4 plays 5 on the first \\nnight. On the second night, the 4 remaining teams battle it out, leaving \\nonly two to play for the championship, on the third night. Alaska-\\nFairbanks, as an affiliate member, will be seeded from #7 to #12 by the \\nleague office.\\n\\n ECAC (Eastern College Athletic Conference) (men\\'s):\\nBrown, Clarkson, Colgate, Cornell, Dartmouth, Harvard, Princeton, RPI, St. \\nLawrence, Union, Vermont, Yale\\n\\n ECAC (Eastern College Athletic Conference) (women\\'s):\\nBrown, Colby, Cornell, Dartmouth, Harvard, New Hampshire, Northeastern, \\nPrinceton, Providence, Rochester Institute of Technology, St. Lawrence, \\nYale\\n\\n        The Eastern Collegiate Athletic Conference unveiled the nation\\'s \\nfirst intercollegiate women\\'s ice hockey league and announced the 12 teams \\nwill begin play in the 1993-94 season. The top eight finishers in the ECAC \\nWomen\\'s Ice Hockey League will qualify for a post-season tournament. The \\nleague replaces an informal 15-team conference of nine Division I and six \\nDivision III schools, which held their own respective division tournaments \\nat the end of the regular season. The ECAC said it would discontinue its \\nDivision III women\\'s tournament after the 1992-93 season.\\n\\n Hockey East:\\nBoston College, Boston University, UMass-Lowell, Maine, Merrimack, New \\nHampshire, Northeastern, Providence\\n \\n WCHA (Western Collegiate Hockey Association):\\nColorado College, Denver, Michigan Tech, Minnesota, Minnesota-Duluth, \\nNorth Dakota, Northern Michigan, St Cloud, Wisconsin\\n \\nAlaska-Anchorage has joined the WCHA as a full-fledged member for 93-94\\n \\n Independents:\\nAir Force, Alabama-Huntsville, Alaska-Anchorage, Alaska-Fairbanks, Army\\n\\n-----\\n\\n - Canadian Intercollegiate Athletic Union\\n\\n CIAU Championships:\\n Finalists:\\n Team:                                         Division:\\n University of Alberta Golden Bears            West\\n University of Guelph Gryphons                 Ontario West\\n University of Toronto Varsity Blues           Ontario East\\n University of Acadia Axemen                   East\\n\\n Semi-finals:  Acadia 9, Alberta 4\\n               Toronto 3, Guelph  2\\n Finals:  Acadia 12, Toronto 1\\n\\n--------------------------------------------------------------------------\\n \\n4. Other Hockey Leagues\\n \\n - 1992 World Championships in Czechoslovakia\\n \\n Sweden defeated Finland 5-2 (gold medal match)\\n Czechoslovakia defeated Switzerland 5-2 (bronze medal match)\\n \\n Final Standings (round robin):\\n \\n GROUP A   W T L  GF GA Pts   GROUP B  W T L  GF GA PTS\\n Finland   5 0 0  32  8  10   Russia   4 1 0  23 10   9\\n Germany   4 0 1  30 14   8   Czech    4 0 1  18  7   8\\n USA       2 1 2  14 15   5   Switz    2 2 1  12 11   6\\n Sweden    1 2 2  14 12   4   Canada   2 1 2  15 18   5\\n Italy     1 1 3  10 18   3   Norway   1 0 4   8 16   2\\n Poland    0 0 5   8 41   0   France   0 0 5   8 22   0\\n \\n Austria will replace Poland in Pool A of 1993 WC in Germany\\n \\n  The 1993 World Championships (Pool A) is scheduled to run from Apr 18 to \\nMay 2 in Munich, Germany.\\n\\n-----\\n**\\n - 1993 World Championships (Pool B) in Eindhoven, the Netherlands\\n\\n                    #g    w l t    pts      gf    ga\\n1. Great Britain     7    7 0 0    14       50    13\\n2. Poland            7    6 1 0    12       71    12\\n3. Netherlands       7    5 2 0    10       47    20\\n4. Denmark           7    4 3 0     8       38    24\\n5. Japan             7    3 4 0     6       34    31\\n6. Romania           7    2 5 0     4       20    44\\n7. China             7    1 6 0     2       12    79\\n8. Bulgaria          7    0 7 0     0        9    58\\n\\nGreat Britain advances to Pool A.  Bulgaria is relegated to Pool C.\\n\\n-----\\n \\n - 1992 Olympic Games\\n**\\n- e-mail lists:\\n Charlie Slavin <slavin@maine.maine.edu> maintains OlymPuck - The Olympic \\nHockey Discussion List:\\n \\n send e-mail to <listserv@maine.maine.edu> with body:\\nSUBSCRIBE   OlymPuck   your_name   favorite country(ies)\\n\\n CIS won the gold, Canada the silver, and Czechoslovakia the bronze \\n(defeated USA).\\n \\n Yale hockey coach Tim Taylor was named coach for the \\'94 US Olympic Team.\\n \\n Dany Dube from the UQTR Patriotes (CIAU) and Tom Renney from the Kamloops \\nBlazers (WHL) are co-coaches of Canada\\'s national program.\\n\\n     The 1998 Nagano Winter Olympic Organizing Committee said it has \\napproved the addition of women\\'s ice hockey and curling to the list of \\nofficial medal events at the Games.  The decision, which came at the \\norganizing committee meeting here, followed an accord reached in Nagano \\nbetween the committee and the IOC Coordination Committee.  The decision \\nwill be formally ratified by an Executive Board meeting of the \\nInternational Olympic Committee (IOC) and its Session.  As a result, the \\nnumber of total events at Nagano will increase to 64 in seven sports.\\n\\n-----\\n \\n- 1991 Canada Cup\\n \\n Team Canada defeated Team USA 2 games to 0.\\n \\n-----\\n\\n - 1992 Izvestia hockey tournament\\n\\n Final:  Russia II - Czechoslovakia  2-1\\n Game for 3rd and 4th place:  Russia I - Sweden  4-1\\n Game for 5th and 6th place:  Finland - Switzerland  3-1\\n Game for 7th and 8th place:  Canada - Germany  6-1\\n\\n Final Standings for the 25th Izvestia Cup:\\n  1. Russia II (the Russian Olympic team)\\n  2. Czechoslovakia\\n  3. Russia I\\n  4. Sweden\\n  5. Finland\\n  6. Switzerland\\n  7. Canada\\n  8. Germany\\n\\n-----\\n\\n- 1992 Germany Cup\\n\\n        Russia defeated Team Canada 6-3 to win the $170,000 four-team \\nGermany Cup for the third time. The Russian team, coached for the first \\ntime by the legendary Boris Michailov, assured itself of the $67,000 \\nwinner\\'s check after a 3-1 win over Czechoslovakia. The former Soviet \\nUnion and Commonwealth of Independent States captured the tournament in \\n1988 and 1991 under Viktor Tikhonov.\\n\\n-----\\n\\n- 1992 Spengler Cup\\n\\n        Canada, with Fabian Joseph scoring his second goal of the game at \\n3:47 of overtime, beat Farjestad (Sweden) 6-5 in the final of the Spengler \\nCup at Davos, Switzerland. The Canadians overcame a two-goal deficit in \\nthe final two minutes of regulation and went on to earn their second \\novertime victory within 15 hours.\\n\\n Final:\\n\\n Team Canada - Farjestad (Sweden)  6-5 (1-1,2-2,2-2,1-0)  OT\\n\\n-----\\n\\n- 1992 European cup finals\\n\\nDuesseldorf, December 30, 1992\\n\\nBronze:  Jokerit Helsinki - Lions Milano 4-2.\\n\\nGold:  Malmoe IF - Dynamo Moscow 4-3 (Shootout)\\n\\n  This was the third successive European championship for a Swedish team: \\nin 1990 and 1991 the champion was Djurgaarden (Stockholm).\\n\\n-----\\n\\n- 1993 Sweden Hockey Games\\n**\\n Final Standings:\\n\\n                     GP  W T L  GF-GA      P\\n 1. Sweden            3  2 0 1  13- 8  +5  4\\n 2. Czech Republic    3  2 0 1  16-11  +5  4\\n 3. Russia            3  1 1 1   9-11  -2  3\\n 4. Canada            3  0 1 2  13-21  -8  1\\n\\n Sweden wins due to head-to-head result vs the Czech republic.\\n\\n-----\\n \\n- Junior Leagues\\n \\n contact:\\n  WHL: Randy Coulman <coulman@skdad.usask.ca>\\n       Mitch McGowan <hamlet@u.washington.edu>\\n\\n        The site for the 75th Memorial Cup Tournament has yet to be \\nchosen.  It will be staged in Ontario but the exact location won\\'t be \\ndetermined until next spring.\\n        In March of \\'93, the two regular-season division champions from \\nthe Ontario Hockey League will meet in a best-of-seven series at the start \\nof the playoff season.  The winner of the series earns the right to host \\nthe Memorial Cup, traditionally held in May.\\n        The eventual OHL champion will also participate in the tourney. \\nBut if the league champs also happen to be the club hosting the Memorial \\nCup, then the league finalists will advance as well.\"\\n\\n Charles Poulin (Mon draft) of St-Hyacinthe (QMJHL) is \\'92 Canadian Hockey \\nLeague Player of the Year.\\n \\n 1992 Memorial Cup at Seattle\\n \\n Round-robin standings              W  L  GF  GA\\n Sault Ste. Marie Greyhounds (OHL)  3  0  14   8\\n Kamloops Blazers (WHL)             2  1  10   7\\n Seattle Thunderbirds (WHL host)    1  2   9  10\\n Verdun College Francais (QMJHL)    0  3   5  13 \\n \\n Semifinal   Kamloops 8  Seattle 3\\n Final       Kamloops 5  Sault Ste. Marie 4\\n \\n-----\\n\\n - Central Hockey League\\n \\n contact:\\n  Marc Foster <mfoster@metgem.gcn.uoknor.edu>\\n              <mfoster@alliant.backbone.uoknor.edu>\\n  Ted Wollnik <twollnik@rdxsun11.aud.alcatel.com>\\n\\nSee Section 5 for newsletter information.\\n\\n CHL:\\nFort Worth Fire, Wichita Thunder, Dallas Freeze, Tulsa Oilers, Memphis \\nRiver Kings, Oklahoma City Blazers\\n\\n  Six non-affiliated teams play a 60 game schedule extending from early \\nNovember to mid March. Each team is owned by the league, with local \\ninterests controlling day to day operations. Each team has a $100,000 \\nsalary cap for 17 total players (16 dress up). Unlike the ECHL, players \\nare not limited to three years in the league.\\n  A Western Division may be added to the Central Hockey League for the 93-\\n94 season if the plans of CHL president Ray Miron materialize.  Miron \\nconfirmed that El Paso, Amarillo, Tuscon, and Albuquerque are cities under \\nconsideration for the Western Division, which would play some interlocking \\ngames with the Eastern Division.  Meanwhile, San Antonio and Houston are \\nclose to being confirmed as the league\\'s newest members.\\n\\n-----\\n\\n - Major League Hockey\\n \\n        A new hockey league with franchises throughout the United States \\nand Canada will begin play in the fallof 1993, officials announced \\nWednesday, February 10.\\n        Major League Hockey was founded by Roy Boe, former president of \\nthe New York Islanders of the National Hockey League and the New York/New \\nJersey Nets of the American and National Basketball associations.\\n        According to Boe, the league will debut with six to eight teams \\nplaying a schedule of approximately 80 games. Franchise applications have \\nbeen received from groups in Chicago, Cleveland, Dallas, Denver, Detroit, \\nHouston, Minneapolis-St. Paul, Phoenix, San Francisco, Saskatoon, Toronto \\nand Worcester, Mass., Boe said.\\n        Although the league will not raid existing leagues to stock its \\nrosters, Boe said it will seek the ``world\\'s finest hockey players.\\'\\'\\n        Boe said league play will have an international flair and \\ndiscussed implementing some rules which are reminiscent of those of the \\nIIHF.\\n        ``We\\'re removing the red line, moving the goal nets forward and \\neliminating all tie games,\\'\\' said Boe.\\n        The MLH office will operate out of Stamford, Conn.\\n\\n-----\\n \\n- British Premier Division:\\n \\n contacts:\\n  Neil A. McGlynn: <nmcglynn@axion.bt.co.uk> (from NA)\\n                   <nmcglynn@uk.co.bt.axion> (from Europe)\\n  Steve Salvini: <steve@cs.hw.ac.uk>\\n \\n Contact Steve for the GB USENET draft.\\n\\n e-mail list: send e-mail to <uk-hockey-request@cee.hw.ac.uk> to \\nsubscribe.\\n\\n Durham Wasps defeated Nottingham Panthers 7-6 in \\'92 British championship \\ngame.\\n \\n-----\\n \\n- Finnish Elite League (SM-LIIGA):\\n\\n contacts:\\n  Juha Koivisto & Kimmo Kauranen  <hockey@tac.fi>\\n  Vesa J Pyyluoma <veikko@vipunen.hut.fi>\\n\\nFinal standings 91-92:\\n  1) Jokerit, Helsinki 2) JyP HT, Jyvaskyla  3) HIFK, Helsinki\\n  4) Assat, Pori       5) TPS, Turku         6) Lukko, Rauma\\n  7) KalPa, Kuopio     8) HPK, Hameenlinna   9) Ilves, Tampere\\n  10) Reipas, Lahti   11) Tappara, Tampere  12) JoKP, Joensuu\\n  JoKP dropped and Kiekko-Espoo from Espoo qualified to the SM-LIIGA\\n\\nIndividual stats leaders 91-92:\\n  Points:  Makela Mikko, TPS      25+45=70   (+ playoffs:  2+3=5 )\\n  Scoring: Selanne Teemu, Jokerit 39+23=62   (+ playoffs: 10+7=17)\\n\\nAll Stars 91-92:\\n  Briza Petr (Lukko),  Virta Hannu (TPS),  Laurila Harri (JyP HT),\\n  Makela Mikko (TPS),  Janecky Otakar (Jokerit),  Selanne Teemu (Jokerit)\\n\\n-----\\n \\n- German Hockey League:\\n \\n contact:\\n  Andreas Stockmeier <stocki@cs.tu-berlin.de> or <stocki@tub.UUCP>\\n \\n Duesseldorfer Eishockey-Gemeinschaft defeated SB Rosenheim in \\'92 German \\nfinal\\n\\n-----\\n\\n - Swedish Elite League (Elitserien):\\n\\n contact:\\n  Staffan Axelsson <etxonss@ufsa.ericsson.se>\\n\\n**\\n 1992-93 regular season final standings:\\n 1. Vasteras      2. Brynas        3. Malmo         4. Farjestad\\n 5. MoDo          6. Lulea         7. Leksand       8. Djurgarden\\n 9. HV 71        10. Rogle        11. Frolunda     12. AIK\\n\\n Brynas defeated Lulea 3 games to 2 for the 1993 Swedish hockey \\nchampionship.\\n\\n-----\\n \\n - Swiss First Division:\\n\\n Kloten became the 1992-93 champions of the Swiss League Nationale A\\nby beating Fribourg-Gotteron 4-2 to sweep the final series 3-0.\\n\\n-----\\n \\n - 1992 Women\\'s World Championships at Finland\\n  1 Canada, 2 USA, 3 Finland, 4 Sweden, 5 China, 6 Norway, 7 Denmark, \\n  8 Switzerland\\n \\n-----\\n\\n 1993 World Junior Hockey Championships at Sweden\\n\\n Final Standings:\\n\\n                   GP  W T L  GF-GA  +/-   P\\n 1. Canada          7  6 0 1  37-17  +20  12\\n 2. Sweden          7  6 0 1  53-15  +38  12\\n 3. Czechoslovakia  7  4 1 2  38-27  +11   9\\n 4. USA             7  4 0 3  32-23  + 9   8\\n 5. Finland         7  3 1 3  31-20  +11   7\\n 6. Russia          7  2 2 3  26-20  + 6   6\\n 7. Germany         7  1 0 6  16-37  -21   2\\n 8. Japan           7  0 0 7   9-83  -74   0\\n\\n Canada wins gold due to head-to-head result vs Sweden.\\n\\n--------------------------------------------------------------------------\\n \\n5. Info available via e-mail\\n\\n  When requesting items via e-mail please include your preferred address \\nin the body of the message.  Sometimes the reply-to address is not a good \\nthing to go by.\\n\\n - ftp site: wuarchive.wustl.edu (128.252.135.4)\\n        In directory /doc/misc/sports/nhl there are some new hockey files.\\n        Get the README file for information and contents.\\n\\n---\\n\\n - E-mail lists:\\n \\n List Topic (Freq.)                      To Subscribe\\n Boston Bruins                           bruins-request@cs.Usask.CA\\n     List Address                        bruins@cs.Usask.CA\\n Buffalo Sabres                          sabres-request@potter.csh.rit.edu\\n     List Address                        sabres@potter.csh.rit.edu\\n Los Angeles Kings                       kings-request@cs.stanford.edu\\n     List Address                        kings@cs.stanford.edu\\n**\\n Montreal Canadiens                      habs-request@janus.sdsu.edu\\n     List Address                        habs@janus.sdsu.edu\\n Philadelphia Flyers                     seth@hos1cad.att.com\\n Pittsburgh Penguins                     gp2f+@andrew.cmu.edu\\n     List Address                        gp2f@andrew.cmu.edu\\n St. Louis Blues                         jca2@cec1.wustl.edu\\n San Jose Sharks                         sharks-request@medraut.apple.com\\n     List Address                        sharks@medraut.apple.com\\n Tampa Bay Lightning                     wilson@cs.ucf.edu\\n Vancouver Canucks                       boey@sfu.ca\\n     List Address                        vancouver-canucks@sfu.ca\\n Washington Capitals                     david@eng.umd.edu\\n     List Address                        caps@monster.umd.edu\\n NHL Boxscores (M-F)                     bks@cbnewsh.cb.att.com\\n NHL Boxscores (S-S)                     jpc@philabs.philips.com\\n NHL Goalie Stats (d)                    coulman@cs.Usask.CA\\n NHL Scores (n)                          wilson@cs.ucf.edu\\n NHL Team Stats (w)                      wilson@cs.ucf.edu\\n AHL Newsletter                          ahl-news-request@hamlet.cmu.edu\\n     List Address                        ahl-news@hamlet.cmu.edu\\n ECHL Newsletter                         echl-news-request@andrew.cmu.edu\\n     List Address                        echl-news@andrew.cmu.edu\\n US College Hockey                       (see section 3)\\n NCAA Division III Hockey                hockey3-request@hooville.mitre.org\\n     List Address                        hockey3@request.mitre.org\\n CHL Newsletter                          mfoster@geohub.gcn.uoknor.edu\\n British League                          uk-hockey-request@uk.ac.hw.cs\\n**\\nOlympic Hockey                           (see section 4)\\n\\n Freq: M-F=Monday-Friday, S-S=Saturday-Sunday, d=daily, n=nightly, \\nw=weekly\\n \\n If you have something interesting, make it available. When requesting, \\nuse the keyword in the body or subject. Also, specify team, date, etc., \\nwhere applicable.\\n \\n Available from Eric Rickin <ab870@cleveland.freenet.edu>:\\n Keyword    Description\\n AHLADDR    AHL team addresses\\n CANJUNIORS Canada junior teams\\n NHLTV      TV stations for each team\\n NHLRADIO   Radio stations for each team\\n USJUNIORS  US junior teams\\n XXXXDRAFT  XXXX (for XXXX=1989-1992) NHL Entry Draft\\n 1991EXP    1991 NHL Expansion & Dispersal Draft\\n \\n Available from Rob Springall <rgs7077@ultb.isc.rit.edu>:\\n Keyword    Description\\n AHL        Up-to-date info on the AHL\\n IHL        Up-to-date info on the IHL\\n NHL.C      A C program that prints the 91-92 NHL schedule for a specified \\n            day\\n \\n Available from Stan Willis <willis@empire.dnet.hac.com>:\\n Keyword    Description\\n ATTEND     91-92 NHL team home attendance report by quarters\\n PSLOGOS    NHL team logos in PostScript\\n \\n Available from David Anthony Wyatt <wyatt@ccu.umanitoba.ca>:\\n Keyword    Description\\n ALLLIST    All-time List of Professional Hockey Franchises\\n \\n Available from Roland Behunin <behunin@logdis1.oo.aflc.af.mil>:\\n Keyword    Description\\n SATINFO    Satellite info for NHL teams\\n \\n Available from Mike Machnik <nin15b34@merrimack.edu>:\\n Keyword    Description\\n DIV1SCHED  92-93 NCAA Division I scores\\n Mike can also provide a schedule for any of the 46 Division I teams to \\npeople who ask.  E-mail him for details.\\n\\n Available from Bill Clare <Clare@Kodak.COM>:\\n Keyword    Description\\n RETIRED    List of retired numbers for NHL players\\n \\n Available from Staffan Axelsson <etxonss@ufsa.ericsson.se>:\\n Keyword    Description\\n WCMEDALS   World Championships Medalists 1920-1992\\n WCSTAND    World Championships All-Time Standings, Pool A 1920-1992\\n WCALSTAR   World Championships All-Star Teams 1961-1992\\n WCROSTXX   World Championships Gold Winning Teams\\' Rosters 1958-1992 \\n            (Specify XX=58-92)\\n WJHC       History of medals given at the World Junior Hockey \\n            Championships\\n WJHCSTAT   Team and player stats from the World Junior Hockey \\n            Championships.\\n\\n Available from Paul Brownlow <paul@data-io.com>:\\n Keyword    Description\\n CHLPOY     Past Canadian Hockey League players of the year\\n MEMCUP     Past Memorial Cup winners\\n\\n Available from <wilson@cs.ucf.edu>:\\n To use the statsmailer, send e-mail to \"wilson@cs.ucf.edu\" with subject \\n\"statsmailer\" and a body containing the word HELP to receive a list of \\nallowable commands. Things available: NHL team/league schedules/calendars, \\na plethora of team statistics, scores of games, and some assorted hockey \\nfiles. Seasons 1988-1992 available. New material was added on 1/19/93.\\n\\n Available from Mitch McGowan <hamlet@u.washington.edu>\\n Keyword    Description\\n ROSTERS    1993 NHL All-Star Game rosters\\n NHLLEAD    1991-92 NHL Leaders (Scoring, Goals, Assists, Power-play \\n            goals, Short-handed goals, Game-winning goals, Shots, Goals-\\n            against average, Victories, Save percentage, Shutouts)\\n ZAMBONI    Alan Thicke\\'s \"Book of Zamboni\" opening from the 1991 NHL  \\n            Awards broadcast\\n\\n Available from Matt Militzok <mmilitzo@skidmore.edu>\\n Keyword    Description\\n STATS      Up-to-date NHL statistics\\n\\n Available from Harry Peltz <hbpeltz@mailbox.syr.edu>\\n Keyword    Description\\n SCORES     Compilation of NHL scores for the current month (in compressed \\nand uuencoded format)\\nDates can also be specified for specific box scores, but try not to \\nrequest too many at one time (Max 5 box scores or three days).\\n\\n Available from Richard Stueven <gak@wrs.com>\\n Keyword    Description\\n DIRECT     Current NHL directory file\\n\\n Available from Michael Burger <mmb@lamar.colostate.edu>\\n Keyword    Description\\n TVINFO     TV/Radio stations for all teams along with network \\n            information.\\n\\nUp-to-date Division I standings and scores can be obtained through the \\narchives of the College Hockey Mailing List.  Send a message to the server \\nat listserv@maine.maine.edu with the body containing ONLY the commands \\n(either or both)\\n\\nGET 9293CONF STAND (for all Division I conference standings)\\nGET 9293COMP SCHEDULE (for a full-season listing of Division I scores)\\n\\nThe schedule is about 1000 lines long and the standings file is about 50 \\nlines.  These files are updated more-or-less weekly around Monday.  \\nContact Mike Machnik (nin15b34@merrimack.edu) with any questions.\\n--------------------------------------------------------------------------\\n \\n6. USENET Hockey Pool\\n \\n send e-mail to <andrew@idacom.hp.com>.\\n \\n--------------------------------------------------------------------------\\n \\n 7. Up-coming Dates\\n\\n Apr 18 - May 2: The 1993 World Championships (Pool A), Munich, Germany.\\n Jun 26: NHL entry draft, Quebec City, Quebec.\\n Feb 12 - Feb 27, 1994: XVII Olympic Winter Games, Lillehammer, Norway.\\n\\n--------------------------------------------------------------------------\\n \\n 8. Answers to some frequently asked questions:\\n \\n Q: Why are the Montreal Canadiens called the Habs?\\n A: Most of the team during the 40-50\\'s was made up of people who lived in \\nand around Montreal. Hence they were called \"Les Habitants\" (natives of \\nMontreal). This was then shortened to the Habs.\\n \\n Q: Why is the Montreal Canadiens logo a large C with an H within it?\\n A: In 1914-15, the Canadiens logo consisted of C with an A within it to \\nsignify Club Athletique Canadien (CAC). The next year, CAC no longer \\nexisted and it was changed to what it is now to signify Club de Hockey.\\n\\n Q: What is the most informative hockey publication?\\n A: The Hockey News is preferred by most North American hockey fans. It is \\na weekly journal with up-to-date info.\\nPhone: 800-268-7793 (Canada and US)\\nPhone/fax: 0483 776141 (UK and rest of Europe)\\n \\n Q: How does a 5-minute power-play count in the penalty killing stats in \\nthe NHL?\\n A: If X goals are scored, then the team gets credit for X goals in X+1 \\nchances.\\n \\n Q: How is +/- computed in the NHL?\\n A: First, +/- only applies to skaters. Except for a power-play goal, when \\na goal is scored, each skater on the ice for the scoring team is given a \\n+, and each skater on the ice for the other team is given a -. Short-\\nhanded goals do count for +/-.\\n \\n Q: What is the five-hole?\\n A: The space between a goalie\\'s pads. There are five major scoring zones: \\n(1) upper left corner of goal, (2) upper right, (3) lower left, (4) lower \\nright, and (5) five-hole.\\n \\n Q: What is the meaning of throwing an octopus on the ice?\\n A: This tradition began in Detroit in the 1950\\'s when two best-of-seven \\nseries were required to win the Stanley Cup. Every time Detroit won a \\ngame, an octopus with one less arm was thrown on the ice.\\n\\n Q: Who was the first woman to play in an NHL game?\\n A: Manon Rheaume, a 20-year-old goaltender, became the first woman ever \\nto play in an NHL game on September 23, 1992 when she started in net for \\nthe expansion Tampa Bay Lightning in an exhibition against the St. Louis \\nBlues. Rheaume played the first period before 8,223 at the 10,400-seat \\nExpo Hall on the Florida State Fairgrounds and allowed two goals on nine \\nshots. She left with the score tied 2-2, although the Lightning ultimately \\nlost the game, 6-4.\\n\\n Q: What is the richest contract in NHL history?\\n A: Mario Lemieux, the superstar center of the Pittsburgh Penguins, signed \\nthe richest contract in NHL history, a seven-year deal believed to be \\nworth about $42 million. Lemieux will earn between $6 million and $7 \\nmillion a year, nearly twice as much as any other player in the league.\\n\\n Q: Who is the new commissioner of the NHL?\\n A: Gary Bettman, vice president and general counsel of the National \\nBasketball Association, was named commissioner of the National Hockey \\nLeague, Friday, December 11, 1992. Bettman joined the NBA in 1981 as \\nassistant general counsel. He became the league\\'s chief legal officer in \\nSeptember of 1984. A New York resident, Bettman graduated from Cornell \\nUniversity in 1974 and from New York University School of Law in 1977.\\n\\n Q: How many professional hockey leagues are there in North America?\\n A: Six:  National, American, International, East Coast, Central and \\nColonial Hockey Leagues.\\n\\n--------------------------------------------------------------------------\\n \\n9. Miscellaneous:\\n \\n For field hockey discussions, go to the newsgroup rec.sport.hockey.field.\\n For skating discussions, go to the newsgroup rec.skate.\\n \\n Some sites get another hockey group, called clari.sports.hockey. c.s.h \\nconsists of the UPI feed for all UPI news articles that are related to \\nhockey, including game results, summaries, scores, standings, etc.  Much \\nof the information in the NHL team news section comes from this newsgroup.\\n \\n  The rec.sport.hockey Frequently Asked Questions posting is posted semi-\\nmonthly, usually on the 1st and 15th of each month, during the hockey \\nseason.  This file was originally created by Tom Wilson, who posted it \\nduring the 1991-92 season.  It was taken over by Mitch McGowan for the \\n1992-93 season.\\n\\n--------------------------------------------------------------------------\\n \\n  Please make corrections via e-mail, indicating \"r.s.h FAQ\" as the \\nsubject line. Feel free to start a discussion on any previously mentioned \\ntopic (but use an appropriate subject line).\\n \\nMitch McGowan <hamlet@u.washington.edu>'"
      ]
     },
     "execution_count": 13,
     "metadata": {},
     "output_type": "execute_result"
    }
   ],
   "source": [
    "dataset.data[7731]"
   ]
  },
  {
   "cell_type": "code",
   "execution_count": 14,
   "metadata": {},
   "outputs": [
    {
     "data": {
      "image/png": "[encoded data removed]",
      "text/plain": [
       "<Figure size 432x288 with 1 Axes>"
      ]
     },
     "metadata": {
      "needs_background": "light"
     },
     "output_type": "display_data"
    }
   ],
   "source": [
    "plt.hist(len_chars[-100:], 100);"
   ]
  },
  {
   "cell_type": "code",
   "execution_count": 15,
   "metadata": {},
   "outputs": [
    {
     "data": {
      "image/png": "[encoded data removed]",
      "text/plain": [
       "<Figure size 432x288 with 1 Axes>"
      ]
     },
     "metadata": {
      "needs_background": "light"
     },
     "output_type": "display_data"
    }
   ],
   "source": [
    "plt.hist(len_chars[len_chars < 3000], 100);"
   ]
  },
  {
   "cell_type": "code",
   "execution_count": 16,
   "metadata": {},
   "outputs": [
    {
     "data": {
      "image/png": "[encoded data removed]",
      "text/plain": [
       "<Figure size 1440x720 with 1 Axes>"
      ]
     },
     "metadata": {
      "needs_background": "light"
     },
     "output_type": "display_data"
    }
   ],
   "source": [
    "fig, ax = plt.subplots(figsize=(20, 10))\n",
    "ax.hist(len_chars[np.logical_and(len_chars > 1, len_chars < 3000)], 200)\n",
    "ax.set_title('Histogram of document lengths')\n",
    "ax.set_xlabel('Document length')\n",
    "ax.set_ylabel('Frequency');"
   ]
  },
  {
   "cell_type": "markdown",
   "metadata": {},
   "source": [
    "## Lengths in words"
   ]
  },
  {
   "cell_type": "markdown",
   "metadata": {},
   "source": [
    "#### Tokenize documents"
   ]
  },
  {
   "cell_type": "code",
   "execution_count": 17,
   "metadata": {},
   "outputs": [
    {
     "data": {
      "text/plain": [
       "'\\nI\\'ve been a very intent NREN spectator of the NREN for years.  As a \\ncommercial IP software vendor, it really is my professional opinion that the \\nNREN, at this point, is irrelevant to private sector networking.  If it had \\nbeen deployed five years ago, it would have been a major development.  Now,\\nhowever, it\\'s just an upgrade to the NSFnet, and an attempt to revive the \\nlagging use of the national supercomputer centers.  You could cut out the \\nNSFnet completely, and the Internet would continue chugging along without a \\nhiccup (aside from a few universities).\\n\\nLong-haul networking and Internet connectivity have long since ceased to be \\nunder federal sponsorship or regulation, at least in the USA.  The success of \\nthe CIX (Commercial Internet Exchange) is a prime example of this.  While our \\ndear VP has been promoting his \"data superhighway,\" the private sector has \\nbeen building it, without the NSFnet\\'s restrictions.\\n\\nTo illustrate, a connection from the machine on my desk to the machine your \\narticle was posted from (pizzabox.demon.co.uk) involves *only* commercial IP \\nproviders until it hits Amsterdam.  No NSFnet.  No NREN.  No \"appropriate \\nuse\" restrictions.  It\\'s even 1.544mbps (T1) until it hits the EUnet \\ngateway...\\n\\nQED.\\n'"
      ]
     },
     "execution_count": 17,
     "metadata": {},
     "output_type": "execute_result"
    }
   ],
   "source": [
    "dataset.data[100]"
   ]
  },
  {
   "cell_type": "code",
   "execution_count": 18,
   "metadata": {},
   "outputs": [
    {
     "data": {
      "text/plain": [
       "['I',\n",
       " \"'ve\",\n",
       " 'been',\n",
       " 'a',\n",
       " 'very',\n",
       " 'intent',\n",
       " 'NREN',\n",
       " 'spectator',\n",
       " 'of',\n",
       " 'the',\n",
       " 'NREN',\n",
       " 'for',\n",
       " 'years',\n",
       " '.',\n",
       " 'As',\n",
       " 'a',\n",
       " 'commercial',\n",
       " 'IP',\n",
       " 'software',\n",
       " 'vendor',\n",
       " ',',\n",
       " 'it',\n",
       " 'really',\n",
       " 'is',\n",
       " 'my',\n",
       " 'professional',\n",
       " 'opinion',\n",
       " 'that',\n",
       " 'the',\n",
       " 'NREN',\n",
       " ',',\n",
       " 'at',\n",
       " 'this',\n",
       " 'point',\n",
       " ',',\n",
       " 'is',\n",
       " 'irrelevant',\n",
       " 'to',\n",
       " 'private',\n",
       " 'sector',\n",
       " 'networking',\n",
       " '.',\n",
       " 'If',\n",
       " 'it',\n",
       " 'had',\n",
       " 'been',\n",
       " 'deployed',\n",
       " 'five',\n",
       " 'years',\n",
       " 'ago',\n",
       " ',',\n",
       " 'it',\n",
       " 'would',\n",
       " 'have',\n",
       " 'been',\n",
       " 'a',\n",
       " 'major',\n",
       " 'development',\n",
       " '.',\n",
       " 'Now',\n",
       " ',',\n",
       " 'however',\n",
       " ',',\n",
       " 'it',\n",
       " \"'s\",\n",
       " 'just',\n",
       " 'an',\n",
       " 'upgrade',\n",
       " 'to',\n",
       " 'the',\n",
       " 'NSFnet',\n",
       " ',',\n",
       " 'and',\n",
       " 'an',\n",
       " 'attempt',\n",
       " 'to',\n",
       " 'revive',\n",
       " 'the',\n",
       " 'lagging',\n",
       " 'use',\n",
       " 'of',\n",
       " 'the',\n",
       " 'national',\n",
       " 'supercomputer',\n",
       " 'centers',\n",
       " '.',\n",
       " 'You',\n",
       " 'could',\n",
       " 'cut',\n",
       " 'out',\n",
       " 'the',\n",
       " 'NSFnet',\n",
       " 'completely',\n",
       " ',',\n",
       " 'and',\n",
       " 'the',\n",
       " 'Internet',\n",
       " 'would',\n",
       " 'continue',\n",
       " 'chugging',\n",
       " 'along',\n",
       " 'without',\n",
       " 'a',\n",
       " 'hiccup',\n",
       " '(',\n",
       " 'aside',\n",
       " 'from',\n",
       " 'a',\n",
       " 'few',\n",
       " 'universities',\n",
       " ')',\n",
       " '.',\n",
       " 'Long-haul',\n",
       " 'networking',\n",
       " 'and',\n",
       " 'Internet',\n",
       " 'connectivity',\n",
       " 'have',\n",
       " 'long',\n",
       " 'since',\n",
       " 'ceased',\n",
       " 'to',\n",
       " 'be',\n",
       " 'under',\n",
       " 'federal',\n",
       " 'sponsorship',\n",
       " 'or',\n",
       " 'regulation',\n",
       " ',',\n",
       " 'at',\n",
       " 'least',\n",
       " 'in',\n",
       " 'the',\n",
       " 'USA',\n",
       " '.',\n",
       " 'The',\n",
       " 'success',\n",
       " 'of',\n",
       " 'the',\n",
       " 'CIX',\n",
       " '(',\n",
       " 'Commercial',\n",
       " 'Internet',\n",
       " 'Exchange',\n",
       " ')',\n",
       " 'is',\n",
       " 'a',\n",
       " 'prime',\n",
       " 'example',\n",
       " 'of',\n",
       " 'this',\n",
       " '.',\n",
       " 'While',\n",
       " 'our',\n",
       " 'dear',\n",
       " 'VP',\n",
       " 'has',\n",
       " 'been',\n",
       " 'promoting',\n",
       " 'his',\n",
       " '``',\n",
       " 'data',\n",
       " 'superhighway',\n",
       " ',',\n",
       " \"''\",\n",
       " 'the',\n",
       " 'private',\n",
       " 'sector',\n",
       " 'has',\n",
       " 'been',\n",
       " 'building',\n",
       " 'it',\n",
       " ',',\n",
       " 'without',\n",
       " 'the',\n",
       " 'NSFnet',\n",
       " \"'s\",\n",
       " 'restrictions',\n",
       " '.',\n",
       " 'To',\n",
       " 'illustrate',\n",
       " ',',\n",
       " 'a',\n",
       " 'connection',\n",
       " 'from',\n",
       " 'the',\n",
       " 'machine',\n",
       " 'on',\n",
       " 'my',\n",
       " 'desk',\n",
       " 'to',\n",
       " 'the',\n",
       " 'machine',\n",
       " 'your',\n",
       " 'article',\n",
       " 'was',\n",
       " 'posted',\n",
       " 'from',\n",
       " '(',\n",
       " 'pizzabox.demon.co.uk',\n",
       " ')',\n",
       " 'involves',\n",
       " '*',\n",
       " 'only',\n",
       " '*',\n",
       " 'commercial',\n",
       " 'IP',\n",
       " 'providers',\n",
       " 'until',\n",
       " 'it',\n",
       " 'hits',\n",
       " 'Amsterdam',\n",
       " '.',\n",
       " 'No',\n",
       " 'NSFnet',\n",
       " '.',\n",
       " 'No',\n",
       " 'NREN',\n",
       " '.',\n",
       " 'No',\n",
       " '``',\n",
       " 'appropriate',\n",
       " 'use',\n",
       " \"''\",\n",
       " 'restrictions',\n",
       " '.',\n",
       " 'It',\n",
       " \"'s\",\n",
       " 'even',\n",
       " '1.544mbps',\n",
       " '(',\n",
       " 'T1',\n",
       " ')',\n",
       " 'until',\n",
       " 'it',\n",
       " 'hits',\n",
       " 'the',\n",
       " 'EUnet',\n",
       " 'gateway',\n",
       " '...',\n",
       " 'QED',\n",
       " '.']"
      ]
     },
     "execution_count": 18,
     "metadata": {},
     "output_type": "execute_result"
    }
   ],
   "source": [
    "nltk.word_tokenize(dataset.data[100])"
   ]
  },
  {
   "cell_type": "code",
   "execution_count": 19,
   "metadata": {},
   "outputs": [
    {
     "data": {
      "text/plain": [
       "['Well',\n",
       " 'i',\n",
       " \"'m\",\n",
       " 'not',\n",
       " 'sure',\n",
       " 'about',\n",
       " 'the',\n",
       " 'story',\n",
       " 'nad',\n",
       " 'it',\n",
       " 'did',\n",
       " 'seem',\n",
       " 'biased',\n",
       " '.',\n",
       " 'What',\n",
       " 'I',\n",
       " 'disagree',\n",
       " 'with',\n",
       " 'is',\n",
       " 'your',\n",
       " 'statement',\n",
       " 'that',\n",
       " 'the',\n",
       " 'U.S.',\n",
       " 'Media',\n",
       " 'is',\n",
       " 'out',\n",
       " 'to',\n",
       " 'ruin',\n",
       " 'Israels',\n",
       " 'reputation',\n",
       " '.',\n",
       " 'That',\n",
       " 'is',\n",
       " 'rediculous',\n",
       " '.',\n",
       " 'The',\n",
       " 'U.S.',\n",
       " 'media',\n",
       " 'is',\n",
       " 'the',\n",
       " 'most',\n",
       " 'pro-israeli',\n",
       " 'media',\n",
       " 'in',\n",
       " 'the',\n",
       " 'world',\n",
       " '.',\n",
       " 'Having',\n",
       " 'lived',\n",
       " 'in',\n",
       " 'Europe',\n",
       " 'I',\n",
       " 'realize',\n",
       " 'that',\n",
       " 'incidences',\n",
       " 'such',\n",
       " 'as',\n",
       " 'the',\n",
       " 'one',\n",
       " 'described',\n",
       " 'in',\n",
       " 'the',\n",
       " 'letter',\n",
       " 'have',\n",
       " 'occured',\n",
       " '.',\n",
       " 'The',\n",
       " 'U.S.',\n",
       " 'media',\n",
       " 'as',\n",
       " 'a',\n",
       " 'whole',\n",
       " 'seem',\n",
       " 'to',\n",
       " 'try',\n",
       " 'to',\n",
       " 'ignore',\n",
       " 'them',\n",
       " '.',\n",
       " 'The',\n",
       " 'U.S.',\n",
       " 'is',\n",
       " 'subsidizing',\n",
       " 'Israels',\n",
       " 'existance',\n",
       " 'and',\n",
       " 'the',\n",
       " 'Europeans',\n",
       " 'are',\n",
       " 'not',\n",
       " '(',\n",
       " 'at',\n",
       " 'least',\n",
       " 'not',\n",
       " 'to',\n",
       " 'the',\n",
       " 'same',\n",
       " 'degree',\n",
       " ')',\n",
       " '.',\n",
       " 'So',\n",
       " 'I',\n",
       " 'think',\n",
       " 'that',\n",
       " 'might',\n",
       " 'be',\n",
       " 'a',\n",
       " 'reason',\n",
       " 'they',\n",
       " 'report',\n",
       " 'more',\n",
       " 'clearly',\n",
       " 'on',\n",
       " 'the',\n",
       " 'atrocities',\n",
       " '.',\n",
       " 'What',\n",
       " 'is',\n",
       " 'a',\n",
       " 'shame',\n",
       " 'is',\n",
       " 'that',\n",
       " 'in',\n",
       " 'Austria',\n",
       " ',',\n",
       " 'daily',\n",
       " 'reports',\n",
       " 'of',\n",
       " 'the',\n",
       " 'inhuman',\n",
       " 'acts',\n",
       " 'commited',\n",
       " 'by',\n",
       " 'Israeli',\n",
       " 'soldiers',\n",
       " 'and',\n",
       " 'the',\n",
       " 'blessing',\n",
       " 'received',\n",
       " 'from',\n",
       " 'the',\n",
       " 'Government',\n",
       " 'makes',\n",
       " 'some',\n",
       " 'of',\n",
       " 'the',\n",
       " 'Holocaust',\n",
       " 'guilt',\n",
       " 'go',\n",
       " 'away',\n",
       " '.',\n",
       " 'After',\n",
       " 'all',\n",
       " ',',\n",
       " 'look',\n",
       " 'how',\n",
       " 'the',\n",
       " 'Jews',\n",
       " 'are',\n",
       " 'treating',\n",
       " 'other',\n",
       " 'races',\n",
       " 'when',\n",
       " 'they',\n",
       " 'got',\n",
       " 'power',\n",
       " '.',\n",
       " 'It',\n",
       " 'is',\n",
       " 'unfortunate',\n",
       " '.']"
      ]
     },
     "execution_count": 19,
     "metadata": {},
     "output_type": "execute_result"
    }
   ],
   "source": [
    "tokenized_docs = [nltk.word_tokenize(doc) for doc in dataset.data]\n",
    "tokenized_docs[0]"
   ]
  },
  {
   "cell_type": "code",
   "execution_count": 20,
   "metadata": {},
   "outputs": [],
   "source": [
    "tokenized_docs = [[word.lower() for word in doc] for doc in tokenized_docs]"
   ]
  },
  {
   "cell_type": "code",
   "execution_count": 21,
   "metadata": {},
   "outputs": [],
   "source": [
    "len_words = np.array([len(tokenized_doc) for tokenized_doc in tokenized_docs])"
   ]
  },
  {
   "cell_type": "code",
   "execution_count": 22,
   "metadata": {},
   "outputs": [
    {
     "data": {
      "image/png": "[encoded data removed]",
      "text/plain": [
       "<Figure size 1440x720 with 1 Axes>"
      ]
     },
     "metadata": {
      "needs_background": "light"
     },
     "output_type": "display_data"
    }
   ],
   "source": [
    "fig, ax = plt.subplots(figsize=(20, 10))\n",
    "ax.hist(len_words, 200)\n",
    "ax.set_title('Histogram of number of words in documents')\n",
    "ax.set_xlabel('Number of words')\n",
    "ax.set_ylabel('Frequency');"
   ]
  },
  {
   "cell_type": "code",
   "execution_count": 23,
   "metadata": {},
   "outputs": [
    {
     "data": {
      "text/plain": [
       "array([29487, 29502, 29821, 29871, 29969, 30161, 30385, 30621, 34270,\n",
       "       35955])"
      ]
     },
     "execution_count": 23,
     "metadata": {},
     "output_type": "execute_result"
    }
   ],
   "source": [
    "np.sort(len_words)[-10:]"
   ]
  },
  {
   "cell_type": "code",
   "execution_count": 24,
   "metadata": {},
   "outputs": [
    {
     "data": {
      "text/plain": [
       "array([ 5416, 10738,  1867,  5390,  5146,  9060, 10334,  8607,  3700,\n",
       "        4919])"
      ]
     },
     "execution_count": 24,
     "metadata": {},
     "output_type": "execute_result"
    }
   ],
   "source": [
    "np.argsort(len_words)[-10:]"
   ]
  },
  {
   "cell_type": "code",
   "execution_count": 25,
   "metadata": {},
   "outputs": [
    {
     "data": {
      "text/plain": [
       "['--',\n",
       " '--',\n",
       " '--',\n",
       " '--',\n",
       " '--',\n",
       " '--',\n",
       " 'part',\n",
       " '4',\n",
       " 'of',\n",
       " '14',\n",
       " '--',\n",
       " '--',\n",
       " '--',\n",
       " '--',\n",
       " '--',\n",
       " '--',\n",
       " 'm',\n",
       " ')',\n",
       " 'g',\n",
       " '(',\n",
       " 'f',\n",
       " '&',\n",
       " 'g',\n",
       " '*',\n",
       " 'z',\n",
       " '<',\n",
       " 'g',\n",
       " '*',\n",
       " 'r',\n",
       " ')',\n",
       " 'g',\n",
       " '(',\n",
       " ':',\n",
       " 'nb8',\n",
       " ':',\n",
       " 'nahfnajz',\n",
       " '<',\n",
       " 'ahf',\n",
       " '<',\n",
       " 'ajz',\n",
       " ')',\n",
       " 'ah',\n",
       " ':',\n",
       " '&',\n",
       " 'k',\n",
       " '*',\n",
       " 'r',\n",
       " '&',\n",
       " 'b9r',\n",
       " ')',\n",
       " 'g',\n",
       " '(',\n",
       " 'f',\n",
       " '&',\n",
       " 'khf',\n",
       " '&',\n",
       " 'ajz',\n",
       " 'm',\n",
       " '<',\n",
       " 'ajr',\n",
       " '&',\n",
       " 'b9r',\n",
       " ')',\n",
       " 'ahf',\n",
       " '<',\n",
       " 'g',\n",
       " ')',\n",
       " 'r',\n",
       " '&',\n",
       " 'ajr',\n",
       " '&',\n",
       " 'ajrnk',\n",
       " ')',\n",
       " 'r',\n",
       " '&',\n",
       " 'air',\n",
       " '&',\n",
       " 'kirng',\n",
       " '(',\n",
       " ':',\n",
       " 'nb',\n",
       " ':',\n",
       " 'z',\n",
       " '&',\n",
       " 'g',\n",
       " '(',\n",
       " 'fnajz',\n",
       " ')',\n",
       " 'kjz',\n",
       " '<',\n",
       " 'khf',\n",
       " 'mnb',\n",
       " ';',\n",
       " \"''\",\n",
       " 'nahfleu=771t772z772r',\n",
       " ')',\n",
       " 'l',\n",
       " ')',\n",
       " ']',\n",
       " 'ngt',\n",
       " '(',\n",
       " '``',\n",
       " '`',\n",
       " '@',\n",
       " '(',\n",
       " '``',\n",
       " '`',\n",
       " '@',\n",
       " '(',\n",
       " '``',\n",
       " '`',\n",
       " '@',\n",
       " '(',\n",
       " '``',\n",
       " '`',\n",
       " '@',\n",
       " '(',\n",
       " '``',\n",
       " '`',\n",
       " '@',\n",
       " '(',\n",
       " '``',\n",
       " '`',\n",
       " '@',\n",
       " '(',\n",
       " '``',\n",
       " '`',\n",
       " '@',\n",
       " '(',\n",
       " 'm',\n",
       " \"''\",\n",
       " '`',\n",
       " '@',\n",
       " '(',\n",
       " '``',\n",
       " '`',\n",
       " '@',\n",
       " '(',\n",
       " '``',\n",
       " '`',\n",
       " '@',\n",
       " '(',\n",
       " '``',\n",
       " '`',\n",
       " '@',\n",
       " '(',\n",
       " '``',\n",
       " '`',\n",
       " '@',\n",
       " '(',\n",
       " '``',\n",
       " '`',\n",
       " '@',\n",
       " '(',\n",
       " '``',\n",
       " '`',\n",
       " '@',\n",
       " '(',\n",
       " '``',\n",
       " '`',\n",
       " '@',\n",
       " '(',\n",
       " '``',\n",
       " '`',\n",
       " '@',\n",
       " '(',\n",
       " '``',\n",
       " '`',\n",
       " '@',\n",
       " '(',\n",
       " '``',\n",
       " '`',\n",
       " '@',\n",
       " '(',\n",
       " '``',\n",
       " '`',\n",
       " '@',\n",
       " '(',\n",
       " '``',\n",
       " '`',\n",
       " '@',\n",
       " '(',\n",
       " '``',\n",
       " '`',\n",
       " '@',\n",
       " '(',\n",
       " '``',\n",
       " '`',\n",
       " '@',\n",
       " '(',\n",
       " 'm',\n",
       " \"''\",\n",
       " '`',\n",
       " '@',\n",
       " '(',\n",
       " '``',\n",
       " '`',\n",
       " '@',\n",
       " '(',\n",
       " '``',\n",
       " '`',\n",
       " '@',\n",
       " '(',\n",
       " '``',\n",
       " '`',\n",
       " '@',\n",
       " '(',\n",
       " '``',\n",
       " '`',\n",
       " '@',\n",
       " '(',\n",
       " '``',\n",
       " '`',\n",
       " '@',\n",
       " '(',\n",
       " '``',\n",
       " '`',\n",
       " '@',\n",
       " '(',\n",
       " '``',\n",
       " '`',\n",
       " '@',\n",
       " '(',\n",
       " '``',\n",
       " '`',\n",
       " '@',\n",
       " '(',\n",
       " '``',\n",
       " '`',\n",
       " '@',\n",
       " '(',\n",
       " '``',\n",
       " '`',\n",
       " '@',\n",
       " '(',\n",
       " '``',\n",
       " '`',\n",
       " '@',\n",
       " '(',\n",
       " '``',\n",
       " '`',\n",
       " '@',\n",
       " '(',\n",
       " '``',\n",
       " '`',\n",
       " '@',\n",
       " '(',\n",
       " '``',\n",
       " '`',\n",
       " '@',\n",
       " '(',\n",
       " 'm',\n",
       " \"''\",\n",
       " '`',\n",
       " '@',\n",
       " '(',\n",
       " '``',\n",
       " '`',\n",
       " '@',\n",
       " '(',\n",
       " '``',\n",
       " '`',\n",
       " '@',\n",
       " '(',\n",
       " '``',\n",
       " '`',\n",
       " '@',\n",
       " '(',\n",
       " '``',\n",
       " ',',\n",
       " 'm_',\n",
       " '?',\n",
       " 'w_4',\n",
       " '?',\n",
       " ']',\n",
       " '0',\n",
       " '@',\n",
       " 'u-34u-34u',\n",
       " '`',\n",
       " ')',\n",
       " '+',\n",
       " ';',\n",
       " 'fx^ihy',\n",
       " '<',\n",
       " ',',\n",
       " 'rlk',\n",
       " '*',\n",
       " 'y6',\n",
       " '$',\n",
       " '`',\n",
       " ')',\n",
       " '5v',\n",
       " 'm',\n",
       " '(',\n",
       " '4',\n",
       " ',',\n",
       " ',',\n",
       " '#',\n",
       " '`',\n",
       " 'q',\n",
       " '#',\n",
       " '0t-',\n",
       " '#',\n",
       " '.r',\n",
       " '$',\n",
       " ',',\n",
       " '(',\n",
       " '3l',\n",
       " '[',\n",
       " '?',\n",
       " '71_',\n",
       " ';',\n",
       " 'f',\n",
       " '[',\n",
       " 'i1',\n",
       " ')',\n",
       " 'ma',\n",
       " '*',\n",
       " 'ypg',\n",
       " '%',\n",
       " '_51',\n",
       " \"'\",\n",
       " ')',\n",
       " 'sa5e9',\n",
       " '<',\n",
       " '8x',\n",
       " '.',\n",
       " ';',\n",
       " 'lyj',\n",
       " ':',\n",
       " 'ok-d',\n",
       " 'm\\\\2',\n",
       " '(',\n",
       " 'b',\n",
       " \"'\",\n",
       " '<',\n",
       " '>',\n",
       " '&',\n",
       " 'o',\n",
       " '[',\n",
       " '\\\\uqs4ud',\n",
       " '<',\n",
       " '<',\n",
       " 'u+',\n",
       " '&',\n",
       " 'ei:8',\n",
       " ':',\n",
       " '_q\\\\',\n",
       " '<',\n",
       " '(',\n",
       " '``',\n",
       " '`',\n",
       " '@',\n",
       " '(',\n",
       " '``',\n",
       " '`',\n",
       " '@',\n",
       " '(',\n",
       " '``',\n",
       " '`',\n",
       " '@',\n",
       " '(',\n",
       " '``',\n",
       " '`',\n",
       " '@',\n",
       " '(',\n",
       " '``',\n",
       " '`',\n",
       " '@',\n",
       " '(',\n",
       " '``',\n",
       " '`',\n",
       " '@',\n",
       " '(',\n",
       " '``',\n",
       " '`',\n",
       " '@',\n",
       " '(',\n",
       " 'm',\n",
       " \"''\",\n",
       " '`',\n",
       " '@',\n",
       " '(',\n",
       " '``',\n",
       " '`',\n",
       " '@',\n",
       " '(',\n",
       " '``',\n",
       " '`',\n",
       " '@',\n",
       " '(',\n",
       " '``',\n",
       " '`',\n",
       " '@',\n",
       " '(',\n",
       " '``',\n",
       " '`',\n",
       " '@',\n",
       " '(',\n",
       " '``',\n",
       " '`',\n",
       " '@',\n",
       " '(',\n",
       " '``',\n",
       " '`',\n",
       " '@',\n",
       " '(',\n",
       " '``',\n",
       " '`',\n",
       " '@',\n",
       " '(',\n",
       " '``',\n",
       " '`',\n",
       " '@',\n",
       " '(',\n",
       " '``',\n",
       " '+h',\n",
       " ':',\n",
       " 'ng',\n",
       " ')',\n",
       " 'rlf',\n",
       " '$',\n",
       " '1',\n",
       " '$',\n",
       " '9',\n",
       " '`',\n",
       " '1y7',\n",
       " \"''\",\n",
       " ';',\n",
       " '2y',\n",
       " '!',\n",
       " 'y',\n",
       " 'm1',\n",
       " ')',\n",
       " 'nsfdl',\n",
       " '$',\n",
       " '1',\n",
       " '#',\n",
       " \"zl'6c\",\n",
       " '!',\n",
       " 'tq',\n",
       " \"''\",\n",
       " 'ql2',\n",
       " '(',\n",
       " '^fjrlk',\n",
       " ')',\n",
       " 'ir',\n",
       " '&',\n",
       " 'jt',\n",
       " ':',\n",
       " '<',\n",
       " 'jvm',\n",
       " '<',\n",
       " 'g',\n",
       " ')',\n",
       " 'r',\n",
       " '&',\n",
       " 'jt',\n",
       " ':',\n",
       " '<',\n",
       " 'g',\n",
       " '(',\n",
       " ':',\n",
       " '&',\n",
       " 'g',\n",
       " '(',\n",
       " ':',\n",
       " '<',\n",
       " 'g',\n",
       " '(',\n",
       " ':',\n",
       " 'm',\n",
       " '<',\n",
       " 'air',\n",
       " '&',\n",
       " 'b8f',\n",
       " '<',\n",
       " 'b',\n",
       " ':',\n",
       " 'r',\n",
       " '&',\n",
       " 'b9r',\n",
       " '&',\n",
       " 'g',\n",
       " '*',\n",
       " 'r',\n",
       " '&',\n",
       " 'k',\n",
       " '(',\n",
       " 'f',\n",
       " '&',\n",
       " 'ajznkhf7',\n",
       " ';',\n",
       " 'jz7',\n",
       " ';',\n",
       " '*',\n",
       " 'zlk',\n",
       " ')',\n",
       " \"tnazz'kit+'0l+\",\n",
       " \"''\",\n",
       " 'pl',\n",
       " 'm+',\n",
       " \"''\",\n",
       " 'puqrplqs4l+',\n",
       " '#',\n",
       " '4l-',\n",
       " '<',\n",
       " '>',\n",
       " '_-',\n",
       " '<',\n",
       " '?',\n",
       " \"'qx\",\n",
       " ':',\n",
       " '&',\n",
       " 'qy',\n",
       " '$',\n",
       " '(',\n",
       " '``',\n",
       " '`',\n",
       " '@',\n",
       " '(',\n",
       " '``',\n",
       " '`',\n",
       " '@',\n",
       " '(',\n",
       " '``',\n",
       " '`',\n",
       " '@',\n",
       " '(',\n",
       " '``',\n",
       " '`',\n",
       " 'an2vo4',\n",
       " \"''\",\n",
       " '=3jp2',\n",
       " '&',\n",
       " '(',\n",
       " 'mw',\n",
       " '`',\n",
       " '*',\n",
       " '`',\n",
       " 'p3m\\\\',\n",
       " ',',\n",
       " '%',\n",
       " 'r7g.',\n",
       " '&',\n",
       " '!',\n",
       " '5e',\n",
       " ';',\n",
       " 'kh9_',\n",
       " ',',\n",
       " 's',\n",
       " '!',\n",
       " '?',\n",
       " 'u45',\n",
       " '$',\n",
       " '-v-c',\n",
       " '*',\n",
       " 'v-c8.lhz.lk',\n",
       " '*',\n",
       " 'rlk8+sj1rlhz',\n",
       " 'mrlj1+shz.fg',\n",
       " '*',\n",
       " '.ff',\n",
       " '&',\n",
       " '.i',\n",
       " '%',\n",
       " 'i.i',\n",
       " '%',\n",
       " \"i.fg'qvdz.l\",\n",
       " '?',\n",
       " \"'.b_':8\",\n",
       " ';',\n",
       " \"'qy\",\n",
       " \"''\",\n",
       " 'oveiqy',\n",
       " \"''\",\n",
       " \"qvg'\",\n",
       " 'm-',\n",
       " ';',\n",
       " '^',\n",
       " '&',\n",
       " 'ak^',\n",
       " '&',\n",
       " \"''\",\n",
       " '`',\n",
       " '@',\n",
       " '(',\n",
       " ',',\n",
       " 'p',\n",
       " '%',\n",
       " \"v'.l-=c/eh8\",\n",
       " \"'\",\n",
       " ',',\n",
       " ']',\n",
       " '1rk',\n",
       " '#',\n",
       " '1',\n",
       " '?',\n",
       " ',',\n",
       " 'e',\n",
       " \"''\",\n",
       " 'cd',\n",
       " ')',\n",
       " 's=65g',\n",
       " \"''\",\n",
       " ';',\n",
       " 'lyi',\n",
       " '#',\n",
       " ':',\n",
       " '+8',\n",
       " '(',\n",
       " '``',\n",
       " '`',\n",
       " '@',\n",
       " 'k',\n",
       " 'm',\n",
       " '*',\n",
       " 'p',\n",
       " '`',\n",
       " 'k',\n",
       " '$',\n",
       " '9',\n",
       " '!',\n",
       " 'n',\n",
       " '`',\n",
       " 'jr',\n",
       " ':',\n",
       " ',',\n",
       " \"'\",\n",
       " 'q',\n",
       " '<',\n",
       " '5e9n',\n",
       " ';',\n",
       " '@',\n",
       " '(',\n",
       " '%',\n",
       " '.xc',\n",
       " '(',\n",
       " '@',\n",
       " '-.uiwx.c4',\n",
       " ',',\n",
       " '=l',\n",
       " ';',\n",
       " '8nm',\n",
       " ':',\n",
       " '>',\n",
       " 'qb',\n",
       " '*',\n",
       " 'xb',\n",
       " '(',\n",
       " 'cxb.s',\n",
       " '`',\n",
       " 'p',\n",
       " 'mflh\\\\v',\n",
       " '&',\n",
       " 'us/',\n",
       " ')',\n",
       " '8\\\\',\n",
       " '<',\n",
       " 'vw8em',\n",
       " '@',\n",
       " '\\\\13q',\n",
       " '%',\n",
       " '<',\n",
       " 'w-s/',\n",
       " '$',\n",
       " '5',\n",
       " '%',\n",
       " '13p\\\\eg',\n",
       " ',',\n",
       " '\\\\/',\n",
       " '#',\n",
       " 'p\\\\t3qs',\n",
       " '<',\n",
       " 'w/1t7-s',\n",
       " '<',\n",
       " ']',\n",
       " '%',\n",
       " '%',\n",
       " 'm13q',\n",
       " '%',\n",
       " '19:6ed4\\\\',\n",
       " '<',\n",
       " 'w-',\n",
       " '%',\n",
       " '13qst44\\\\',\n",
       " ';',\n",
       " '7',\n",
       " ',',\n",
       " '\\\\/',\n",
       " '$',\n",
       " '5s/',\n",
       " '#',\n",
       " 'qm/',\n",
       " ')',\n",
       " '9s/-aseg-m',\n",
       " '<',\n",
       " 'w/',\n",
       " '*',\n",
       " '<',\n",
       " 'w/',\n",
       " '*',\n",
       " 'v',\n",
       " ',',\n",
       " 'is',\n",
       " 'meck',\n",
       " '*',\n",
       " '03is',\n",
       " ';',\n",
       " '=c',\n",
       " '*',\n",
       " ';',\n",
       " '3hzv',\n",
       " ',',\n",
       " 'hz.ck8.chz.d',\n",
       " '%',\n",
       " 'i09',\n",
       " '$',\n",
       " 'orchz+vei:9',\n",
       " '$',\n",
       " 'z',\n",
       " ':',\n",
       " '<',\n",
       " '?',\n",
       " \"'+sk'd6f1\",\n",
       " \"mqvg'+\\\\=id\",\n",
       " '<',\n",
       " '>',\n",
       " '&',\n",
       " 'd9',\n",
       " '&',\n",
       " '&',\n",
       " 'ab',\n",
       " ']',\n",
       " 'i+veial',\n",
       " '>',\n",
       " '&',\n",
       " \"qvg'qr\\\\z.fdo\",\n",
       " ':',\n",
       " '<',\n",
       " '<',\n",
       " 'zq\\\\',\n",
       " '?',\n",
       " \"'d3hz:3j\",\n",
       " '&',\n",
       " 'd3hz',\n",
       " 'm.chzalii.d',\n",
       " '$',\n",
       " 'oachod88z.cj1d3j1d',\n",
       " '<',\n",
       " 'k',\n",
       " '*',\n",
       " ':9',\n",
       " '%',\n",
       " 'iacj1ri',\n",
       " '&',\n",
       " '1+vei:3hzd2',\n",
       " ']',\n",
       " 'i.cj',\n",
       " '&',\n",
       " 'm.cj1.i',\n",
       " \"''\",\n",
       " '+vf1ai',\n",
       " '$',\n",
       " 'z.h8f',\n",
       " '&',\n",
       " 'ajr',\n",
       " '<',\n",
       " 'g',\n",
       " '(',\n",
       " 'f',\n",
       " '&',\n",
       " 'kh',\n",
       " ':',\n",
       " '<',\n",
       " 'kh',\n",
       " ':',\n",
       " ')',\n",
       " 'g',\n",
       " '(',\n",
       " ':',\n",
       " '<',\n",
       " 'b9rlg',\n",
       " ')',\n",
       " 'r',\n",
       " '&',\n",
       " 'g',\n",
       " ')',\n",
       " 'r',\n",
       " '<',\n",
       " 'ajr',\n",
       " ')',\n",
       " 'ahf',\n",
       " 'm',\n",
       " '<',\n",
       " 'g',\n",
       " '(',\n",
       " 'f',\n",
       " '<',\n",
       " 'g',\n",
       " '*',\n",
       " 'r',\n",
       " '<',\n",
       " 'g',\n",
       " '(',\n",
       " ':',\n",
       " '<',\n",
       " 'g',\n",
       " '*',\n",
       " 'r',\n",
       " '<',\n",
       " 'b8',\n",
       " ':',\n",
       " '&',\n",
       " 'b8',\n",
       " ':',\n",
       " 'mqh',\n",
       " ':',\n",
       " ')',\n",
       " 'k',\n",
       " '<',\n",
       " ':',\n",
       " '&',\n",
       " 'b9r',\n",
       " '<',\n",
       " 'g',\n",
       " ')',\n",
       " 'r',\n",
       " '<',\n",
       " 'b9/',\n",
       " '&',\n",
       " 'g',\n",
       " '(',\n",
       " 'f',\n",
       " '<',\n",
       " 'k',\n",
       " ')',\n",
       " 'r',\n",
       " '<',\n",
       " 'g',\n",
       " ')',\n",
       " 'rlg',\n",
       " '(',\n",
       " 'f',\n",
       " 'm',\n",
       " '&',\n",
       " 'airlajzng',\n",
       " ')',\n",
       " 'r',\n",
       " ')',\n",
       " 'kjrlb',\n",
       " ':',\n",
       " 'z',\n",
       " ')',\n",
       " 'kjznahfnki=',\n",
       " '&',\n",
       " 'kh',\n",
       " ':',\n",
       " 'petf',\n",
       " ')',\n",
       " 'b8f',\n",
       " \"''\",\n",
       " '`',\n",
       " '@',\n",
       " '(',\n",
       " '``',\n",
       " '`',\n",
       " '@',\n",
       " '(',\n",
       " '``',\n",
       " '`',\n",
       " '@',\n",
       " '(',\n",
       " '``',\n",
       " '`',\n",
       " '@',\n",
       " '(',\n",
       " 'm',\n",
       " \"''\",\n",
       " '`',\n",
       " '@',\n",
       " '(',\n",
       " '``',\n",
       " '`',\n",
       " '@',\n",
       " '(',\n",
       " '``',\n",
       " '`',\n",
       " '@',\n",
       " '(',\n",
       " '``',\n",
       " '`',\n",
       " '@',\n",
       " '(',\n",
       " '``',\n",
       " '`',\n",
       " '@',\n",
       " '(',\n",
       " '``',\n",
       " '`',\n",
       " '@',\n",
       " '(',\n",
       " '``',\n",
       " '`',\n",
       " '@',\n",
       " '(',\n",
       " '``',\n",
       " '`',\n",
       " '@',\n",
       " '(',\n",
       " '``',\n",
       " '`',\n",
       " '@',\n",
       " '(',\n",
       " '``',\n",
       " '`',\n",
       " '@',\n",
       " '(',\n",
       " '``',\n",
       " '`',\n",
       " '@',\n",
       " '(',\n",
       " '``',\n",
       " '`',\n",
       " '@',\n",
       " '(',\n",
       " '``',\n",
       " '`',\n",
       " '@',\n",
       " '(',\n",
       " '``',\n",
       " '`',\n",
       " '@',\n",
       " '(',\n",
       " '``',\n",
       " '`',\n",
       " '@',\n",
       " '(',\n",
       " 'm',\n",
       " \"''\",\n",
       " '`',\n",
       " '@',\n",
       " '(',\n",
       " '``',\n",
       " '`',\n",
       " '@',\n",
       " '(',\n",
       " '``',\n",
       " '`',\n",
       " '@',\n",
       " '(',\n",
       " '``',\n",
       " '`',\n",
       " '@',\n",
       " '(',\n",
       " '``',\n",
       " '`',\n",
       " '@',\n",
       " '(',\n",
       " '``',\n",
       " '`',\n",
       " '@',\n",
       " '(',\n",
       " '``',\n",
       " '`',\n",
       " '@',\n",
       " '(',\n",
       " '``',\n",
       " '`',\n",
       " '@',\n",
       " '(',\n",
       " '``',\n",
       " '`',\n",
       " '@',\n",
       " '(',\n",
       " '``',\n",
       " '`',\n",
       " '@',\n",
       " '(',\n",
       " '``',\n",
       " '`',\n",
       " '@',\n",
       " '(',\n",
       " '``',\n",
       " '`',\n",
       " '@',\n",
       " '(',\n",
       " '``',\n",
       " '`',\n",
       " '@',\n",
       " '(',\n",
       " '``',\n",
       " '`',\n",
       " '@',\n",
       " '(',\n",
       " '``',\n",
       " '`',\n",
       " '@',\n",
       " '(',\n",
       " 'm',\n",
       " ...]"
      ]
     },
     "execution_count": 25,
     "metadata": {},
     "output_type": "execute_result"
    }
   ],
   "source": [
    "tokenized_docs[4919]"
   ]
  },
  {
   "cell_type": "code",
   "execution_count": 26,
   "metadata": {},
   "outputs": [
    {
     "data": {
      "image/png": "[encoded data removed]",
      "text/plain": [
       "<Figure size 1440x720 with 1 Axes>"
      ]
     },
     "metadata": {
      "needs_background": "light"
     },
     "output_type": "display_data"
    }
   ],
   "source": [
    "fig, ax = plt.subplots(figsize=(20, 10))\n",
    "ax.hist(len_words[np.logical_and(len_words > 1, len_words < 1000)], 200)\n",
    "ax.set_title('Histogram of number of words in documents')\n",
    "ax.set_xlabel('Number of words')\n",
    "ax.set_ylabel('Frequency');"
   ]
  },
  {
   "cell_type": "markdown",
   "metadata": {},
   "source": [
    "# Common words"
   ]
  },
  {
   "cell_type": "code",
   "execution_count": 27,
   "metadata": {},
   "outputs": [],
   "source": [
    "all_words = [word for doc in tokenized_docs for word in doc]"
   ]
  },
  {
   "cell_type": "code",
   "execution_count": 28,
   "metadata": {},
   "outputs": [],
   "source": [
    "all_words_counter = Counter(all_words)"
   ]
  },
  {
   "cell_type": "code",
   "execution_count": 29,
   "metadata": {},
   "outputs": [
    {
     "data": {
      "text/plain": [
       "[(',', 110587),\n",
       " ('the', 106205),\n",
       " ('.', 102430),\n",
       " ('>', 83268),\n",
       " (\"'ax\", 61725),\n",
       " ('--', 61024),\n",
       " ('to', 52838),\n",
       " ('of', 46847),\n",
       " ('a', 44122),\n",
       " ('and', 42444),\n",
       " ('(', 40646),\n",
       " (')', 39894),\n",
       " ('i', 34424),\n",
       " ('*', 31017),\n",
       " ('is', 30963),\n",
       " ('in', 30836),\n",
       " (':', 28417),\n",
       " ('that', 27942),\n",
       " ('it', 23484),\n",
       " ('?', 22924),\n",
       " (\"''\", 22730),\n",
       " ('for', 19931),\n",
       " ('@', 18974),\n",
       " ('``', 18401),\n",
       " ('you', 18267),\n",
       " ('$', 16300),\n",
       " (';', 15818),\n",
       " ('!', 15652),\n",
       " ('<', 15425),\n",
       " ('%', 15055),\n",
       " ('this', 14481),\n",
       " ('on', 14254),\n",
       " ('be', 13764),\n",
       " ('#', 13473),\n",
       " ('are', 13311),\n",
       " ('have', 13134),\n",
       " ('not', 13086),\n",
       " (']', 12906),\n",
       " ('with', 12650),\n",
       " (\"'\", 12539),\n",
       " ('`', 12195),\n",
       " ('&', 11703),\n",
       " ('[', 11632),\n",
       " ('as', 11348),\n",
       " (\"'s\", 11039),\n",
       " ('or', 10414),\n",
       " ('-', 10037),\n",
       " (\"n't\", 9872),\n",
       " ('was', 9845),\n",
       " ('but', 9577)]"
      ]
     },
     "execution_count": 29,
     "metadata": {},
     "output_type": "execute_result"
    }
   ],
   "source": [
    "all_words_counter.most_common(50)"
   ]
  },
  {
   "cell_type": "code",
   "execution_count": 30,
   "metadata": {},
   "outputs": [
    {
     "data": {
      "text/plain": [
       "Text(0.5, 1.0, 'The 40 most common words')"
      ]
     },
     "execution_count": 30,
     "metadata": {},
     "output_type": "execute_result"
    },
    {
     "data": {
      "image/png": "[encoded data removed]",
      "text/plain": [
       "<Figure size 1440x720 with 1 Axes>"
      ]
     },
     "metadata": {
      "needs_background": "light"
     },
     "output_type": "display_data"
    }
   ],
   "source": [
    "x, y = zip(*all_words_counter.most_common(40))\n",
    "fig, ax = plt.subplots(figsize=(20, 10))\n",
    "ax.bar(x, y)\n",
    "ax.set_title('The 40 most common words')"
   ]
  },
  {
   "cell_type": "markdown",
   "metadata": {},
   "source": [
    "## Filtering words"
   ]
  },
  {
   "cell_type": "markdown",
   "metadata": {},
   "source": [
    "### Keeping alphabetic words"
   ]
  },
  {
   "cell_type": "code",
   "execution_count": 31,
   "metadata": {},
   "outputs": [],
   "source": [
    "filtered_words = [word for word in all_words if word.isalpha()]\n",
    "filtered_words_counter = Counter(filtered_words)"
   ]
  },
  {
   "cell_type": "code",
   "execution_count": 32,
   "metadata": {},
   "outputs": [
    {
     "data": {
      "text/plain": [
       "Text(0.5, 1.0, 'The 40 most common words')"
      ]
     },
     "execution_count": 32,
     "metadata": {},
     "output_type": "execute_result"
    },
    {
     "data": {
      "image/png": "[encoded data removed]",
      "text/plain": [
       "<Figure size 1440x720 with 1 Axes>"
      ]
     },
     "metadata": {
      "needs_background": "light"
     },
     "output_type": "display_data"
    }
   ],
   "source": [
    "x, y = zip(*filtered_words_counter.most_common(40))\n",
    "fig, ax = plt.subplots(figsize=(20, 10))\n",
    "ax.bar(x, y)\n",
    "ax.set_title('The 40 most common words')"
   ]
  },
  {
   "cell_type": "markdown",
   "metadata": {},
   "source": [
    "### Discarding stopwords"
   ]
  },
  {
   "cell_type": "code",
   "execution_count": 33,
   "metadata": {},
   "outputs": [
    {
     "data": {
      "text/plain": [
       "{'a',\n",
       " 'about',\n",
       " 'above',\n",
       " 'after',\n",
       " 'again',\n",
       " 'against',\n",
       " 'ain',\n",
       " 'all',\n",
       " 'am',\n",
       " 'an',\n",
       " 'and',\n",
       " 'any',\n",
       " 'are',\n",
       " 'aren',\n",
       " \"aren't\",\n",
       " 'as',\n",
       " 'at',\n",
       " 'be',\n",
       " 'because',\n",
       " 'been',\n",
       " 'before',\n",
       " 'being',\n",
       " 'below',\n",
       " 'between',\n",
       " 'both',\n",
       " 'but',\n",
       " 'by',\n",
       " 'can',\n",
       " 'couldn',\n",
       " \"couldn't\",\n",
       " 'd',\n",
       " 'did',\n",
       " 'didn',\n",
       " \"didn't\",\n",
       " 'do',\n",
       " 'does',\n",
       " 'doesn',\n",
       " \"doesn't\",\n",
       " 'doing',\n",
       " 'don',\n",
       " \"don't\",\n",
       " 'down',\n",
       " 'during',\n",
       " 'each',\n",
       " 'few',\n",
       " 'for',\n",
       " 'from',\n",
       " 'further',\n",
       " 'had',\n",
       " 'hadn',\n",
       " \"hadn't\",\n",
       " 'has',\n",
       " 'hasn',\n",
       " \"hasn't\",\n",
       " 'have',\n",
       " 'haven',\n",
       " \"haven't\",\n",
       " 'having',\n",
       " 'he',\n",
       " 'her',\n",
       " 'here',\n",
       " 'hers',\n",
       " 'herself',\n",
       " 'him',\n",
       " 'himself',\n",
       " 'his',\n",
       " 'how',\n",
       " 'i',\n",
       " 'if',\n",
       " 'in',\n",
       " 'into',\n",
       " 'is',\n",
       " 'isn',\n",
       " \"isn't\",\n",
       " 'it',\n",
       " \"it's\",\n",
       " 'its',\n",
       " 'itself',\n",
       " 'just',\n",
       " 'll',\n",
       " 'm',\n",
       " 'ma',\n",
       " 'me',\n",
       " 'mightn',\n",
       " \"mightn't\",\n",
       " 'more',\n",
       " 'most',\n",
       " 'mustn',\n",
       " \"mustn't\",\n",
       " 'my',\n",
       " 'myself',\n",
       " 'needn',\n",
       " \"needn't\",\n",
       " 'no',\n",
       " 'nor',\n",
       " 'not',\n",
       " 'now',\n",
       " 'o',\n",
       " 'of',\n",
       " 'off',\n",
       " 'on',\n",
       " 'once',\n",
       " 'only',\n",
       " 'or',\n",
       " 'other',\n",
       " 'our',\n",
       " 'ours',\n",
       " 'ourselves',\n",
       " 'out',\n",
       " 'over',\n",
       " 'own',\n",
       " 're',\n",
       " 's',\n",
       " 'same',\n",
       " 'shan',\n",
       " \"shan't\",\n",
       " 'she',\n",
       " \"she's\",\n",
       " 'should',\n",
       " \"should've\",\n",
       " 'shouldn',\n",
       " \"shouldn't\",\n",
       " 'so',\n",
       " 'some',\n",
       " 'such',\n",
       " 't',\n",
       " 'than',\n",
       " 'that',\n",
       " \"that'll\",\n",
       " 'the',\n",
       " 'their',\n",
       " 'theirs',\n",
       " 'them',\n",
       " 'themselves',\n",
       " 'then',\n",
       " 'there',\n",
       " 'these',\n",
       " 'they',\n",
       " 'this',\n",
       " 'those',\n",
       " 'through',\n",
       " 'to',\n",
       " 'too',\n",
       " 'under',\n",
       " 'until',\n",
       " 'up',\n",
       " 've',\n",
       " 'very',\n",
       " 'was',\n",
       " 'wasn',\n",
       " \"wasn't\",\n",
       " 'we',\n",
       " 'were',\n",
       " 'weren',\n",
       " \"weren't\",\n",
       " 'what',\n",
       " 'when',\n",
       " 'where',\n",
       " 'which',\n",
       " 'while',\n",
       " 'who',\n",
       " 'whom',\n",
       " 'why',\n",
       " 'will',\n",
       " 'with',\n",
       " 'won',\n",
       " \"won't\",\n",
       " 'wouldn',\n",
       " \"wouldn't\",\n",
       " 'y',\n",
       " 'you',\n",
       " \"you'd\",\n",
       " \"you'll\",\n",
       " \"you're\",\n",
       " \"you've\",\n",
       " 'your',\n",
       " 'yours',\n",
       " 'yourself',\n",
       " 'yourselves'}"
      ]
     },
     "execution_count": 33,
     "metadata": {},
     "output_type": "execute_result"
    }
   ],
   "source": [
    "stopwords = set(nltk.corpus.stopwords.words('english'))\n",
    "stopwords"
   ]
  },
  {
   "cell_type": "code",
   "execution_count": 34,
   "metadata": {},
   "outputs": [],
   "source": [
    "filtered_words_stop = [word for word in filtered_words if word not in stopwords]\n",
    "filtered_words_stop_counter = Counter(filtered_words_stop)"
   ]
  },
  {
   "cell_type": "code",
   "execution_count": 35,
   "metadata": {},
   "outputs": [
    {
     "data": {
      "text/plain": [
       "Text(0.5, 1.0, 'The 40 most common words')"
      ]
     },
     "execution_count": 35,
     "metadata": {},
     "output_type": "execute_result"
    },
    {
     "data": {
      "image/png": "[encoded data removed]",
      "text/plain": [
       "<Figure size 1440x720 with 1 Axes>"
      ]
     },
     "metadata": {
      "needs_background": "light"
     },
     "output_type": "display_data"
    }
   ],
   "source": [
    "x, y = zip(*filtered_words_stop_counter.most_common(40))\n",
    "fig, ax = plt.subplots(figsize=(20, 10))\n",
    "ax.bar(x, y)\n",
    "ax.set_title('The 40 most common words')"
   ]
  },
  {
   "cell_type": "markdown",
   "metadata": {},
   "source": [
    "### Concordance - Why is x so frequent?"
   ]
  },
  {
   "cell_type": "code",
   "execution_count": 36,
   "metadata": {},
   "outputs": [
    {
     "data": {
      "text/plain": [
       "[['more', '.', 'uses', 'x', 'windows', '.'],\n",
       " ['net', '.', 'francisco', 'x', 'dejesus', '<'],\n",
       " ['pub/sass', '-', '*', 'x', 'window', 'fonts'],\n",
       " ['reaction-diffusion', 'textures', ',', 'x', 'windows', 'code'],\n",
       " ['movie', 'on', 'an', 'x', 'display', '('],\n",
       " ['(', 'fax', ':', 'x', '5893', ')'],\n",
       " ['the', 'effort', 'on', 'x', 'toolkits', 'has'],\n",
       " ['on', 'top', 'of', 'x', '.', 'papers'],\n",
       " ['if', 'you', 'employ', 'x', 'degree', 'of'],\n",
       " ['if', 'you', 'employ', 'x', 'degree', 'of'],\n",
       " ['r5', 'before', 'any', 'x', 'clients', 'will'],\n",
       " ['whom', 'survived', '.', 'x', 'window', 'installation'],\n",
       " ['this', 'to', 'the', 'x', 'server', 'and'],\n",
       " ['sunos', 'driver', '/', 'x', 'to', 'be'],\n",
       " ['implemented', ':', 'under', 'x', '.', 'both'],\n",
       " ['rounding', '.', \"''\", 'x', 'allows', 'the'],\n",
       " ['detections', '1', '1', 'x', '2', 'x'],\n",
       " ['1', 'x', '2', 'x', '2', 'x'],\n",
       " ['2', 'x', '2', 'x', '3', 'x'],\n",
       " ['2', 'x', '3', 'x', '3', 'autodetect']]"
      ]
     },
     "execution_count": 36,
     "metadata": {},
     "output_type": "execute_result"
    }
   ],
   "source": [
    "context_width = 3\n",
    "context_num = 20\n",
    "target_word = 'x'\n",
    "[all_words[i-context_width:i+context_width] for i, word in enumerate(all_words) if word == target_word][:context_num]"
   ]
  },
  {
   "cell_type": "code",
   "execution_count": 37,
   "metadata": {},
   "outputs": [],
   "source": [
    "def concordance(words, target_word, context_width=3, context_num=20):\n",
    "    concordance_gen = (filtered_words[i-context_width:i+context_width] for i, word in enumerate(filtered_words) if word == target_word)\n",
    "    return list(islice(concordance_gen, context_num))"
   ]
  },
  {
   "cell_type": "code",
   "execution_count": 38,
   "metadata": {},
   "outputs": [
    {
     "data": {
      "text/plain": [
       "[['khgzc', 'pj', 'ei', 'q', 'cxhkel', 'd'],\n",
       " ['cxhkel', 'd', 'pyyy', 'q', 'yr', 'b'],\n",
       " ['s', 'ej', 'gs', 'q', 'qqd', 'vi'],\n",
       " ['hn', 'b', 's', 'q', 'plk', 'q'],\n",
       " ['s', 'q', 'plk', 'q', 'l', 'vbkj'],\n",
       " ['mp', 'b', 'ppvjicfmrrekxddi', 'q', 't', 'fhnfmq'],\n",
       " ['jqed', 'pi', 'pq', 'q', 'aacvkc', 'f'],\n",
       " ['need', 'a', 'point', 'q', 'on', 'the'],\n",
       " ['n', 'and', 'l', 'q', 'q', 'is'],\n",
       " ['and', 'l', 'q', 'q', 'is', 'the'],\n",
       " ['ed', 'ep', 'then', 'q', 'will', 'be'],\n",
       " ['camden', 'yards', 'edt', 'q', 'president', 'what'],\n",
       " ['think', 'it', 'good', 'q', 'do', 'you'],\n",
       " ['think', 'it', 'fine', 'q', 'president', 'how'],\n",
       " ['audience', 'f', 'a', 'q', 'reference', 'newsgroups'],\n",
       " ['book', 'lost', 'gospel', 'q', 'and', 'christian'],\n",
       " ['fabrique', 'nationale', 'and', 'q', 'famas', 'mas'],\n",
       " ['go', 'ahead', 'sarah', 'q', 'there', 'are'],\n",
       " ['number', 'of', 'them', 'q', 'what', 'federal'],\n",
       " ['myers', 'last', 'question', 'q', 'president', 'why']]"
      ]
     },
     "execution_count": 38,
     "metadata": {},
     "output_type": "execute_result"
    }
   ],
   "source": [
    "concordance(all_words, 'q')"
   ]
  },
  {
   "cell_type": "markdown",
   "metadata": {},
   "source": [
    "# Language models\n",
    "https://en.wikipedia.org/wiki/Language_model"
   ]
  },
  {
   "cell_type": "markdown",
   "metadata": {},
   "source": [
    "Sentence: $w_1, w_2, w_3, ...$\n",
    "\n",
    "$P(w_1, w_2, w_3) = P(w_1) * P(w_2|w_1) * P(w_3|w_1, w_2)$ (chain rule: https://en.wikipedia.org/wiki/Chain_rule_%28probability%29)\n",
    "\n",
    "Bigram model: we only compute $P(w_2|w_1)$, $P(w_3|w_2)$, ...\n",
    "\n",
    "$P(w_1, w_2, w_3) \\approx P(w_1) * P(w_2|w_1) * P(w_3|w_2)$"
   ]
  },
  {
   "cell_type": "markdown",
   "metadata": {},
   "source": [
    "## Looking at x"
   ]
  },
  {
   "cell_type": "code",
   "execution_count": 39,
   "metadata": {},
   "outputs": [
    {
     "data": {
      "text/plain": [
       "<generator object bigrams at 0x7fd631483cf0>"
      ]
     },
     "execution_count": 39,
     "metadata": {},
     "output_type": "execute_result"
    }
   ],
   "source": [
    "bigrams = nltk.bigrams(all_words)\n",
    "bigrams"
   ]
  },
  {
   "cell_type": "code",
   "execution_count": 40,
   "metadata": {},
   "outputs": [
    {
     "data": {
      "text/plain": [
       "['well', 'i', \"'m\", 'not', 'sure', 'about', 'the', 'story', 'nad', 'it']"
      ]
     },
     "execution_count": 40,
     "metadata": {},
     "output_type": "execute_result"
    }
   ],
   "source": [
    "all_words[:10]"
   ]
  },
  {
   "cell_type": "code",
   "execution_count": 41,
   "metadata": {},
   "outputs": [
    {
     "data": {
      "text/plain": [
       "[('well', 'i'),\n",
       " ('i', \"'m\"),\n",
       " (\"'m\", 'not'),\n",
       " ('not', 'sure'),\n",
       " ('sure', 'about'),\n",
       " ('about', 'the'),\n",
       " ('the', 'story'),\n",
       " ('story', 'nad'),\n",
       " ('nad', 'it'),\n",
       " ('it', 'did'),\n",
       " ('did', 'seem'),\n",
       " ('seem', 'biased'),\n",
       " ('biased', '.'),\n",
       " ('.', 'what'),\n",
       " ('what', 'i'),\n",
       " ('i', 'disagree'),\n",
       " ('disagree', 'with'),\n",
       " ('with', 'is'),\n",
       " ('is', 'your'),\n",
       " ('your', 'statement')]"
      ]
     },
     "execution_count": 41,
     "metadata": {},
     "output_type": "execute_result"
    }
   ],
   "source": [
    "list(islice(bigrams, 20))"
   ]
  },
  {
   "cell_type": "code",
   "execution_count": 42,
   "metadata": {},
   "outputs": [],
   "source": [
    "bigrams = nltk.bigrams(all_words)\n",
    "cond_freqs = nltk.ConditionalFreqDist(bigrams)"
   ]
  },
  {
   "cell_type": "code",
   "execution_count": 43,
   "metadata": {},
   "outputs": [
    {
     "data": {
      "text/plain": [
       "FreqDist({'into': 17, 'the': 12, 'out': 11, 'to': 8, 'a': 7, 'away': 6, 'across': 4, 'on': 3, 'over': 3, 'about': 3, ...})"
      ]
     },
     "execution_count": 43,
     "metadata": {},
     "output_type": "execute_result"
    }
   ],
   "source": [
    "cond_freqs['ran']"
   ]
  },
  {
   "cell_type": "code",
   "execution_count": 44,
   "metadata": {},
   "outputs": [
    {
     "data": {
      "text/plain": [
       "FreqDist({'*': 681, 'x': 592, '/': 228, '}': 188, 'printf': 128, 'if': 115, 'char': 98, ',': 97, 'fprintf': 96, '#': 93, ...})"
      ]
     },
     "execution_count": 44,
     "metadata": {},
     "output_type": "execute_result"
    }
   ],
   "source": [
    "cond_freqs['x']"
   ]
  },
  {
   "cell_type": "code",
   "execution_count": 45,
   "metadata": {},
   "outputs": [
    {
     "data": {
      "text/plain": [
       "FreqDist({'<': 831, ',': 366, '&': 277, ':': 168, '#': 155, '%': 153, '[': 147, ']': 75, 'm': 57, '$': 48, ...})"
      ]
     },
     "execution_count": 45,
     "metadata": {},
     "output_type": "execute_result"
    }
   ],
   "source": [
    "cond_freqs['q']"
   ]
  },
  {
   "cell_type": "markdown",
   "metadata": {},
   "source": [
    "## Generating text"
   ]
  },
  {
   "cell_type": "markdown",
   "metadata": {},
   "source": [
    "### Bigrams"
   ]
  },
  {
   "cell_type": "code",
   "execution_count": 57,
   "metadata": {},
   "outputs": [
    {
     "data": {
      "text/plain": [
       "1982349"
      ]
     },
     "execution_count": 57,
     "metadata": {},
     "output_type": "execute_result"
    }
   ],
   "source": [
    "len(filtered_words)"
   ]
  },
  {
   "cell_type": "code",
   "execution_count": 46,
   "metadata": {},
   "outputs": [],
   "source": [
    "bigrams = nltk.bigrams(filtered_words)\n",
    "freq_pd = nltk.FreqDist(filtered_words)\n",
    "cond_pd = nltk.ConditionalProbDist(nltk.ConditionalFreqDist(bigrams), nltk.MLEProbDist)"
   ]
  },
  {
   "cell_type": "code",
   "execution_count": 47,
   "metadata": {},
   "outputs": [
    {
     "data": {
      "text/plain": [
       "0.05357532906667797"
      ]
     },
     "execution_count": 47,
     "metadata": {},
     "output_type": "execute_result"
    }
   ],
   "source": [
    "freq_pd.freq('the')"
   ]
  },
  {
   "cell_type": "code",
   "execution_count": 48,
   "metadata": {},
   "outputs": [
    {
     "data": {
      "text/plain": [
       "<MLEProbDist based on 106205 samples>"
      ]
     },
     "execution_count": 48,
     "metadata": {},
     "output_type": "execute_result"
    }
   ],
   "source": [
    "cond_pd['the']"
   ]
  },
  {
   "cell_type": "code",
   "execution_count": 49,
   "metadata": {},
   "outputs": [
    {
     "data": {
      "text/plain": [
       "FreqDist({'same': 1547, 'first': 1015, 'other': 862, 'only': 645, 'following': 625, 'way': 531, 'most': 526, 'new': 526, 'time': 489, 'problem': 485, ...})"
      ]
     },
     "execution_count": 49,
     "metadata": {},
     "output_type": "execute_result"
    }
   ],
   "source": [
    "cond_pd['the'].freqdist()"
   ]
  },
  {
   "cell_type": "markdown",
   "metadata": {},
   "source": [
    "$w_1$ is given. Generating from $P(w_2|w_1), P(w_3|w_2), ...$"
   ]
  },
  {
   "cell_type": "code",
   "execution_count": 50,
   "metadata": {},
   "outputs": [],
   "source": [
    "def generate_text(cond_pd, start, length):\n",
    "    text = []\n",
    "    word = start\n",
    "    for i in range(length):\n",
    "        text.append(word)\n",
    "        word = cond_pd[word].generate()\n",
    "    return text"
   ]
  },
  {
   "cell_type": "code",
   "execution_count": 51,
   "metadata": {},
   "outputs": [
    {
     "data": {
      "text/plain": [
       "['he', 'ever', 'bring', 'a', 'lev', 'fit', 'and', 'advances']"
      ]
     },
     "execution_count": 51,
     "metadata": {},
     "output_type": "execute_result"
    }
   ],
   "source": [
    "generate_text(cond_pd, 'he', 8)"
   ]
  },
  {
   "cell_type": "markdown",
   "metadata": {},
   "source": [
    "### Trigrams"
   ]
  },
  {
   "cell_type": "code",
   "execution_count": 52,
   "metadata": {},
   "outputs": [],
   "source": [
    "trigrams = nltk.trigrams(filtered_words)\n",
    "trigrams = (((w1, w2), w3) for w1, w2, w3 in trigrams)\n",
    "cond_pd = nltk.ConditionalProbDist(nltk.ConditionalFreqDist(trigrams), nltk.MLEProbDist)"
   ]
  },
  {
   "cell_type": "markdown",
   "metadata": {},
   "source": [
    "$w_1, w_2$ given. Generating from $P(w_3|w_1, w_2), P(w_4|w_2, w_3), ...$"
   ]
  },
  {
   "cell_type": "code",
   "execution_count": 53,
   "metadata": {},
   "outputs": [],
   "source": [
    "def generate_text(cond_pd, start, length):\n",
    "    word1, word2 = start\n",
    "    text = [word1]\n",
    "    for i in range(length):\n",
    "        text.append(word2)\n",
    "        try:\n",
    "            word = cond_pd[(word1, word2)].generate()\n",
    "        except:\n",
    "            print('The pair {} is not among the conditions of our trigram model, stopping'.format((word1, word2)))\n",
    "            break\n",
    "        word1 = word2\n",
    "        word2 = word\n",
    "    return text"
   ]
  },
  {
   "cell_type": "code",
   "execution_count": 54,
   "metadata": {},
   "outputs": [
    {
     "data": {
      "text/plain": [
       "FreqDist({'que': 1, 'records': 1})"
      ]
     },
     "execution_count": 54,
     "metadata": {},
     "output_type": "execute_result"
    }
   ],
   "source": [
    "cond_pd[('was', 'leads')].freqdist()"
   ]
  },
  {
   "cell_type": "code",
   "execution_count": 55,
   "metadata": {},
   "outputs": [
    {
     "data": {
      "text/plain": [
       "['he', 'was', 'a', 'major', 'career', 'limiting', 'move', 'in', 'rooms']"
      ]
     },
     "execution_count": 55,
     "metadata": {},
     "output_type": "execute_result"
    }
   ],
   "source": [
    "generate_text(cond_pd, ('he', 'was'), 8)"
   ]
  },
  {
   "cell_type": "code",
   "execution_count": null,
   "metadata": {},
   "outputs": [],
   "source": []
  }
 ],
 "metadata": {
  "kernelspec": {
   "display_name": "Python 3",
   "language": "python",
   "name": "python3"
  },
  "language_info": {
   "codemirror_mode": {
    "name": "ipython",
    "version": 3
   },
   "file_extension": ".py",
   "mimetype": "text/x-python",
   "name": "python",
   "nbconvert_exporter": "python",
   "pygments_lexer": "ipython3",
   "version": "3.8.5"
  }
 },
 "nbformat": 4,
 "nbformat_minor": 2
}
