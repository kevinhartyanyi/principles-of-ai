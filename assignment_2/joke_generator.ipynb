{
 "cells": [
  {
   "cell_type": "markdown",
   "metadata": {},
   "source": [
    "# Notebook for generating jokes"
   ]
  },
  {
   "cell_type": "markdown",
   "metadata": {},
   "source": [
    "# Exploratory analysis"
   ]
  },
  {
   "cell_type": "code",
   "execution_count": 1,
   "metadata": {
    "_cell_guid": "79c7e3d0-c299-4dcb-8224-4455121ee9b0",
    "_uuid": "d629ff2d2480ee46fbb7e2d37f6b5fab8052498a"
   },
   "outputs": [],
   "source": [
    "import matplotlib.pyplot as plt\n",
    "import pandas as pd\n",
    "import numpy as np\n",
    "import os"
   ]
  },
  {
   "cell_type": "code",
   "execution_count": 2,
   "metadata": {},
   "outputs": [],
   "source": [
    "feature_num = 5000"
   ]
  },
  {
   "cell_type": "markdown",
   "metadata": {},
   "source": [
    "We are only using a small precentage for the analysis to keep it quick."
   ]
  },
  {
   "cell_type": "code",
   "execution_count": 3,
   "metadata": {},
   "outputs": [],
   "source": [
    "df = pd.read_json('reddit_jokes.json')"
   ]
  },
  {
   "cell_type": "markdown",
   "metadata": {},
   "source": [
    "## Preprocessing"
   ]
  },
  {
   "cell_type": "code",
   "execution_count": 4,
   "metadata": {},
   "outputs": [
    {
     "data": {
      "text/html": [
       "<div>\n",
       "<style scoped>\n",
       "    .dataframe tbody tr th:only-of-type {\n",
       "        vertical-align: middle;\n",
       "    }\n",
       "\n",
       "    .dataframe tbody tr th {\n",
       "        vertical-align: top;\n",
       "    }\n",
       "\n",
       "    .dataframe thead th {\n",
       "        text-align: right;\n",
       "    }\n",
       "</style>\n",
       "<table border=\"1\" class=\"dataframe\">\n",
       "  <thead>\n",
       "    <tr style=\"text-align: right;\">\n",
       "      <th></th>\n",
       "      <th>body</th>\n",
       "      <th>id</th>\n",
       "      <th>score</th>\n",
       "      <th>title</th>\n",
       "    </tr>\n",
       "  </thead>\n",
       "  <tbody>\n",
       "    <tr>\n",
       "      <th>0</th>\n",
       "      <td>Now I have to say \"Leroy can you please paint ...</td>\n",
       "      <td>5tz52q</td>\n",
       "      <td>1</td>\n",
       "      <td>I hate how you cant even say black paint anymore</td>\n",
       "    </tr>\n",
       "    <tr>\n",
       "      <th>1</th>\n",
       "      <td>Pizza doesn't scream when you put it in the ov...</td>\n",
       "      <td>5tz4dd</td>\n",
       "      <td>0</td>\n",
       "      <td>What's the difference between a Jew in Nazi Ge...</td>\n",
       "    </tr>\n",
       "    <tr>\n",
       "      <th>2</th>\n",
       "      <td>...and being there really helped me learn abou...</td>\n",
       "      <td>5tz319</td>\n",
       "      <td>0</td>\n",
       "      <td>I recently went to America....</td>\n",
       "    </tr>\n",
       "    <tr>\n",
       "      <th>3</th>\n",
       "      <td>A Sunday school teacher is concerned that his ...</td>\n",
       "      <td>5tz2wj</td>\n",
       "      <td>1</td>\n",
       "      <td>Brian raises his hand and says, “He’s in Heaven.”</td>\n",
       "    </tr>\n",
       "    <tr>\n",
       "      <th>4</th>\n",
       "      <td>He got caught trying to sell the two books to ...</td>\n",
       "      <td>5tz1pc</td>\n",
       "      <td>0</td>\n",
       "      <td>You hear about the University book store worke...</td>\n",
       "    </tr>\n",
       "    <tr>\n",
       "      <th>...</th>\n",
       "      <td>...</td>\n",
       "      <td>...</td>\n",
       "      <td>...</td>\n",
       "      <td>...</td>\n",
       "    </tr>\n",
       "    <tr>\n",
       "      <th>194548</th>\n",
       "      <td>Gives me something to read while i'm in the sh...</td>\n",
       "      <td>1a89ts</td>\n",
       "      <td>5</td>\n",
       "      <td>I like a girl with words tattooed on her back.</td>\n",
       "    </tr>\n",
       "    <tr>\n",
       "      <th>194549</th>\n",
       "      <td>I mean dyslexia fcuk!!! &gt;_&lt;</td>\n",
       "      <td>1a87we</td>\n",
       "      <td>12</td>\n",
       "      <td>I have sexdaily...</td>\n",
       "    </tr>\n",
       "    <tr>\n",
       "      <th>194550</th>\n",
       "      <td>A hockey player showers after three periods.</td>\n",
       "      <td>1a7xnd</td>\n",
       "      <td>44</td>\n",
       "      <td>What's the difference between a hippie chick a...</td>\n",
       "    </tr>\n",
       "    <tr>\n",
       "      <th>194551</th>\n",
       "      <td>A father buys a lie detector robot that slaps ...</td>\n",
       "      <td>1a813f</td>\n",
       "      <td>63</td>\n",
       "      <td>new family robot</td>\n",
       "    </tr>\n",
       "    <tr>\n",
       "      <th>194552</th>\n",
       "      <td>It was a 'Shih Tzu'</td>\n",
       "      <td>1a801u</td>\n",
       "      <td>0</td>\n",
       "      <td>I went to a zoo and there was only one animal...</td>\n",
       "    </tr>\n",
       "  </tbody>\n",
       "</table>\n",
       "<p>194553 rows × 4 columns</p>\n",
       "</div>"
      ],
      "text/plain": [
       "                                                     body      id  score  \\\n",
       "0       Now I have to say \"Leroy can you please paint ...  5tz52q      1   \n",
       "1       Pizza doesn't scream when you put it in the ov...  5tz4dd      0   \n",
       "2       ...and being there really helped me learn abou...  5tz319      0   \n",
       "3       A Sunday school teacher is concerned that his ...  5tz2wj      1   \n",
       "4       He got caught trying to sell the two books to ...  5tz1pc      0   \n",
       "...                                                   ...     ...    ...   \n",
       "194548  Gives me something to read while i'm in the sh...  1a89ts      5   \n",
       "194549                        I mean dyslexia fcuk!!! >_<  1a87we     12   \n",
       "194550       A hockey player showers after three periods.  1a7xnd     44   \n",
       "194551  A father buys a lie detector robot that slaps ...  1a813f     63   \n",
       "194552                                It was a 'Shih Tzu'  1a801u      0   \n",
       "\n",
       "                                                    title  \n",
       "0        I hate how you cant even say black paint anymore  \n",
       "1       What's the difference between a Jew in Nazi Ge...  \n",
       "2                          I recently went to America....  \n",
       "3       Brian raises his hand and says, “He’s in Heaven.”  \n",
       "4       You hear about the University book store worke...  \n",
       "...                                                   ...  \n",
       "194548     I like a girl with words tattooed on her back.  \n",
       "194549                                 I have sexdaily...  \n",
       "194550  What's the difference between a hippie chick a...  \n",
       "194551                                   new family robot  \n",
       "194552   I went to a zoo and there was only one animal...  \n",
       "\n",
       "[194553 rows x 4 columns]"
      ]
     },
     "execution_count": 4,
     "metadata": {},
     "output_type": "execute_result"
    }
   ],
   "source": [
    "df"
   ]
  },
  {
   "cell_type": "markdown",
   "metadata": {},
   "source": [
    "Dropping the id column, because it's not necessary for the generation"
   ]
  },
  {
   "cell_type": "code",
   "execution_count": 5,
   "metadata": {},
   "outputs": [
    {
     "name": "stdout",
     "output_type": "stream",
     "text": [
      "Index(['body', 'score', 'title'], dtype='object')\n"
     ]
    }
   ],
   "source": [
    "df = df.drop([\"id\"], axis=1)\n",
    "print(df.columns)"
   ]
  },
  {
   "cell_type": "markdown",
   "metadata": {},
   "source": [
    "## Characters lengths"
   ]
  },
  {
   "cell_type": "code",
   "execution_count": 6,
   "metadata": {},
   "outputs": [],
   "source": [
    "def plot_character_len(df):\n",
    "    title_len = df[\"title\"].map(len)\n",
    "    body_len = df[\"body\"].map(len)\n",
    "    \n",
    "    _, ax = plt.subplots(1,2, figsize=(20,5))\n",
    "    ax[0].hist(title_len, 100, color='crimson')\n",
    "    ax[0].set_title(\"Title character length\")\n",
    "    ax[0].set_xlabel(\"Character length\")\n",
    "\n",
    "    ax[1].hist(body_len, 100, color='dodgerblue')\n",
    "    ax[1].set_title(\"Body character length\")\n",
    "    ax[1].set_xlabel(\"Character length\");"
   ]
  },
  {
   "cell_type": "code",
   "execution_count": 7,
   "metadata": {},
   "outputs": [
    {
     "data": {
      "image/png": "[encoded data removed]",
      "text/plain": [
       "<Figure size 1440x360 with 2 Axes>"
      ]
     },
     "metadata": {
      "needs_background": "light"
     },
     "output_type": "display_data"
    }
   ],
   "source": [
    "plot_character_len(df)"
   ]
  },
  {
   "cell_type": "markdown",
   "metadata": {},
   "source": [
    "As we can see, most of the jokes are short, but there are some really long ones in the body. Let's take a look at those."
   ]
  },
  {
   "cell_type": "code",
   "execution_count": 8,
   "metadata": {},
   "outputs": [
    {
     "data": {
      "text/html": [
       "<div>\n",
       "<style scoped>\n",
       "    .dataframe tbody tr th:only-of-type {\n",
       "        vertical-align: middle;\n",
       "    }\n",
       "\n",
       "    .dataframe tbody tr th {\n",
       "        vertical-align: top;\n",
       "    }\n",
       "\n",
       "    .dataframe thead th {\n",
       "        text-align: right;\n",
       "    }\n",
       "</style>\n",
       "<table border=\"1\" class=\"dataframe\">\n",
       "  <thead>\n",
       "    <tr style=\"text-align: right;\">\n",
       "      <th></th>\n",
       "      <th>body</th>\n",
       "      <th>score</th>\n",
       "      <th>title</th>\n",
       "      <th>body_len</th>\n",
       "    </tr>\n",
       "  </thead>\n",
       "  <tbody>\n",
       "    <tr>\n",
       "      <th>13997</th>\n",
       "      <td>So, there's a man crawling through the desert....</td>\n",
       "      <td>3</td>\n",
       "      <td>Nate the Snake</td>\n",
       "      <td>39728</td>\n",
       "    </tr>\n",
       "    <tr>\n",
       "      <th>103362</th>\n",
       "      <td>So, there's a man crawling through the desert....</td>\n",
       "      <td>24</td>\n",
       "      <td>Lost in the Desert.</td>\n",
       "      <td>39484</td>\n",
       "    </tr>\n",
       "    <tr>\n",
       "      <th>144004</th>\n",
       "      <td>So, there's a man crawling through the desert....</td>\n",
       "      <td>0</td>\n",
       "      <td>Lost in the Desert</td>\n",
       "      <td>39329</td>\n",
       "    </tr>\n",
       "    <tr>\n",
       "      <th>107569</th>\n",
       "      <td>So, there's a man crawling through the desert....</td>\n",
       "      <td>8</td>\n",
       "      <td>I wasted my time on this so I thought I'd wast...</td>\n",
       "      <td>39215</td>\n",
       "    </tr>\n",
       "    <tr>\n",
       "      <th>152817</th>\n",
       "      <td>DEVELOPERS DEVELOPERS DEVELOPERS DEVELOPERS DE...</td>\n",
       "      <td>0</td>\n",
       "      <td>DEVELOPERS</td>\n",
       "      <td>39136</td>\n",
       "    </tr>\n",
       "    <tr>\n",
       "      <th>...</th>\n",
       "      <td>...</td>\n",
       "      <td>...</td>\n",
       "      <td>...</td>\n",
       "      <td>...</td>\n",
       "    </tr>\n",
       "    <tr>\n",
       "      <th>106537</th>\n",
       "      <td></td>\n",
       "      <td>2</td>\n",
       "      <td>Actual Mechanical Advantage(AMA)</td>\n",
       "      <td>0</td>\n",
       "    </tr>\n",
       "    <tr>\n",
       "      <th>141605</th>\n",
       "      <td></td>\n",
       "      <td>0</td>\n",
       "      <td>Paranoia is a government conspiracy.</td>\n",
       "      <td>0</td>\n",
       "    </tr>\n",
       "    <tr>\n",
       "      <th>106520</th>\n",
       "      <td></td>\n",
       "      <td>91</td>\n",
       "      <td>I hope Jessica Biel names her first child Batmo.</td>\n",
       "      <td>0</td>\n",
       "    </tr>\n",
       "    <tr>\n",
       "      <th>177735</th>\n",
       "      <td></td>\n",
       "      <td>12</td>\n",
       "      <td>My Sex Life</td>\n",
       "      <td>0</td>\n",
       "    </tr>\n",
       "    <tr>\n",
       "      <th>160520</th>\n",
       "      <td></td>\n",
       "      <td>554</td>\n",
       "      <td>There's no \"i\" in denial.</td>\n",
       "      <td>0</td>\n",
       "    </tr>\n",
       "  </tbody>\n",
       "</table>\n",
       "<p>194553 rows × 4 columns</p>\n",
       "</div>"
      ],
      "text/plain": [
       "                                                     body  score  \\\n",
       "13997   So, there's a man crawling through the desert....      3   \n",
       "103362  So, there's a man crawling through the desert....     24   \n",
       "144004  So, there's a man crawling through the desert....      0   \n",
       "107569  So, there's a man crawling through the desert....      8   \n",
       "152817  DEVELOPERS DEVELOPERS DEVELOPERS DEVELOPERS DE...      0   \n",
       "...                                                   ...    ...   \n",
       "106537                                                         2   \n",
       "141605                                                         0   \n",
       "106520                                                        91   \n",
       "177735                                                        12   \n",
       "160520                                                       554   \n",
       "\n",
       "                                                    title  body_len  \n",
       "13997                                      Nate the Snake     39728  \n",
       "103362                                Lost in the Desert.     39484  \n",
       "144004                                 Lost in the Desert     39329  \n",
       "107569  I wasted my time on this so I thought I'd wast...     39215  \n",
       "152817                                         DEVELOPERS     39136  \n",
       "...                                                   ...       ...  \n",
       "106537                   Actual Mechanical Advantage(AMA)         0  \n",
       "141605               Paranoia is a government conspiracy.         0  \n",
       "106520   I hope Jessica Biel names her first child Batmo.         0  \n",
       "177735                                        My Sex Life         0  \n",
       "160520                          There's no \"i\" in denial.         0  \n",
       "\n",
       "[194553 rows x 4 columns]"
      ]
     },
     "execution_count": 8,
     "metadata": {},
     "output_type": "execute_result"
    }
   ],
   "source": [
    "df[\"body_len\"] = df[\"body\"].str.len()\n",
    "df.sort_values(\"body_len\", ascending=False, inplace=True)\n",
    "df"
   ]
  },
  {
   "cell_type": "markdown",
   "metadata": {},
   "source": [
    "We have some pretty long jokes, also some of them seems to be in the dataset multiple times. Also there are some empty jokes as well. <br> To solve the problem we will remove all of the jokes that are longer than 1000 or shorter than 1. "
   ]
  },
  {
   "cell_type": "code",
   "execution_count": 9,
   "metadata": {},
   "outputs": [
    {
     "data": {
      "image/png": "[encoded data removed]",
      "text/plain": [
       "<Figure size 1440x360 with 2 Axes>"
      ]
     },
     "metadata": {
      "needs_background": "light"
     },
     "output_type": "display_data"
    }
   ],
   "source": [
    "df = df[(df[\"body_len\"] < 200) & (df[\"body_len\"] > 0)]\n",
    "plot_character_len(df)"
   ]
  },
  {
   "cell_type": "code",
   "execution_count": 10,
   "metadata": {},
   "outputs": [
    {
     "data": {
      "text/html": [
       "<div>\n",
       "<style scoped>\n",
       "    .dataframe tbody tr th:only-of-type {\n",
       "        vertical-align: middle;\n",
       "    }\n",
       "\n",
       "    .dataframe tbody tr th {\n",
       "        vertical-align: top;\n",
       "    }\n",
       "\n",
       "    .dataframe thead th {\n",
       "        text-align: right;\n",
       "    }\n",
       "</style>\n",
       "<table border=\"1\" class=\"dataframe\">\n",
       "  <thead>\n",
       "    <tr style=\"text-align: right;\">\n",
       "      <th></th>\n",
       "      <th>body</th>\n",
       "      <th>score</th>\n",
       "      <th>title</th>\n",
       "      <th>body_len</th>\n",
       "    </tr>\n",
       "  </thead>\n",
       "  <tbody>\n",
       "    <tr>\n",
       "      <th>59358</th>\n",
       "      <td>He looks around, panic in his eyes, and sees t...</td>\n",
       "      <td>13</td>\n",
       "      <td>A man wakes up in a hospital after being in a ...</td>\n",
       "      <td>199</td>\n",
       "    </tr>\n",
       "    <tr>\n",
       "      <th>175469</th>\n",
       "      <td>...Looking down at his supper he asks, \"Are yo...</td>\n",
       "      <td>1</td>\n",
       "      <td>Man walks back into a fish n' chip shop...</td>\n",
       "      <td>199</td>\n",
       "    </tr>\n",
       "    <tr>\n",
       "      <th>78979</th>\n",
       "      <td>There are some horrible bastards about\\nI hear...</td>\n",
       "      <td>0</td>\n",
       "      <td>There are some horrible bastards about</td>\n",
       "      <td>199</td>\n",
       "    </tr>\n",
       "    <tr>\n",
       "      <th>109895</th>\n",
       "      <td>Immediately when he gets inside, he begins to ...</td>\n",
       "      <td>25</td>\n",
       "      <td>A blind man walks into a bar with a seeing eye...</td>\n",
       "      <td>199</td>\n",
       "    </tr>\n",
       "    <tr>\n",
       "      <th>188599</th>\n",
       "      <td>...can be the only stairs. You will not see ou...</td>\n",
       "      <td>0</td>\n",
       "      <td>Escalators can never rest...</td>\n",
       "      <td>199</td>\n",
       "    </tr>\n",
       "    <tr>\n",
       "      <th>...</th>\n",
       "      <td>...</td>\n",
       "      <td>...</td>\n",
       "      <td>...</td>\n",
       "      <td>...</td>\n",
       "    </tr>\n",
       "    <tr>\n",
       "      <th>164802</th>\n",
       "      <td></td>\n",
       "      <td>0</td>\n",
       "      <td>How do you keep a Redditor in suspense?</td>\n",
       "      <td>1</td>\n",
       "    </tr>\n",
       "    <tr>\n",
       "      <th>162165</th>\n",
       "      <td></td>\n",
       "      <td>5</td>\n",
       "      <td>There's a thin line between word and world.</td>\n",
       "      <td>1</td>\n",
       "    </tr>\n",
       "    <tr>\n",
       "      <th>193482</th>\n",
       "      <td>B</td>\n",
       "      <td>23</td>\n",
       "      <td>What do you call bears with no ears?</td>\n",
       "      <td>1</td>\n",
       "    </tr>\n",
       "    <tr>\n",
       "      <th>176434</th>\n",
       "      <td></td>\n",
       "      <td>60</td>\n",
       "      <td>I will not sleep until I find a cure for my in...</td>\n",
       "      <td>1</td>\n",
       "    </tr>\n",
       "    <tr>\n",
       "      <th>99051</th>\n",
       "      <td>1</td>\n",
       "      <td>0</td>\n",
       "      <td>Everything is made in China. But babies are ma...</td>\n",
       "      <td>1</td>\n",
       "    </tr>\n",
       "  </tbody>\n",
       "</table>\n",
       "<p>148969 rows × 4 columns</p>\n",
       "</div>"
      ],
      "text/plain": [
       "                                                     body  score  \\\n",
       "59358   He looks around, panic in his eyes, and sees t...     13   \n",
       "175469  ...Looking down at his supper he asks, \"Are yo...      1   \n",
       "78979   There are some horrible bastards about\\nI hear...      0   \n",
       "109895  Immediately when he gets inside, he begins to ...     25   \n",
       "188599  ...can be the only stairs. You will not see ou...      0   \n",
       "...                                                   ...    ...   \n",
       "164802                                                         0   \n",
       "162165                                                         5   \n",
       "193482                                                  B     23   \n",
       "176434                                                        60   \n",
       "99051                                                   1      0   \n",
       "\n",
       "                                                    title  body_len  \n",
       "59358   A man wakes up in a hospital after being in a ...       199  \n",
       "175469         Man walks back into a fish n' chip shop...       199  \n",
       "78979              There are some horrible bastards about       199  \n",
       "109895  A blind man walks into a bar with a seeing eye...       199  \n",
       "188599                       Escalators can never rest...       199  \n",
       "...                                                   ...       ...  \n",
       "164802            How do you keep a Redditor in suspense?         1  \n",
       "162165        There's a thin line between word and world.         1  \n",
       "193482               What do you call bears with no ears?         1  \n",
       "176434  I will not sleep until I find a cure for my in...         1  \n",
       "99051   Everything is made in China. But babies are ma...         1  \n",
       "\n",
       "[148969 rows x 4 columns]"
      ]
     },
     "execution_count": 10,
     "metadata": {},
     "output_type": "execute_result"
    }
   ],
   "source": [
    "df"
   ]
  },
  {
   "cell_type": "markdown",
   "metadata": {},
   "source": [
    "## Tokenize jokes"
   ]
  },
  {
   "cell_type": "code",
   "execution_count": 11,
   "metadata": {},
   "outputs": [],
   "source": [
    "import nltk"
   ]
  },
  {
   "cell_type": "markdown",
   "metadata": {},
   "source": [
    "I will change the words to lower case and tokenize them, to gain some more insight."
   ]
  },
  {
   "cell_type": "code",
   "execution_count": 12,
   "metadata": {},
   "outputs": [],
   "source": [
    "body_token = df[\"body\"][:feature_num].map(lambda x: x.lower()).map(nltk.word_tokenize)\n",
    "title_token = df[\"title\"][:feature_num].map(lambda x: x.lower()).map(nltk.word_tokenize)"
   ]
  },
  {
   "cell_type": "code",
   "execution_count": 13,
   "metadata": {},
   "outputs": [
    {
     "data": {
      "image/png": "[encoded data removed]",
      "text/plain": [
       "<Figure size 1440x360 with 2 Axes>"
      ]
     },
     "metadata": {
      "needs_background": "light"
     },
     "output_type": "display_data"
    }
   ],
   "source": [
    "body_word_len = body_token.map(len)\n",
    "title_word_len = title_token.map(len)\n",
    "\n",
    "_, ax = plt.subplots(1,2, figsize=(20,5))\n",
    "ax[0].hist(title_word_len, 50, color='crimson')\n",
    "ax[0].set_title(\"Title word count\")\n",
    "ax[0].set_xlabel(\"Number of words\")\n",
    "\n",
    "ax[1].hist(body_word_len, 100, color='dodgerblue')\n",
    "ax[1].set_title(\"Body word count\")\n",
    "ax[1].set_xlabel(\"Number of words\");"
   ]
  },
  {
   "cell_type": "markdown",
   "metadata": {},
   "source": [
    "This shows us that while the titles tend to be just a few words long the bodies are much more diversified."
   ]
  },
  {
   "cell_type": "code",
   "execution_count": 14,
   "metadata": {},
   "outputs": [],
   "source": [
    "body_all_words = [word for token in body_token.values for word in token]\n",
    "title_all_words = [word for token in title_token.values for word in token]"
   ]
  },
  {
   "cell_type": "code",
   "execution_count": 15,
   "metadata": {},
   "outputs": [],
   "source": [
    "from collections import Counter\n",
    "body_all_words_counter = Counter(body_all_words)\n",
    "title_all_words_counter = Counter(title_all_words)"
   ]
  },
  {
   "cell_type": "code",
   "execution_count": 16,
   "metadata": {},
   "outputs": [
    {
     "data": {
      "text/plain": [
       "[('.', 9117),\n",
       " (',', 8155),\n",
       " ('the', 7918),\n",
       " (\"''\", 5851),\n",
       " ('a', 5524),\n",
       " ('i', 5331),\n",
       " ('``', 5145),\n",
       " ('and', 3749),\n",
       " ('to', 3685),\n",
       " ('you', 3443)]"
      ]
     },
     "execution_count": 16,
     "metadata": {},
     "output_type": "execute_result"
    }
   ],
   "source": [
    "body_all_words_counter.most_common(10)"
   ]
  },
  {
   "cell_type": "code",
   "execution_count": 17,
   "metadata": {},
   "outputs": [
    {
     "data": {
      "text/plain": [
       "[('a', 3122),\n",
       " ('the', 1445),\n",
       " ('...', 1078),\n",
       " ('.', 1027),\n",
       " ('to', 877),\n",
       " ('i', 742),\n",
       " ('and', 679),\n",
       " ('?', 664),\n",
       " ('in', 585),\n",
       " (',', 573)]"
      ]
     },
     "execution_count": 17,
     "metadata": {},
     "output_type": "execute_result"
    }
   ],
   "source": [
    "title_all_words_counter.most_common(10)"
   ]
  },
  {
   "cell_type": "code",
   "execution_count": 18,
   "metadata": {},
   "outputs": [
    {
     "data": {
      "image/png": "[encoded data removed]",
      "text/plain": [
       "<Figure size 1440x720 with 2 Axes>"
      ]
     },
     "metadata": {
      "needs_background": "light"
     },
     "output_type": "display_data"
    }
   ],
   "source": [
    "def plot_word_freq(title_counter, body_counter):\n",
    "    x_t, y_t = zip(*title_counter.most_common(30))    \n",
    "    x_b, y_b = zip(*body_counter.most_common(30))\n",
    "    _, ax = plt.subplots(2,1, figsize=(20,10))\n",
    "    ax[0].bar(x_t, y_t, color='crimson')\n",
    "    ax[0].set_title(\"Title\")\n",
    "    ax[0].set_xlabel(\"Most common words\")\n",
    "\n",
    "    ax[1].bar(x_b, y_b, color='dodgerblue')\n",
    "    ax[1].set_title(\"Body\")\n",
    "    ax[1].set_xlabel(\"Most common words\");\n",
    "plot_word_freq(title_all_words_counter, body_all_words_counter)"
   ]
  },
  {
   "cell_type": "markdown",
   "metadata": {},
   "source": [
    "We see some strange words that appear often. To make our data cleaner we will filter them out."
   ]
  },
  {
   "cell_type": "code",
   "execution_count": 19,
   "metadata": {},
   "outputs": [],
   "source": [
    "body_filtered = [word for word in body_all_words if word.isalpha() or word in [\"!\", \"?\", \".\"]]\n",
    "body_filtered_counter = Counter(body_filtered)\n",
    "title_filtered = [word for word in title_all_words if word.isalpha() or word in [\"!\", \"?\", \".\"]]\n",
    "title_filtered_counter = Counter(title_filtered)"
   ]
  },
  {
   "cell_type": "markdown",
   "metadata": {},
   "source": [
    "We are keeping the endings, because they store information about the context."
   ]
  },
  {
   "cell_type": "code",
   "execution_count": 20,
   "metadata": {},
   "outputs": [
    {
     "data": {
      "image/png": "[encoded data removed]",
      "text/plain": [
       "<Figure size 1440x720 with 2 Axes>"
      ]
     },
     "metadata": {
      "needs_background": "light"
     },
     "output_type": "display_data"
    }
   ],
   "source": [
    "plot_word_freq(title_filtered_counter, body_filtered_counter)"
   ]
  },
  {
   "cell_type": "markdown",
   "metadata": {},
   "source": [
    "Looks better"
   ]
  },
  {
   "cell_type": "markdown",
   "metadata": {},
   "source": [
    "# Generating text\n",
    "Let's try to generate the body of a joke"
   ]
  },
  {
   "cell_type": "code",
   "execution_count": 21,
   "metadata": {},
   "outputs": [],
   "source": [
    "trigrams = nltk.trigrams(body_filtered)\n",
    "trigrams = (((w1, w2), w3) for w1, w2, w3 in trigrams)\n",
    "cond_pd = nltk.ConditionalProbDist(nltk.ConditionalFreqDist(trigrams), nltk.MLEProbDist)"
   ]
  },
  {
   "cell_type": "code",
   "execution_count": 22,
   "metadata": {},
   "outputs": [
    {
     "data": {
      "text/plain": [
       "174286"
      ]
     },
     "execution_count": 22,
     "metadata": {},
     "output_type": "execute_result"
    }
   ],
   "source": [
    "len(body_filtered)"
   ]
  },
  {
   "cell_type": "code",
   "execution_count": 23,
   "metadata": {},
   "outputs": [],
   "source": [
    "def generate_text(cond_pd, start, length):\n",
    "    word1, word2 = start\n",
    "    text = [word1]\n",
    "    for i in range(length):\n",
    "        text.append(word2)\n",
    "        try:\n",
    "            word = cond_pd[(word1, word2)].generate()\n",
    "        except:\n",
    "            print('The pair {} is not among the conditions of our model, stopping'.format((word1, word2)))\n",
    "            break\n",
    "        word1 = word2\n",
    "        word2 = word\n",
    "    return text"
   ]
  },
  {
   "cell_type": "code",
   "execution_count": 24,
   "metadata": {},
   "outputs": [
    {
     "data": {
      "text/plain": [
       "['once', 'was', 'a', 'necromancer', '.', 'nbsp', 'nbsp', 'nbsp', 'nbsp']"
      ]
     },
     "execution_count": 24,
     "metadata": {},
     "output_type": "execute_result"
    }
   ],
   "source": [
    "generate_text(cond_pd, ('once', 'was'), 8)"
   ]
  },
  {
   "cell_type": "markdown",
   "metadata": {},
   "source": [
    "# Adding a special character to represent the end\n",
    "To generate text without specifying the length we need to know when the text ends, to do this we will add \"\\END\" to the end of all of the texts"
   ]
  },
  {
   "cell_type": "code",
   "execution_count": 25,
   "metadata": {},
   "outputs": [],
   "source": [
    "body_token_with_end = body_token.map(lambda x: x + [\"\\END\"])"
   ]
  },
  {
   "cell_type": "code",
   "execution_count": 26,
   "metadata": {},
   "outputs": [],
   "source": [
    "body_all_words_with_end = [word for token in body_token_with_end.values for word in token]\n",
    "body_with_end_filtered = [word for word in body_all_words_with_end if word.isalpha() or word in [\"!\", \"?\", \".\", \"\\END\"]]\n",
    "trigrams = nltk.trigrams(body_with_end_filtered)\n",
    "trigrams = (((w1, w2), w3) for w1, w2, w3 in trigrams)\n",
    "cond_pd = nltk.ConditionalProbDist(nltk.ConditionalFreqDist(trigrams), nltk.MLEProbDist)"
   ]
  },
  {
   "cell_type": "markdown",
   "metadata": {},
   "source": [
    "Let's update our generating function"
   ]
  },
  {
   "cell_type": "code",
   "execution_count": 27,
   "metadata": {},
   "outputs": [],
   "source": [
    "def generate_text(cond_pd, start, length):\n",
    "    word1, word2 = start\n",
    "    text = [word1]\n",
    "    i = 0\n",
    "    while(i < length or length == -1):\n",
    "        text.append(word2)\n",
    "        try:\n",
    "            word = cond_pd[(word1, word2)].generate()\n",
    "        except:\n",
    "            print('The pair {} is not among the conditions of our model, stopping'.format((word1, word2)))\n",
    "            break\n",
    "        if word == \"\\END\":\n",
    "            break\n",
    "        elif i > 10000:\n",
    "            print(\"Stopping: Word count is over a 1000\")\n",
    "            break\n",
    "        word1 = word2\n",
    "        word2 = word \n",
    "        i += 1\n",
    "    return text"
   ]
  },
  {
   "cell_type": "code",
   "execution_count": 28,
   "metadata": {},
   "outputs": [
    {
     "name": "stdout",
     "output_type": "stream",
     "text": [
      "['once', 'was', 'a', 'method', 'actor', 'and', 'he', 'still']\n"
     ]
    }
   ],
   "source": [
    "text = generate_text(cond_pd, ('once', 'was'), -1)\n",
    "print(text)"
   ]
  },
  {
   "cell_type": "markdown",
   "metadata": {},
   "source": [
    "# Predicting the score of a joke\n",
    "The dataset contains scores for the jokes, so let's try to create a model that can predict it."
   ]
  },
  {
   "cell_type": "code",
   "execution_count": 29,
   "metadata": {},
   "outputs": [],
   "source": [
    "df = df.drop([\"body_len\"], axis=1)"
   ]
  },
  {
   "cell_type": "markdown",
   "metadata": {},
   "source": [
    "We won't need the body_len column anymore. <br> Also, let's join the title and body so we have one text for the joke."
   ]
  },
  {
   "cell_type": "code",
   "execution_count": 30,
   "metadata": {},
   "outputs": [
    {
     "data": {
      "text/html": [
       "<div>\n",
       "<style scoped>\n",
       "    .dataframe tbody tr th:only-of-type {\n",
       "        vertical-align: middle;\n",
       "    }\n",
       "\n",
       "    .dataframe tbody tr th {\n",
       "        vertical-align: top;\n",
       "    }\n",
       "\n",
       "    .dataframe thead th {\n",
       "        text-align: right;\n",
       "    }\n",
       "</style>\n",
       "<table border=\"1\" class=\"dataframe\">\n",
       "  <thead>\n",
       "    <tr style=\"text-align: right;\">\n",
       "      <th></th>\n",
       "      <th>score</th>\n",
       "      <th>joke</th>\n",
       "    </tr>\n",
       "  </thead>\n",
       "  <tbody>\n",
       "    <tr>\n",
       "      <th>59358</th>\n",
       "      <td>13</td>\n",
       "      <td>a man wakes up in a hospital after being in a ...</td>\n",
       "    </tr>\n",
       "    <tr>\n",
       "      <th>175469</th>\n",
       "      <td>1</td>\n",
       "      <td>man walks back into a fish n' chip shop... ......</td>\n",
       "    </tr>\n",
       "    <tr>\n",
       "      <th>78979</th>\n",
       "      <td>0</td>\n",
       "      <td>there are some horrible bastards about there a...</td>\n",
       "    </tr>\n",
       "    <tr>\n",
       "      <th>109895</th>\n",
       "      <td>25</td>\n",
       "      <td>a blind man walks into a bar with a seeing eye...</td>\n",
       "    </tr>\n",
       "    <tr>\n",
       "      <th>188599</th>\n",
       "      <td>0</td>\n",
       "      <td>escalators can never rest... ...can be the onl...</td>\n",
       "    </tr>\n",
       "    <tr>\n",
       "      <th>...</th>\n",
       "      <td>...</td>\n",
       "      <td>...</td>\n",
       "    </tr>\n",
       "    <tr>\n",
       "      <th>164802</th>\n",
       "      <td>0</td>\n",
       "      <td>how do you keep a redditor in suspense?</td>\n",
       "    </tr>\n",
       "    <tr>\n",
       "      <th>162165</th>\n",
       "      <td>5</td>\n",
       "      <td>there's a thin line between word and world.</td>\n",
       "    </tr>\n",
       "    <tr>\n",
       "      <th>193482</th>\n",
       "      <td>23</td>\n",
       "      <td>what do you call bears with no ears? b</td>\n",
       "    </tr>\n",
       "    <tr>\n",
       "      <th>176434</th>\n",
       "      <td>60</td>\n",
       "      <td>i will not sleep until i find a cure for my in...</td>\n",
       "    </tr>\n",
       "    <tr>\n",
       "      <th>99051</th>\n",
       "      <td>0</td>\n",
       "      <td>everything is made in china. but babies are ma...</td>\n",
       "    </tr>\n",
       "  </tbody>\n",
       "</table>\n",
       "<p>148969 rows × 2 columns</p>\n",
       "</div>"
      ],
      "text/plain": [
       "        score                                               joke\n",
       "59358      13  a man wakes up in a hospital after being in a ...\n",
       "175469      1  man walks back into a fish n' chip shop... ......\n",
       "78979       0  there are some horrible bastards about there a...\n",
       "109895     25  a blind man walks into a bar with a seeing eye...\n",
       "188599      0  escalators can never rest... ...can be the onl...\n",
       "...       ...                                                ...\n",
       "164802      0          how do you keep a redditor in suspense?  \n",
       "162165      5      there's a thin line between word and world.  \n",
       "193482     23             what do you call bears with no ears? b\n",
       "176434     60  i will not sleep until i find a cure for my in...\n",
       "99051       0  everything is made in china. but babies are ma...\n",
       "\n",
       "[148969 rows x 2 columns]"
      ]
     },
     "execution_count": 30,
     "metadata": {},
     "output_type": "execute_result"
    }
   ],
   "source": [
    "df[\"joke\"] = (df[\"title\"] + \" \" + df[\"body\"]).map(lambda x: x.lower())\n",
    "df = df.drop([\"title\", \"body\"], axis=1)\n",
    "df"
   ]
  },
  {
   "cell_type": "code",
   "execution_count": 31,
   "metadata": {},
   "outputs": [],
   "source": [
    "from sklearn.feature_extraction.text import CountVectorizer, TfidfVectorizer"
   ]
  },
  {
   "cell_type": "markdown",
   "metadata": {},
   "source": [
    "Our model will only understand numbers, so we need to convert the text."
   ]
  },
  {
   "cell_type": "code",
   "execution_count": 32,
   "metadata": {},
   "outputs": [
    {
     "data": {
      "text/plain": [
       "<148969x5000 sparse matrix of type '<class 'numpy.float64'>'\n",
       "\twith 2004357 stored elements in Compressed Sparse Row format>"
      ]
     },
     "execution_count": 32,
     "metadata": {},
     "output_type": "execute_result"
    }
   ],
   "source": [
    "tfidf_vectorizer = TfidfVectorizer(max_df=0.95, min_df=2, max_features=feature_num)\n",
    "bows = tfidf_vectorizer.fit_transform(df[\"joke\"])\n",
    "bows"
   ]
  },
  {
   "cell_type": "markdown",
   "metadata": {},
   "source": [
    "Right now we have a lot of different scores for the texts. While we could build a regression model on this, when I tried with some basic models (SVR, SGD) it didn't perform well, so I'm going to transform the scores into fewer classes and use classfification."
   ]
  },
  {
   "cell_type": "code",
   "execution_count": 33,
   "metadata": {},
   "outputs": [
    {
     "data": {
      "text/plain": [
       "2635"
      ]
     },
     "execution_count": 33,
     "metadata": {},
     "output_type": "execute_result"
    }
   ],
   "source": [
    "len(df[\"score\"].unique())"
   ]
  },
  {
   "cell_type": "code",
   "execution_count": 34,
   "metadata": {},
   "outputs": [
    {
     "data": {
      "image/png": "[encoded data removed]",
      "text/plain": [
       "<Figure size 1440x360 with 1 Axes>"
      ]
     },
     "metadata": {
      "needs_background": "light"
     },
     "output_type": "display_data"
    }
   ],
   "source": [
    "_, ax = plt.subplots(1,1, figsize=(20,5))\n",
    "ax.hist(df[\"score\"], 100, color='crimson')\n",
    "ax.set_title(\"Title character length\")\n",
    "ax.set_xlabel(\"Character length\");"
   ]
  },
  {
   "cell_type": "markdown",
   "metadata": {},
   "source": [
    "This histogram tells us that most scoes are small. <br> Let's take this into account when transforming the scores."
   ]
  },
  {
   "cell_type": "code",
   "execution_count": 35,
   "metadata": {},
   "outputs": [],
   "source": [
    "def score_transform(x):\n",
    "    if x < 5000:\n",
    "        return int(x / 100)\n",
    "    elif x < 20000:\n",
    "        return -1\n",
    "    else:\n",
    "        return -2        "
   ]
  },
  {
   "cell_type": "code",
   "execution_count": 36,
   "metadata": {},
   "outputs": [
    {
     "data": {
      "text/plain": [
       "52"
      ]
     },
     "execution_count": 36,
     "metadata": {},
     "output_type": "execute_result"
    }
   ],
   "source": [
    "score_transformed = df[\"score\"].map(lambda x: score_transform(x) + 2) # we add 2 so our smallest value will be 0\n",
    "len(score_transformed.unique())"
   ]
  },
  {
   "cell_type": "markdown",
   "metadata": {},
   "source": [
    "This means that we have 52 classes\n",
    "## Split the data into train and test set"
   ]
  },
  {
   "cell_type": "code",
   "execution_count": 37,
   "metadata": {},
   "outputs": [],
   "source": [
    "from sklearn.model_selection import train_test_split\n",
    "X_train, X_test, y_train, y_test = train_test_split(bows, score_transformed, test_size=0.2, random_state=42, shuffle=True)"
   ]
  },
  {
   "cell_type": "code",
   "execution_count": 38,
   "metadata": {},
   "outputs": [
    {
     "data": {
      "text/plain": [
       "((119175, 5000), 119175, (29794, 5000), 29794)"
      ]
     },
     "execution_count": 38,
     "metadata": {},
     "output_type": "execute_result"
    }
   ],
   "source": [
    "X_train.shape, len(y_train), X_test.shape, len(y_test)"
   ]
  },
  {
   "cell_type": "markdown",
   "metadata": {},
   "source": [
    "Reducing the amount of data for quicker training"
   ]
  },
  {
   "cell_type": "code",
   "execution_count": 39,
   "metadata": {},
   "outputs": [],
   "source": [
    "X_train = X_train[:10000]\n",
    "y_train = y_train[:10000]\n",
    "X_test = X_test[:10000]\n",
    "y_test = y_test[:10000]"
   ]
  },
  {
   "cell_type": "code",
   "execution_count": 40,
   "metadata": {},
   "outputs": [
    {
     "data": {
      "text/plain": [
       "((10000, 5000), 10000, (10000, 5000), 10000)"
      ]
     },
     "execution_count": 40,
     "metadata": {},
     "output_type": "execute_result"
    }
   ],
   "source": [
    "X_train.shape, len(y_train), X_test.shape, len(y_test)"
   ]
  },
  {
   "cell_type": "markdown",
   "metadata": {},
   "source": [
    "## Support vector machine"
   ]
  },
  {
   "cell_type": "code",
   "execution_count": 41,
   "metadata": {},
   "outputs": [
    {
     "data": {
      "text/plain": [
       "0.9244"
      ]
     },
     "execution_count": 41,
     "metadata": {},
     "output_type": "execute_result"
    }
   ],
   "source": [
    "from sklearn.model_selection import train_test_split, cross_val_score, KFold, ShuffleSplit, RandomizedSearchCV\n",
    "from sklearn import svm\n",
    "svc = svm.LinearSVC()\n",
    "svc.fit(X_train, y_train)\n",
    "svc.score(X_test, y_test)"
   ]
  },
  {
   "cell_type": "markdown",
   "metadata": {},
   "source": [
    "## Randomized search"
   ]
  },
  {
   "cell_type": "code",
   "execution_count": 42,
   "metadata": {},
   "outputs": [],
   "source": [
    "param_grid = {'C': [0.01, 0.02, 0.03, 0.1, 1, 10], 'loss': ['hinge', 'squared_hinge']}"
   ]
  },
  {
   "cell_type": "code",
   "execution_count": 43,
   "metadata": {},
   "outputs": [
    {
     "name": "stderr",
     "output_type": "stream",
     "text": [
      "/home/kevin/miniconda3/envs/dataS/lib/python3.8/site-packages/sklearn/model_selection/_split.py:670: UserWarning: The least populated class in y has only 1 members, which is less than n_splits=5.\n",
      "  warnings.warn((\"The least populated class in y has only %d\"\n"
     ]
    },
    {
     "data": {
      "text/plain": [
       "RandomizedSearchCV(estimator=LinearSVC(), n_jobs=-1,\n",
       "                   param_distributions={'C': [0.01, 0.02, 0.03, 0.1, 1, 10],\n",
       "                                        'loss': ['hinge', 'squared_hinge']})"
      ]
     },
     "execution_count": 43,
     "metadata": {},
     "output_type": "execute_result"
    }
   ],
   "source": [
    "svc = svm.LinearSVC()\n",
    "random_search = RandomizedSearchCV(svc, param_grid, n_iter=10, n_jobs=-1, return_train_score=False)\n",
    "random_search.fit(X_train, y_train)"
   ]
  },
  {
   "cell_type": "code",
   "execution_count": 44,
   "metadata": {},
   "outputs": [
    {
     "data": {
      "text/html": [
       "<div>\n",
       "<style scoped>\n",
       "    .dataframe tbody tr th:only-of-type {\n",
       "        vertical-align: middle;\n",
       "    }\n",
       "\n",
       "    .dataframe tbody tr th {\n",
       "        vertical-align: top;\n",
       "    }\n",
       "\n",
       "    .dataframe thead th {\n",
       "        text-align: right;\n",
       "    }\n",
       "</style>\n",
       "<table border=\"1\" class=\"dataframe\">\n",
       "  <thead>\n",
       "    <tr style=\"text-align: right;\">\n",
       "      <th></th>\n",
       "      <th>mean_fit_time</th>\n",
       "      <th>std_fit_time</th>\n",
       "      <th>mean_score_time</th>\n",
       "      <th>std_score_time</th>\n",
       "      <th>param_loss</th>\n",
       "      <th>param_C</th>\n",
       "      <th>params</th>\n",
       "      <th>split0_test_score</th>\n",
       "      <th>split1_test_score</th>\n",
       "      <th>split2_test_score</th>\n",
       "      <th>split3_test_score</th>\n",
       "      <th>split4_test_score</th>\n",
       "      <th>mean_test_score</th>\n",
       "      <th>std_test_score</th>\n",
       "      <th>rank_test_score</th>\n",
       "    </tr>\n",
       "  </thead>\n",
       "  <tbody>\n",
       "    <tr>\n",
       "      <th>0</th>\n",
       "      <td>0.475433</td>\n",
       "      <td>0.020505</td>\n",
       "      <td>0.004848</td>\n",
       "      <td>0.000296</td>\n",
       "      <td>squared_hinge</td>\n",
       "      <td>0.1</td>\n",
       "      <td>{'loss': 'squared_hinge', 'C': 0.1}</td>\n",
       "      <td>0.9305</td>\n",
       "      <td>0.9305</td>\n",
       "      <td>0.9305</td>\n",
       "      <td>0.9305</td>\n",
       "      <td>0.9310</td>\n",
       "      <td>0.9306</td>\n",
       "      <td>0.000200</td>\n",
       "      <td>1</td>\n",
       "    </tr>\n",
       "    <tr>\n",
       "      <th>1</th>\n",
       "      <td>0.539851</td>\n",
       "      <td>0.015803</td>\n",
       "      <td>0.003671</td>\n",
       "      <td>0.000405</td>\n",
       "      <td>squared_hinge</td>\n",
       "      <td>1</td>\n",
       "      <td>{'loss': 'squared_hinge', 'C': 1}</td>\n",
       "      <td>0.9295</td>\n",
       "      <td>0.9300</td>\n",
       "      <td>0.9300</td>\n",
       "      <td>0.9295</td>\n",
       "      <td>0.9310</td>\n",
       "      <td>0.9300</td>\n",
       "      <td>0.000548</td>\n",
       "      <td>9</td>\n",
       "    </tr>\n",
       "    <tr>\n",
       "      <th>2</th>\n",
       "      <td>0.717089</td>\n",
       "      <td>0.032702</td>\n",
       "      <td>0.003613</td>\n",
       "      <td>0.000130</td>\n",
       "      <td>hinge</td>\n",
       "      <td>0.02</td>\n",
       "      <td>{'loss': 'hinge', 'C': 0.02}</td>\n",
       "      <td>0.9305</td>\n",
       "      <td>0.9305</td>\n",
       "      <td>0.9305</td>\n",
       "      <td>0.9305</td>\n",
       "      <td>0.9310</td>\n",
       "      <td>0.9306</td>\n",
       "      <td>0.000200</td>\n",
       "      <td>1</td>\n",
       "    </tr>\n",
       "    <tr>\n",
       "      <th>3</th>\n",
       "      <td>0.628273</td>\n",
       "      <td>0.026235</td>\n",
       "      <td>0.003479</td>\n",
       "      <td>0.000182</td>\n",
       "      <td>hinge</td>\n",
       "      <td>0.01</td>\n",
       "      <td>{'loss': 'hinge', 'C': 0.01}</td>\n",
       "      <td>0.9305</td>\n",
       "      <td>0.9305</td>\n",
       "      <td>0.9305</td>\n",
       "      <td>0.9305</td>\n",
       "      <td>0.9310</td>\n",
       "      <td>0.9306</td>\n",
       "      <td>0.000200</td>\n",
       "      <td>1</td>\n",
       "    </tr>\n",
       "    <tr>\n",
       "      <th>4</th>\n",
       "      <td>0.539912</td>\n",
       "      <td>0.014484</td>\n",
       "      <td>0.003520</td>\n",
       "      <td>0.000063</td>\n",
       "      <td>squared_hinge</td>\n",
       "      <td>0.02</td>\n",
       "      <td>{'loss': 'squared_hinge', 'C': 0.02}</td>\n",
       "      <td>0.9305</td>\n",
       "      <td>0.9305</td>\n",
       "      <td>0.9305</td>\n",
       "      <td>0.9305</td>\n",
       "      <td>0.9310</td>\n",
       "      <td>0.9306</td>\n",
       "      <td>0.000200</td>\n",
       "      <td>1</td>\n",
       "    </tr>\n",
       "    <tr>\n",
       "      <th>5</th>\n",
       "      <td>0.838084</td>\n",
       "      <td>0.085973</td>\n",
       "      <td>0.003669</td>\n",
       "      <td>0.000238</td>\n",
       "      <td>hinge</td>\n",
       "      <td>0.1</td>\n",
       "      <td>{'loss': 'hinge', 'C': 0.1}</td>\n",
       "      <td>0.9305</td>\n",
       "      <td>0.9305</td>\n",
       "      <td>0.9305</td>\n",
       "      <td>0.9305</td>\n",
       "      <td>0.9310</td>\n",
       "      <td>0.9306</td>\n",
       "      <td>0.000200</td>\n",
       "      <td>1</td>\n",
       "    </tr>\n",
       "    <tr>\n",
       "      <th>6</th>\n",
       "      <td>0.536070</td>\n",
       "      <td>0.012056</td>\n",
       "      <td>0.003779</td>\n",
       "      <td>0.000166</td>\n",
       "      <td>squared_hinge</td>\n",
       "      <td>0.03</td>\n",
       "      <td>{'loss': 'squared_hinge', 'C': 0.03}</td>\n",
       "      <td>0.9305</td>\n",
       "      <td>0.9305</td>\n",
       "      <td>0.9305</td>\n",
       "      <td>0.9305</td>\n",
       "      <td>0.9310</td>\n",
       "      <td>0.9306</td>\n",
       "      <td>0.000200</td>\n",
       "      <td>1</td>\n",
       "    </tr>\n",
       "    <tr>\n",
       "      <th>7</th>\n",
       "      <td>0.549881</td>\n",
       "      <td>0.015583</td>\n",
       "      <td>0.003529</td>\n",
       "      <td>0.000146</td>\n",
       "      <td>squared_hinge</td>\n",
       "      <td>0.01</td>\n",
       "      <td>{'loss': 'squared_hinge', 'C': 0.01}</td>\n",
       "      <td>0.9305</td>\n",
       "      <td>0.9305</td>\n",
       "      <td>0.9305</td>\n",
       "      <td>0.9305</td>\n",
       "      <td>0.9310</td>\n",
       "      <td>0.9306</td>\n",
       "      <td>0.000200</td>\n",
       "      <td>1</td>\n",
       "    </tr>\n",
       "    <tr>\n",
       "      <th>8</th>\n",
       "      <td>0.757817</td>\n",
       "      <td>0.016652</td>\n",
       "      <td>0.003536</td>\n",
       "      <td>0.000135</td>\n",
       "      <td>hinge</td>\n",
       "      <td>0.03</td>\n",
       "      <td>{'loss': 'hinge', 'C': 0.03}</td>\n",
       "      <td>0.9305</td>\n",
       "      <td>0.9305</td>\n",
       "      <td>0.9305</td>\n",
       "      <td>0.9305</td>\n",
       "      <td>0.9310</td>\n",
       "      <td>0.9306</td>\n",
       "      <td>0.000200</td>\n",
       "      <td>1</td>\n",
       "    </tr>\n",
       "    <tr>\n",
       "      <th>9</th>\n",
       "      <td>1.042975</td>\n",
       "      <td>0.067158</td>\n",
       "      <td>0.002706</td>\n",
       "      <td>0.000363</td>\n",
       "      <td>hinge</td>\n",
       "      <td>10</td>\n",
       "      <td>{'loss': 'hinge', 'C': 10}</td>\n",
       "      <td>0.9045</td>\n",
       "      <td>0.9050</td>\n",
       "      <td>0.9095</td>\n",
       "      <td>0.9020</td>\n",
       "      <td>0.9055</td>\n",
       "      <td>0.9053</td>\n",
       "      <td>0.002421</td>\n",
       "      <td>10</td>\n",
       "    </tr>\n",
       "  </tbody>\n",
       "</table>\n",
       "</div>"
      ],
      "text/plain": [
       "   mean_fit_time  std_fit_time  mean_score_time  std_score_time  \\\n",
       "0       0.475433      0.020505         0.004848        0.000296   \n",
       "1       0.539851      0.015803         0.003671        0.000405   \n",
       "2       0.717089      0.032702         0.003613        0.000130   \n",
       "3       0.628273      0.026235         0.003479        0.000182   \n",
       "4       0.539912      0.014484         0.003520        0.000063   \n",
       "5       0.838084      0.085973         0.003669        0.000238   \n",
       "6       0.536070      0.012056         0.003779        0.000166   \n",
       "7       0.549881      0.015583         0.003529        0.000146   \n",
       "8       0.757817      0.016652         0.003536        0.000135   \n",
       "9       1.042975      0.067158         0.002706        0.000363   \n",
       "\n",
       "      param_loss param_C                                params  \\\n",
       "0  squared_hinge     0.1   {'loss': 'squared_hinge', 'C': 0.1}   \n",
       "1  squared_hinge       1     {'loss': 'squared_hinge', 'C': 1}   \n",
       "2          hinge    0.02          {'loss': 'hinge', 'C': 0.02}   \n",
       "3          hinge    0.01          {'loss': 'hinge', 'C': 0.01}   \n",
       "4  squared_hinge    0.02  {'loss': 'squared_hinge', 'C': 0.02}   \n",
       "5          hinge     0.1           {'loss': 'hinge', 'C': 0.1}   \n",
       "6  squared_hinge    0.03  {'loss': 'squared_hinge', 'C': 0.03}   \n",
       "7  squared_hinge    0.01  {'loss': 'squared_hinge', 'C': 0.01}   \n",
       "8          hinge    0.03          {'loss': 'hinge', 'C': 0.03}   \n",
       "9          hinge      10            {'loss': 'hinge', 'C': 10}   \n",
       "\n",
       "   split0_test_score  split1_test_score  split2_test_score  split3_test_score  \\\n",
       "0             0.9305             0.9305             0.9305             0.9305   \n",
       "1             0.9295             0.9300             0.9300             0.9295   \n",
       "2             0.9305             0.9305             0.9305             0.9305   \n",
       "3             0.9305             0.9305             0.9305             0.9305   \n",
       "4             0.9305             0.9305             0.9305             0.9305   \n",
       "5             0.9305             0.9305             0.9305             0.9305   \n",
       "6             0.9305             0.9305             0.9305             0.9305   \n",
       "7             0.9305             0.9305             0.9305             0.9305   \n",
       "8             0.9305             0.9305             0.9305             0.9305   \n",
       "9             0.9045             0.9050             0.9095             0.9020   \n",
       "\n",
       "   split4_test_score  mean_test_score  std_test_score  rank_test_score  \n",
       "0             0.9310           0.9306        0.000200                1  \n",
       "1             0.9310           0.9300        0.000548                9  \n",
       "2             0.9310           0.9306        0.000200                1  \n",
       "3             0.9310           0.9306        0.000200                1  \n",
       "4             0.9310           0.9306        0.000200                1  \n",
       "5             0.9310           0.9306        0.000200                1  \n",
       "6             0.9310           0.9306        0.000200                1  \n",
       "7             0.9310           0.9306        0.000200                1  \n",
       "8             0.9310           0.9306        0.000200                1  \n",
       "9             0.9055           0.9053        0.002421               10  "
      ]
     },
     "execution_count": 44,
     "metadata": {},
     "output_type": "execute_result"
    }
   ],
   "source": [
    "pd.DataFrame(random_search.cv_results_)"
   ]
  },
  {
   "cell_type": "markdown",
   "metadata": {},
   "source": [
    "Seems like the best parameters are 0.01 with hinge loss"
   ]
  },
  {
   "cell_type": "code",
   "execution_count": 45,
   "metadata": {},
   "outputs": [
    {
     "name": "stdout",
     "output_type": "stream",
     "text": [
      "svc accuracy:  0.9255\n"
     ]
    }
   ],
   "source": [
    "svc = svm.LinearSVC(loss=\"hinge\", C=0.01)\n",
    "svc.fit(X_train, y_train)\n",
    "svc.score(X_test, y_test)\n",
    "print(\"svc accuracy: \",svc.score(X_test, y_test))"
   ]
  },
  {
   "cell_type": "markdown",
   "metadata": {},
   "source": [
    "## Logistic regression"
   ]
  },
  {
   "cell_type": "code",
   "execution_count": 46,
   "metadata": {},
   "outputs": [
    {
     "name": "stdout",
     "output_type": "stream",
     "text": [
      "lr accuracy:  0.9255\n"
     ]
    }
   ],
   "source": [
    "from sklearn.linear_model import LogisticRegression\n",
    "lr = LogisticRegression()\n",
    "lr.fit(X_train,y_train)\n",
    "print(\"lr accuracy: \",lr.score(X_test,y_test))"
   ]
  },
  {
   "cell_type": "markdown",
   "metadata": {},
   "source": [
    "This gives similar results to the svm"
   ]
  },
  {
   "cell_type": "markdown",
   "metadata": {},
   "source": [
    "## Now let's see how many points our generated jokes would get\n",
    "First we need to update our generator to generate full jokes (now it only generates the body)"
   ]
  },
  {
   "cell_type": "code",
   "execution_count": 47,
   "metadata": {},
   "outputs": [],
   "source": [
    "full_token = (df[\"joke\"][:feature_num].map(nltk.word_tokenize)).map(lambda x: x + [\"\\END\"])\n",
    "full_all_words = [word for token in full_token.values for word in token]\n",
    "full_all_words_filtered = [word for word in full_all_words if word.isalpha() or word in [\"!\", \"?\", \".\", \"\\END\"]]\n",
    "trigrams = nltk.trigrams(full_all_words_filtered)\n",
    "trigrams = (((w1, w2), w3) for w1, w2, w3 in trigrams)\n",
    "cond_pd = nltk.ConditionalProbDist(nltk.ConditionalFreqDist(trigrams), nltk.MLEProbDist)"
   ]
  },
  {
   "cell_type": "code",
   "execution_count": 48,
   "metadata": {},
   "outputs": [],
   "source": [
    "def generate_jokes(first, second, num=3):\n",
    "    jokes = []\n",
    "    for i in range(num):\n",
    "        text = ' '.join(generate_text(cond_pd, (first, second), -1))\n",
    "        jokes.append(text)\n",
    "    return jokes"
   ]
  },
  {
   "cell_type": "code",
   "execution_count": 49,
   "metadata": {},
   "outputs": [
    {
     "data": {
      "text/plain": [
       "['once was a muslim man were not the first time doc ? the waitress had a dog walks into a bar the bartender says it getting wetter and wetter . i asked him which site he used to wake up the lynard skynard ! ! ! ! ! what should you at ? the wise old indian chief replies my penis moan',\n",
       " 'once was a website called reddit there once was a blast ! im no chemist . this was actually the subject line of spots from my childhood event and this dog came running over and punched him straight in the river . pete fell in who was that all the difference between instant and real coffee is and it was his duty . what do eskimos and tupperware have in common ? i said you are not a pig and a black guy then quickly stabs her and says in that starbucks anymore . america is the lock and in front of a forest for a place to blend in . she said oh well no more food the only malaysian airlines flight and now cameras everywhere',\n",
       " 'once was a woman goes to see who can get closer and closer but will look like ? and i was digging a hole in the uk . its definitely not a full of coffins i tried too . says to the dude punched him straight in the sky ? the patient asked his mother and her contractions are going for little of the chinese restaurant he ordered a big pussy . so she was seeing a psychiatrist two plumbers and a cheetah . the second says well i replied no your generation relies too much on technology ! then jesus rick ! ? aye you think the cup why are you leaving me ? man maybe you could either submit a part in a fish gasping for air . the eye doctor and the fact that i did .']"
      ]
     },
     "execution_count": 49,
     "metadata": {},
     "output_type": "execute_result"
    }
   ],
   "source": [
    "some_jokes = generate_jokes(\"once\", \"was\")\n",
    "some_jokes"
   ]
  },
  {
   "cell_type": "code",
   "execution_count": 50,
   "metadata": {},
   "outputs": [],
   "source": [
    "jokes_test = tfidf_vectorizer.transform(some_jokes)"
   ]
  },
  {
   "cell_type": "code",
   "execution_count": 51,
   "metadata": {},
   "outputs": [
    {
     "data": {
      "text/plain": [
       "array([2, 2, 2])"
      ]
     },
     "execution_count": 51,
     "metadata": {},
     "output_type": "execute_result"
    }
   ],
   "source": [
    "svc.predict(jokes_test)"
   ]
  },
  {
   "cell_type": "markdown",
   "metadata": {},
   "source": [
    "The worst jokes are put into class 2"
   ]
  },
  {
   "cell_type": "code",
   "execution_count": 52,
   "metadata": {},
   "outputs": [
    {
     "name": "stdout",
     "output_type": "stream",
     "text": [
      "No good jokes found\n"
     ]
    }
   ],
   "source": [
    "i = 0\n",
    "bad_joke = True\n",
    "while(i < 1000):\n",
    "    some_jokes = generate_jokes(\"once\", \"was\")\n",
    "    jokes_test = tfidf_vectorizer.transform(some_jokes)\n",
    "    results = svc.predict(jokes_test)\n",
    "    bad_joke = max(results) == 2\n",
    "    if(not bad_joke):\n",
    "        print(\"Found a good one\\n\")\n",
    "        for j in some_jokes:\n",
    "            print(j + \"\\n\\n\")\n",
    "        print(results)\n",
    "        break\n",
    "    i += 1\n",
    "if i >= 1000:\n",
    "    print(\"No good jokes found\")"
   ]
  },
  {
   "cell_type": "markdown",
   "metadata": {},
   "source": [
    "Well, seems like our generator won't make the best jokes for now."
   ]
  },
  {
   "cell_type": "code",
   "execution_count": null,
   "metadata": {},
   "outputs": [],
   "source": []
  }
 ],
 "metadata": {
  "kernelspec": {
   "display_name": "Python 3",
   "language": "python",
   "name": "python3"
  },
  "language_info": {
   "codemirror_mode": {
    "name": "ipython",
    "version": 3
   },
   "file_extension": ".py",
   "mimetype": "text/x-python",
   "name": "python",
   "nbconvert_exporter": "python",
   "pygments_lexer": "ipython3",
   "version": "3.8.5"
  }
 },
 "nbformat": 4,
 "nbformat_minor": 4
}
